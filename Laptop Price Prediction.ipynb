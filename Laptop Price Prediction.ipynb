{
 "cells": [
  {
   "cell_type": "markdown",
   "id": "a2f8eb46",
   "metadata": {
    "toc": true
   },
   "source": [
    "<h1>Table of Contents<span class=\"tocSkip\"></span></h1>\n",
    "<div class=\"toc\"><ul class=\"toc-item\"></ul></div>"
   ]
  },
  {
   "cell_type": "code",
   "execution_count": 546,
   "id": "4552d304",
   "metadata": {
    "ExecuteTime": {
     "end_time": "2023-02-22T06:17:03.167298Z",
     "start_time": "2023-02-22T06:17:03.046837Z"
    }
   },
   "outputs": [],
   "source": [
    "import pandas\n",
    "import numpy\n",
    "import matplotlib.pyplot as plt\n",
    "%matplotlib inline\n",
    "import seaborn as sns"
   ]
  },
  {
   "cell_type": "code",
   "execution_count": 547,
   "id": "ddbd9ef6",
   "metadata": {
    "ExecuteTime": {
     "end_time": "2023-02-22T06:17:03.665474Z",
     "start_time": "2023-02-22T06:17:03.181763Z"
    }
   },
   "outputs": [],
   "source": [
    "data = pandas.read_csv('./data/laptop_price.csv',encoding='latin-1')"
   ]
  },
  {
   "cell_type": "code",
   "execution_count": 548,
   "id": "6555341a",
   "metadata": {
    "ExecuteTime": {
     "end_time": "2023-02-22T06:17:03.813484Z",
     "start_time": "2023-02-22T06:17:03.675475Z"
    }
   },
   "outputs": [
    {
     "data": {
      "text/html": [
       "<div>\n",
       "<style scoped>\n",
       "    .dataframe tbody tr th:only-of-type {\n",
       "        vertical-align: middle;\n",
       "    }\n",
       "\n",
       "    .dataframe tbody tr th {\n",
       "        vertical-align: top;\n",
       "    }\n",
       "\n",
       "    .dataframe thead th {\n",
       "        text-align: right;\n",
       "    }\n",
       "</style>\n",
       "<table border=\"1\" class=\"dataframe\">\n",
       "  <thead>\n",
       "    <tr style=\"text-align: right;\">\n",
       "      <th></th>\n",
       "      <th>laptop_ID</th>\n",
       "      <th>Company</th>\n",
       "      <th>Product</th>\n",
       "      <th>TypeName</th>\n",
       "      <th>Inches</th>\n",
       "      <th>ScreenResolution</th>\n",
       "      <th>Cpu</th>\n",
       "      <th>Ram</th>\n",
       "      <th>Memory</th>\n",
       "      <th>Gpu</th>\n",
       "      <th>OpSys</th>\n",
       "      <th>Weight</th>\n",
       "      <th>Price_euros</th>\n",
       "    </tr>\n",
       "  </thead>\n",
       "  <tbody>\n",
       "    <tr>\n",
       "      <th>0</th>\n",
       "      <td>1</td>\n",
       "      <td>Apple</td>\n",
       "      <td>MacBook Pro</td>\n",
       "      <td>Ultrabook</td>\n",
       "      <td>13.3</td>\n",
       "      <td>IPS Panel Retina Display 2560x1600</td>\n",
       "      <td>Intel Core i5 2.3GHz</td>\n",
       "      <td>8GB</td>\n",
       "      <td>128GB SSD</td>\n",
       "      <td>Intel Iris Plus Graphics 640</td>\n",
       "      <td>macOS</td>\n",
       "      <td>1.37kg</td>\n",
       "      <td>1339.69</td>\n",
       "    </tr>\n",
       "    <tr>\n",
       "      <th>1</th>\n",
       "      <td>2</td>\n",
       "      <td>Apple</td>\n",
       "      <td>Macbook Air</td>\n",
       "      <td>Ultrabook</td>\n",
       "      <td>13.3</td>\n",
       "      <td>1440x900</td>\n",
       "      <td>Intel Core i5 1.8GHz</td>\n",
       "      <td>8GB</td>\n",
       "      <td>128GB Flash Storage</td>\n",
       "      <td>Intel HD Graphics 6000</td>\n",
       "      <td>macOS</td>\n",
       "      <td>1.34kg</td>\n",
       "      <td>898.94</td>\n",
       "    </tr>\n",
       "    <tr>\n",
       "      <th>2</th>\n",
       "      <td>3</td>\n",
       "      <td>HP</td>\n",
       "      <td>250 G6</td>\n",
       "      <td>Notebook</td>\n",
       "      <td>15.6</td>\n",
       "      <td>Full HD 1920x1080</td>\n",
       "      <td>Intel Core i5 7200U 2.5GHz</td>\n",
       "      <td>8GB</td>\n",
       "      <td>256GB SSD</td>\n",
       "      <td>Intel HD Graphics 620</td>\n",
       "      <td>No OS</td>\n",
       "      <td>1.86kg</td>\n",
       "      <td>575.00</td>\n",
       "    </tr>\n",
       "    <tr>\n",
       "      <th>3</th>\n",
       "      <td>4</td>\n",
       "      <td>Apple</td>\n",
       "      <td>MacBook Pro</td>\n",
       "      <td>Ultrabook</td>\n",
       "      <td>15.4</td>\n",
       "      <td>IPS Panel Retina Display 2880x1800</td>\n",
       "      <td>Intel Core i7 2.7GHz</td>\n",
       "      <td>16GB</td>\n",
       "      <td>512GB SSD</td>\n",
       "      <td>AMD Radeon Pro 455</td>\n",
       "      <td>macOS</td>\n",
       "      <td>1.83kg</td>\n",
       "      <td>2537.45</td>\n",
       "    </tr>\n",
       "    <tr>\n",
       "      <th>4</th>\n",
       "      <td>5</td>\n",
       "      <td>Apple</td>\n",
       "      <td>MacBook Pro</td>\n",
       "      <td>Ultrabook</td>\n",
       "      <td>13.3</td>\n",
       "      <td>IPS Panel Retina Display 2560x1600</td>\n",
       "      <td>Intel Core i5 3.1GHz</td>\n",
       "      <td>8GB</td>\n",
       "      <td>256GB SSD</td>\n",
       "      <td>Intel Iris Plus Graphics 650</td>\n",
       "      <td>macOS</td>\n",
       "      <td>1.37kg</td>\n",
       "      <td>1803.60</td>\n",
       "    </tr>\n",
       "    <tr>\n",
       "      <th>...</th>\n",
       "      <td>...</td>\n",
       "      <td>...</td>\n",
       "      <td>...</td>\n",
       "      <td>...</td>\n",
       "      <td>...</td>\n",
       "      <td>...</td>\n",
       "      <td>...</td>\n",
       "      <td>...</td>\n",
       "      <td>...</td>\n",
       "      <td>...</td>\n",
       "      <td>...</td>\n",
       "      <td>...</td>\n",
       "      <td>...</td>\n",
       "    </tr>\n",
       "    <tr>\n",
       "      <th>1298</th>\n",
       "      <td>1316</td>\n",
       "      <td>Lenovo</td>\n",
       "      <td>Yoga 500-14ISK</td>\n",
       "      <td>2 in 1 Convertible</td>\n",
       "      <td>14.0</td>\n",
       "      <td>IPS Panel Full HD / Touchscreen 1920x1080</td>\n",
       "      <td>Intel Core i7 6500U 2.5GHz</td>\n",
       "      <td>4GB</td>\n",
       "      <td>128GB SSD</td>\n",
       "      <td>Intel HD Graphics 520</td>\n",
       "      <td>Windows 10</td>\n",
       "      <td>1.8kg</td>\n",
       "      <td>638.00</td>\n",
       "    </tr>\n",
       "    <tr>\n",
       "      <th>1299</th>\n",
       "      <td>1317</td>\n",
       "      <td>Lenovo</td>\n",
       "      <td>Yoga 900-13ISK</td>\n",
       "      <td>2 in 1 Convertible</td>\n",
       "      <td>13.3</td>\n",
       "      <td>IPS Panel Quad HD+ / Touchscreen 3200x1800</td>\n",
       "      <td>Intel Core i7 6500U 2.5GHz</td>\n",
       "      <td>16GB</td>\n",
       "      <td>512GB SSD</td>\n",
       "      <td>Intel HD Graphics 520</td>\n",
       "      <td>Windows 10</td>\n",
       "      <td>1.3kg</td>\n",
       "      <td>1499.00</td>\n",
       "    </tr>\n",
       "    <tr>\n",
       "      <th>1300</th>\n",
       "      <td>1318</td>\n",
       "      <td>Lenovo</td>\n",
       "      <td>IdeaPad 100S-14IBR</td>\n",
       "      <td>Notebook</td>\n",
       "      <td>14.0</td>\n",
       "      <td>1366x768</td>\n",
       "      <td>Intel Celeron Dual Core N3050 1.6GHz</td>\n",
       "      <td>2GB</td>\n",
       "      <td>64GB Flash Storage</td>\n",
       "      <td>Intel HD Graphics</td>\n",
       "      <td>Windows 10</td>\n",
       "      <td>1.5kg</td>\n",
       "      <td>229.00</td>\n",
       "    </tr>\n",
       "    <tr>\n",
       "      <th>1301</th>\n",
       "      <td>1319</td>\n",
       "      <td>HP</td>\n",
       "      <td>15-AC110nv (i7-6500U/6GB/1TB/Radeon</td>\n",
       "      <td>Notebook</td>\n",
       "      <td>15.6</td>\n",
       "      <td>1366x768</td>\n",
       "      <td>Intel Core i7 6500U 2.5GHz</td>\n",
       "      <td>6GB</td>\n",
       "      <td>1TB HDD</td>\n",
       "      <td>AMD Radeon R5 M330</td>\n",
       "      <td>Windows 10</td>\n",
       "      <td>2.19kg</td>\n",
       "      <td>764.00</td>\n",
       "    </tr>\n",
       "    <tr>\n",
       "      <th>1302</th>\n",
       "      <td>1320</td>\n",
       "      <td>Asus</td>\n",
       "      <td>X553SA-XX031T (N3050/4GB/500GB/W10)</td>\n",
       "      <td>Notebook</td>\n",
       "      <td>15.6</td>\n",
       "      <td>1366x768</td>\n",
       "      <td>Intel Celeron Dual Core N3050 1.6GHz</td>\n",
       "      <td>4GB</td>\n",
       "      <td>500GB HDD</td>\n",
       "      <td>Intel HD Graphics</td>\n",
       "      <td>Windows 10</td>\n",
       "      <td>2.2kg</td>\n",
       "      <td>369.00</td>\n",
       "    </tr>\n",
       "  </tbody>\n",
       "</table>\n",
       "<p>1303 rows × 13 columns</p>\n",
       "</div>"
      ],
      "text/plain": [
       "      laptop_ID Company                              Product  \\\n",
       "0             1   Apple                          MacBook Pro   \n",
       "1             2   Apple                          Macbook Air   \n",
       "2             3      HP                               250 G6   \n",
       "3             4   Apple                          MacBook Pro   \n",
       "4             5   Apple                          MacBook Pro   \n",
       "...         ...     ...                                  ...   \n",
       "1298       1316  Lenovo                       Yoga 500-14ISK   \n",
       "1299       1317  Lenovo                       Yoga 900-13ISK   \n",
       "1300       1318  Lenovo                   IdeaPad 100S-14IBR   \n",
       "1301       1319      HP  15-AC110nv (i7-6500U/6GB/1TB/Radeon   \n",
       "1302       1320    Asus  X553SA-XX031T (N3050/4GB/500GB/W10)   \n",
       "\n",
       "                TypeName  Inches                            ScreenResolution  \\\n",
       "0              Ultrabook    13.3          IPS Panel Retina Display 2560x1600   \n",
       "1              Ultrabook    13.3                                    1440x900   \n",
       "2               Notebook    15.6                           Full HD 1920x1080   \n",
       "3              Ultrabook    15.4          IPS Panel Retina Display 2880x1800   \n",
       "4              Ultrabook    13.3          IPS Panel Retina Display 2560x1600   \n",
       "...                  ...     ...                                         ...   \n",
       "1298  2 in 1 Convertible    14.0   IPS Panel Full HD / Touchscreen 1920x1080   \n",
       "1299  2 in 1 Convertible    13.3  IPS Panel Quad HD+ / Touchscreen 3200x1800   \n",
       "1300            Notebook    14.0                                    1366x768   \n",
       "1301            Notebook    15.6                                    1366x768   \n",
       "1302            Notebook    15.6                                    1366x768   \n",
       "\n",
       "                                       Cpu   Ram               Memory  \\\n",
       "0                     Intel Core i5 2.3GHz   8GB            128GB SSD   \n",
       "1                     Intel Core i5 1.8GHz   8GB  128GB Flash Storage   \n",
       "2               Intel Core i5 7200U 2.5GHz   8GB            256GB SSD   \n",
       "3                     Intel Core i7 2.7GHz  16GB            512GB SSD   \n",
       "4                     Intel Core i5 3.1GHz   8GB            256GB SSD   \n",
       "...                                    ...   ...                  ...   \n",
       "1298            Intel Core i7 6500U 2.5GHz   4GB            128GB SSD   \n",
       "1299            Intel Core i7 6500U 2.5GHz  16GB            512GB SSD   \n",
       "1300  Intel Celeron Dual Core N3050 1.6GHz   2GB   64GB Flash Storage   \n",
       "1301            Intel Core i7 6500U 2.5GHz   6GB              1TB HDD   \n",
       "1302  Intel Celeron Dual Core N3050 1.6GHz   4GB            500GB HDD   \n",
       "\n",
       "                               Gpu       OpSys  Weight  Price_euros  \n",
       "0     Intel Iris Plus Graphics 640       macOS  1.37kg      1339.69  \n",
       "1           Intel HD Graphics 6000       macOS  1.34kg       898.94  \n",
       "2            Intel HD Graphics 620       No OS  1.86kg       575.00  \n",
       "3               AMD Radeon Pro 455       macOS  1.83kg      2537.45  \n",
       "4     Intel Iris Plus Graphics 650       macOS  1.37kg      1803.60  \n",
       "...                            ...         ...     ...          ...  \n",
       "1298         Intel HD Graphics 520  Windows 10   1.8kg       638.00  \n",
       "1299         Intel HD Graphics 520  Windows 10   1.3kg      1499.00  \n",
       "1300             Intel HD Graphics  Windows 10   1.5kg       229.00  \n",
       "1301            AMD Radeon R5 M330  Windows 10  2.19kg       764.00  \n",
       "1302             Intel HD Graphics  Windows 10   2.2kg       369.00  \n",
       "\n",
       "[1303 rows x 13 columns]"
      ]
     },
     "execution_count": 548,
     "metadata": {},
     "output_type": "execute_result"
    }
   ],
   "source": [
    "data"
   ]
  },
  {
   "cell_type": "code",
   "execution_count": 549,
   "id": "aece75ea",
   "metadata": {
    "ExecuteTime": {
     "end_time": "2023-02-22T06:17:03.886475Z",
     "start_time": "2023-02-22T06:17:03.822473Z"
    }
   },
   "outputs": [
    {
     "name": "stdout",
     "output_type": "stream",
     "text": [
      "<class 'pandas.core.frame.DataFrame'>\n",
      "RangeIndex: 1303 entries, 0 to 1302\n",
      "Data columns (total 13 columns):\n",
      " #   Column            Non-Null Count  Dtype  \n",
      "---  ------            --------------  -----  \n",
      " 0   laptop_ID         1303 non-null   int64  \n",
      " 1   Company           1303 non-null   object \n",
      " 2   Product           1303 non-null   object \n",
      " 3   TypeName          1303 non-null   object \n",
      " 4   Inches            1303 non-null   float64\n",
      " 5   ScreenResolution  1303 non-null   object \n",
      " 6   Cpu               1303 non-null   object \n",
      " 7   Ram               1303 non-null   object \n",
      " 8   Memory            1303 non-null   object \n",
      " 9   Gpu               1303 non-null   object \n",
      " 10  OpSys             1303 non-null   object \n",
      " 11  Weight            1303 non-null   object \n",
      " 12  Price_euros       1303 non-null   float64\n",
      "dtypes: float64(2), int64(1), object(10)\n",
      "memory usage: 132.5+ KB\n"
     ]
    }
   ],
   "source": [
    "data.info()"
   ]
  },
  {
   "cell_type": "code",
   "execution_count": 550,
   "id": "2638c6bc",
   "metadata": {
    "ExecuteTime": {
     "end_time": "2023-02-22T06:17:03.972475Z",
     "start_time": "2023-02-22T06:17:03.904476Z"
    }
   },
   "outputs": [
    {
     "data": {
      "text/plain": [
       "array(['Apple', 'HP', 'Acer', 'Asus', 'Dell', 'Lenovo', 'Chuwi', 'MSI',\n",
       "       'Microsoft', 'Toshiba', 'Huawei', 'Xiaomi', 'Vero', 'Razer',\n",
       "       'Mediacom', 'Samsung', 'Google', 'Fujitsu', 'LG'], dtype=object)"
      ]
     },
     "execution_count": 550,
     "metadata": {},
     "output_type": "execute_result"
    }
   ],
   "source": [
    "data['Company'].unique()"
   ]
  },
  {
   "cell_type": "code",
   "execution_count": 551,
   "id": "3eb82600",
   "metadata": {
    "ExecuteTime": {
     "end_time": "2023-02-22T06:17:04.108476Z",
     "start_time": "2023-02-22T06:17:03.988477Z"
    }
   },
   "outputs": [
    {
     "data": {
      "text/plain": [
       "array(['MacBook Pro', 'Macbook Air', '250 G6', 'Aspire 3',\n",
       "       'ZenBook UX430UN', 'Swift 3', 'Inspiron 3567', 'MacBook 12\"',\n",
       "       'IdeaPad 320-15IKB', 'XPS 13', 'Vivobook E200HA',\n",
       "       'Legion Y520-15IKBN', '255 G6', 'Inspiron 5379',\n",
       "       '15-BS101nv (i7-8550U/8GB/256GB/FHD/W10)', 'MacBook Air',\n",
       "       'Inspiron 5570', 'Latitude 5590', 'ProBook 470', 'LapBook 15.6\"',\n",
       "       'E402WA-GA010T (E2-6110/2GB/32GB/W10)',\n",
       "       '17-ak001nv (A6-9220/4GB/500GB/Radeon', 'IdeaPad 120S-14IAP',\n",
       "       'Inspiron 5770', 'ProBook 450',\n",
       "       'X540UA-DM186 (i3-6006U/4GB/1TB/FHD/Linux)', 'Inspiron 7577',\n",
       "       'X542UQ-GO005 (i5-7200U/8GB/1TB/GeForce', 'Aspire A515-51G',\n",
       "       'Inspiron 7773', 'IdeaPad 320-15ISK', 'Rog Strix',\n",
       "       'X751NV-TY001T (N4200/4GB/1TB/GeForce', 'Yoga Book', 'ProBook 430',\n",
       "       'Inspiron 3576', '15-bs002nv (i3-6006U/4GB/128GB/FHD/W10)',\n",
       "       'VivoBook Max', 'GS73VR 7RG',\n",
       "       'X541UA-DM1897 (i3-6006U/4GB/256GB/FHD/Linux)', 'Vostro 5471',\n",
       "       'IdeaPad 520S-14IKB',\n",
       "       'UX410UA-GV350T (i5-8250U/8GB/256GB/FHD/W10)', 'ZenBook Pro',\n",
       "       'Stream 14-AX040wm', 'V310-15ISK (i5-7200U/4GB/1TB/FHD/W10)',\n",
       "       'FX753VE-GC093 (i7-7700HQ/12GB/1TB/GeForce', 'Surface Laptop',\n",
       "       'Inspiron 5370', 'GL72M 7RDX', 'Aspire E5-475',\n",
       "       'FX503VD-E4022T (i7-7700HQ/8GB/1TB/GeForce', 'IdeaPad 320-15IKBN',\n",
       "       'Aspire A515-51G-32MX', 'ProBook 440', 'IdeaPad 320-15AST',\n",
       "       'Pavilion 15-CK000nv', 'FX503VM-E4007T (i7-7700HQ/16GB/1TB',\n",
       "       'FX550IK-DM018T (FX-9830P/8GB/1TB/Radeon', 'Aspire 5',\n",
       "       'Probook 430', 'Zenbook UX430UA', 'Spin 5',\n",
       "       'X541UV-DM1439T (i3-7100U/6GB/256GB/GeForce', 'Omen 15-ce007nv',\n",
       "       '15-bs017nv (i7-7500U/8GB/256GB/Radeon',\n",
       "       '15-bw000nv (E2-9000e/4GB/500GB/Radeon', 'Envy 13-ad009n',\n",
       "       'Pavilion 14-BK001nv', 'Ideapad 310-15ISK',\n",
       "       'UX430UQ-GV209R (i7-7500U/8GB/256GB/GeForce', 'GP62M 7REX',\n",
       "       'Thinkpad T470', 'VivoBook S15', 'ThinkPad Yoga', 'Probook 440',\n",
       "       'Spectre x360', 'Inspiron 7570',\n",
       "       'X705UV-BX074T (i3-6006U/4GB/1TB/GeForce', 'Spin 3', 'GS63VR 7RG',\n",
       "       'Probook 470', 'E402WA-GA007T (E2-6110/4GB/64GB/W10',\n",
       "       'Inspiron 5567', 'Aspire A515-51G-37JS',\n",
       "       '15-BS078nr (i7-7500U/8GB/1TB/W10)',\n",
       "       'V110-15IAP (N3350/4GB/1TB/No',\n",
       "       'FX753VD-GC086T (i5-7300HQ/8GB/1TB', 'Envy 13-AD007nv',\n",
       "       'ThinkPad E480', 'Satellite Pro', 'ZenBook UX430UA',\n",
       "       'EliteBook Folio', 'X541NA (N3350/4GB/1TB/FHD/W10)', 'GE72MVR 7RG',\n",
       "       'Aspire A315-51', 'Inspiron 5577', 'Inspiron 7567',\n",
       "       'V110-15IKB (i5-7200U/4GB/128GB/W10)', 'GE73VR 7RE',\n",
       "       'EliteBook 840', '15-BS103nv (i5-8250U/6GB/256GB/Radeon',\n",
       "       'Yoga 520-14IKB', 'ZenBook Flip', 'Inspiron 5579',\n",
       "       'X555BP-XX180T (A9-9420/4GB/1TB/Radeon', 'Aspire A517-51G',\n",
       "       'Aspire A315-31', 'GE63VR 7RE', 'MateBook X',\n",
       "       '17-bs001nv (i5-7200U/6GB/2TB/Radeon', 'GT80S 6QF-074US',\n",
       "       'V310-15IKB (i5-7200U/8GB/1TB', 'Yoga 920-13IKB', 'Mi Notebook',\n",
       "       'XPS 15', 'Swift 7', 'Thinkpad Yoga',\n",
       "       'K147 (N3350/4GB/32GB/FHD/W10)', 'IdeaPad 320-17IKBR', 'Blade Pro',\n",
       "       'Omen 17-W295', 'V110-15ISK (i5-6200U/4GB/128GB/W10)',\n",
       "       'Aspire E5-576G', 'Legion Y720-15IKB', 'Precision 7520',\n",
       "       'Aspire 7', 'ROG GL703VD-GC028T',\n",
       "       '15-bs018nq (i3-6006U/4GB/500GB/FHD/No', 'IdeaPad 320-17IKB',\n",
       "       'Latitude 5490', 'Portege Z30-C-16L', 'Alienware 17',\n",
       "       'Vivobook X541UV-DM1217T', 'K756UX-T4340T (i5-7200U/8GB/500GB',\n",
       "       'ZBook 15u', 'Pro P2540UA-XO0198T',\n",
       "       '15-rb013nv (E2-9000e/4GB/500GB/W10)', 'Vostro 5468', 'Aspire R7',\n",
       "       'X555QG-DM242T (A10-9620P/4GB/1TB', 'ROG G703VI-E5062T',\n",
       "       'Nitro AN515-51', 'VivoBook Pro',\n",
       "       'F756UX-T4201D (i7-7500U/8GB/128GB', 'Yoga 910-13IKB',\n",
       "       '15-bs015dx (i5-7200U/8GB/1TB/W10)', 'Rog G701VIK-BA060T',\n",
       "       'ROG G752VSK-GC493T', 'X505BP-BR019T (A9-9420/4GB/1TB/Radeon',\n",
       "       'Vostro 5370', '15-BW094nd (A6-9220/8GB/128GB/W10)',\n",
       "       'Envy 17-U275cl', 'GT73EVR 7RE', 'Yoga 720-15IKB', 'Vostro 3568',\n",
       "       'V330-15IKB (i7-8550U/8GB/256GB/FHD/W10)', 'ThinkPad X1',\n",
       "       'IdeaPad 320-17ISK', 'Ideapad 320-15IKBN',\n",
       "       'SP315-51 (i7-7500U/12GB/1TB/FHD/W10)', 'Thinkpad T570',\n",
       "       'Chromebook C910-C2ST',\n",
       "       'FX753VD-GC071T (i7-7700HQ/8GB/1TB/GeForce',\n",
       "       '17-BS037cl (i3-6006U/8GB/1TB/W10)',\n",
       "       'V330-15IKB (i5-8250U/8GB/256GB/FHD/W10)', 'Aspire A715-71G',\n",
       "       'Precision 7720', 'IdeaPad 310-15ABR', 'ZenBook UX530UQ-PRO',\n",
       "       'VivoBook S14', 'Rog GL702VS-GC095T',\n",
       "       'GL553VE-FY082T (i7-7700HQ/8GB/1TB', 'IdeaPad 320-15IAP',\n",
       "       'EliteBook x360', 'IdeaPad 720S-13IKB', 'GE63VR 7RF',\n",
       "       'ES1-523-84K7 (A8-7410/8GB/256GB/FHD/W10)', 'VivoBook Flip',\n",
       "       'ThinkPad 13', 'ProBook 640', 'TravelMate B', 'Elitebook 840',\n",
       "       'ZenBook UX410UA-GV183T', 'Aspire E5-575', 'Elitebook 820',\n",
       "       'GL72M 7REX', 'UX510UX-CN269T (i7-7500U/8GB/256GB',\n",
       "       'V310-15ISK (i3-6006U/4GB/1TB/FHD/W10)',\n",
       "       'FX553VD-FY647T (i7-7700HQ/8GB/256GB/GeForce', 'Elitebook 850',\n",
       "       'X541NA (N3350/4GB/1TB/Linux)', 'Inspiron 3552',\n",
       "       'IdeaPad 320-15ABR', 'Stream 14-AX001nv', 'GP72MVR 7RFX',\n",
       "       'Zbook 15', 'Tecra A50-C-21G', 'Latitude 7480',\n",
       "       'Zenbook UX410UA-GV027T', '15-AY023na (N3710/8GB/2TB/W10)',\n",
       "       'Elitebook 1040', 'IdeaPad 110-17ACL',\n",
       "       '15-bw003nv (A9-Series-9420/4GB/256GB/FHD/W10)', 'Yoga 11e',\n",
       "       'VivoBook E403NA', 'Omen 17-w212nv',\n",
       "       'V310-15ISK (i3-6006U/4GB/128GB/FHD/No', 'ROG Strix',\n",
       "       'IdeaPad 720S-14IKB', 'Zenbook Flip', 'Thinkpad X1',\n",
       "       'Ideapad 510S-13IKB', 'Precision 3510', 'Precision 5520',\n",
       "       'Rog GL753VD-GC042T', 'Rog GL753VE-GC070T', 'Leopard GP72M',\n",
       "       '15-BW004nv (A9-9420/4GB/256GB/Radeon', 'ThinkPad E580',\n",
       "       'ThinkPad L470', 'Precision M5520',\n",
       "       'FX753VD-GC461T (i7-7700HQ/16GB/1TB', 'GE73VR 7RF', 'Zenbook 3',\n",
       "       'Portege Z30-C-16P', 'Lenovo IdeaPad', 'ThinkPad P51',\n",
       "       'Thinkpad T470p', '15-BS028nv (i3-6006U/4GB/1TB/Radeon',\n",
       "       'Latitude 3380', 'EliteBook 1040', 'LapBook 12.3', 'ProBook 650',\n",
       "       'X542UQ-DM117 (i3-7100U/8GB/1TB/GeForce', 'Latitude 5480',\n",
       "       'Omen 17-w207nv', 'FlexBook Edge', 'Chromebook 3', 'Thinkpad 13',\n",
       "       'IdeaPad 320s-14IKB', 'Thinkpad P51',\n",
       "       '15-ra044nv (N3060/4GB/500GB/W10)', 'Pixelbook (Core',\n",
       "       'ThinkPad T470s', 'ThinkPad X270', 'Omen 15-AX205na',\n",
       "       'Aspire ES1-572', 'Precision 3520', 'GV62 7RD-1686NL',\n",
       "       '15-bs024nv (i5-7200U/8GB/128GB/W10)', 'ThinkPad T470',\n",
       "       'Inspiron 3168', '17-BS092ND (i3-6006U/8GB/256GB/W10)',\n",
       "       'Pro P2540UA-AB51', 'IdeaPad 510s-14IKB',\n",
       "       'X541NA-PD1003Y (N4200/4GB/500GB/W10)', 'Omen 17-an006nv',\n",
       "       'Thinkpad T460s', 'Latitude 7390', 'Latitude E5470',\n",
       "       'Portege X30-D-10J', 'Lapbook 15,6', 'ThinkPad E570',\n",
       "       'Thinkpad X270', 'Zenbook UX390UA', 'Thinkpad E570',\n",
       "       'Portege X30-D-10L', 'Rog G752VL-UH71T', 'Thinkpad X260',\n",
       "       'Ideapad 520-15IKBR', 'ThinkPad L570', 'VivoBook E201NA',\n",
       "       '15-BS026nv (i5-7200U/8GB/256GB/Radeon', 'IdeaPad 320-14IAP',\n",
       "       'Chromebook N23', 'ZenBook UX510UX-CN211T', 'Aspire A515-51G-59QF',\n",
       "       'Envy 13-AB002nv', 'Vostro 5568', 'VivoBook E12',\n",
       "       '15-bs190od (i5-8250U/4GB/1TB/W10)', 'ROG Zephyrus', 'Probook 450',\n",
       "       'FX753VE-GC155T (i7-7700HQ/16GB/1TB', 'Spectre X360',\n",
       "       'Latitude 5580', 'Zenbook UX510UW-FI095T', 'SmartBook Edge',\n",
       "       'Omen 15-ce006nv', 'Thinkpad E470', 'Envy 13-AB020nr',\n",
       "       'VivoBook X540YA-XX519T', 'ThinkPad E470',\n",
       "       'V310-15ISK (i5-6200U/4GB/1TB/FHD/No', 'ThinkPad T570',\n",
       "       '17-X047na (i3-6006U/8GB/1TB/W10)',\n",
       "       'A541NA-GO342 (N3350/4GB/500GB/Linux)', 'SmartBook 130',\n",
       "       '15-bw007nv (A10-9620P/6GB/128GB/Radeon', 'Spin SP111-31',\n",
       "       'V330-15IKB (i3-7130U/4GB/128GB/FHD/W10)', 'EliteBook 1030',\n",
       "       'Thinkpad P71', 'FX553VD-DM627T (i5-7300HQ/8GB/1TB',\n",
       "       'Lifebook A557', 'ZBook 17', '14-am079na (N3710/8GB/2TB/W10)',\n",
       "       '15-cd005nv (A9-9420/6GB/256GB/Radeon',\n",
       "       'V330-15IKB (i5-8250U/4GB/500GB/FHD/W10)', 'SmartBook 141',\n",
       "       'Tecra X40-D-10H', 'IdeaPad Y910-17ISK', 'GT73VR Titan',\n",
       "       'Chromebook 11', 'GT80S 6QE', 'Omen 17-AN010nv',\n",
       "       'Ideapad 320-15IKBR', 'TP501UA-CJ131T (i5-7200U/8GB/1TB/W10)',\n",
       "       'Inspiron 3179', 'Notebook Odyssey',\n",
       "       'V320-17ISK (i3-6006U/4GB/500GB/FHD/No', 'IdeaPad 110-15ISK',\n",
       "       'Latitude 5289', 'EliteBook 850', 'Aspire 1', 'Laptop MSI',\n",
       "       'GS63VR 7RF', 'Tecra Z50-C-144', 'IdeaPad 310-15IKB',\n",
       "       'Swift SF114-31-P5HY', 'Inspiron 7559',\n",
       "       'FX753VD-GC007T (i7-7700HQ/8GB/1TB', 'GT62VR 7RE',\n",
       "       'CB5-132T-C9KK (N3160/4GB/32GB/Chrome', 'LifeBook A557',\n",
       "       'SmartBook 140', 'Q304UA-BHI5T11 (i5-7200U/6GB/1TB/FHD/W10)',\n",
       "       'ZenBook 3', 'V330-15IKB (i5-8250U/4GB/256GB/FHD/W10)',\n",
       "       'Ideapad 320-15ISK', 'X541NA-GO414T (N3350/8GB/1TB/W10)',\n",
       "       'IdeaPad 100S-14IBR', '17-AK091ND (A9-9420/8GB/1TB/W10)',\n",
       "       'ROG GL553VE-FY022', 'Extensa EX2540', 'Portege Z30-C-16J',\n",
       "       'ROG G701VI', 'A715-71G-59DH (i5-7300HQ/8GB/1TB/GeForce',\n",
       "       'GL62M 7REX', 'Tecra A50-D-11M', 'IdeaPad Y700-15ISK',\n",
       "       'Latitude E7470', 'Ideapad 320-15IAP',\n",
       "       '15-ay047nv (i3-6006U/6GB/1TB/Radeon', 'GP72VR Leopard',\n",
       "       'Latitude 3580', '15-bs012nv (i7-7500U/8GB/1TB/Radeon',\n",
       "       'Tecra Z50-D-10E', 'V310-15ISK (i5-7200U/8GB/1TB',\n",
       "       'Yoga 720-13IKB', 'Pavilion X360', 'GP62 7RDX', 'Chromebook X360',\n",
       "       'Gram 15Z975', 'Aspire VX5-591G', 'GV62M 7RD',\n",
       "       'L502NA-GO052T (N3350/4GB/128GB/W10)', 'Alienware 15',\n",
       "       '17-bs000nv I3', 'Yoga 730', '17-Y002nv (A10-9600P/6GB/2TB/Radeon',\n",
       "       'V110-15ISK (3855U/4GB/500GB/W10)', 'Chromebook 14',\n",
       "       'IdeaPad 520s-14IKB', 'TravelMate B117-M', 'Chromebook Flip',\n",
       "       'Portege Z30T-C-133', '15-bs011nv (i7-7500U/4GB/500GB/Radeon',\n",
       "       'V310-15IKB (i5-7200U/4GB/1TB/FHD/W10)',\n",
       "       'V310-15ISK (i3-6006U/4GB/500GB/No', 'ThinkPad P51s',\n",
       "       'Thinkpad T460p', '17-ak002nv (A10-9620P/6GB/2TB/Radeon',\n",
       "       '110-15ACL (A6-7310/4GB/500GB/W10)', 'Smartbook 142',\n",
       "       'V310-15IKB (i5-7200U/4GB/1TB/No', 'Inspiron 5378',\n",
       "       '15-BW037na (A9-9420/4GB/1TB/Radeon', 'Predator 17',\n",
       "       '15-BW091ND (A9-9420/6GB/1TB', 'Extensa EX2540-58KR',\n",
       "       'V310-15IKB (i7-7500U/4GB/1TB/FHD/W10)', 'ZBook 15',\n",
       "       'Inspiron 7560', 'Tecra X40-D-10G', 'Flex 5', 'Thinkpad P51s',\n",
       "       'Notebook 9', 'Zbook 17', 'N23 (N3060/4GB/128GB/W10)',\n",
       "       'X550VX-XX015D (i5-6300HQ/4GB/1TB/GeForce', 'Thinkpad T460',\n",
       "       'Pro P2540UA-XO0192R', 'Yoga 900-13ISK',\n",
       "       '15-cb003na (i5-7300HQ/8GB/1TB', 'Latitude 7280',\n",
       "       'Zenbook UX330UA-AH5Q', 'TravelMate P238-M',\n",
       "       'X751NV-TY001 (N4200/4GB/1TB/GeForce', 'Tecra A40-C-1E5',\n",
       "       'EliteBook 820', 'Q524UQ-BHI7T15 (i7-7500U/12GB/2TB/GeForce',\n",
       "       'Thinkpad P50', 'Vivobook Max', 'Rog G752VS-BA171T',\n",
       "       'Tecra Z40-C-161', 'IdeaPad 110-15IBR', 'GS43VR 7RE',\n",
       "       'GL62M (i5-7300HQ/8GB/1TB', 'Predator G9-793',\n",
       "       'FX502VM-DM560T (i7-7700HQ/8GB/1TB', 'K146 (N3350/4GB/32GB/W10)',\n",
       "       'Yoga 510-15IKB', 'R417NA-RS01 (N3350/4GB/32GB/W10)',\n",
       "       'Pro P2540UA-XS51', 'Latitude 3180',\n",
       "       '15-ba043na (A12-9700P/8GB/2TB/W10)', 'Omen 17-an012dx',\n",
       "       'Thinkpad T470s', 'Blade Stealth', 'Latitude 3480',\n",
       "       'V110-15ISK (i3-6006U/4GB/500GB/W10)', 'Tecra X40-D-10Z',\n",
       "       'GL62M 7RD', 'Rog GL702VS-BA023T', 'N42-20 Chromebook',\n",
       "       'R558UA-DM966T (i5-7200U/8GB/128GB/FHD/W10)', 'Rog GL702VM-GC017T',\n",
       "       'ZenBook UX310UQ-GL026T', 'Rog GL502VM-DS74', 'Inspiron 5767',\n",
       "       'ThinkPad T470p', 'K556UR-DM621T (i7-7500U/8GB/256GB/GeForce',\n",
       "       'X541NA (N4200/4GB/1TB/W10)', 'Inspiron 5368', 'Portege X30-D-10X',\n",
       "       'Portégé Z30-C-188',\n",
       "       'TMX349-G2-M-50FS (i5-7200U/8GB/256GB/FHD/W10)', 'Tecra A50-D-11D',\n",
       "       'X541NA-GO121 (N4200/4GB/1TB/Linux)', 'Pavilion x360',\n",
       "       'VivoBook L402NA', 'IdeaPad 510-15ISK', 'Rog GL753VD-GC082T',\n",
       "       'Chromebook C731-C78G', 'Probook 640', 'Envy x360',\n",
       "       'GS73VR Stealth', 'Portege X30-D-10V',\n",
       "       'G701VO-IH74K (i7-6820HK/32GB/2x', 'Gram 15Z970',\n",
       "       'Chromebook CB5-571-C1DZ', 'Gram 14Z970', 'Elitebook Folio',\n",
       "       'IdeaPad 510-15IKB', 'GE72VR 6RF', 'Envy 13-AB077cl',\n",
       "       'Tecra Z50-C-140', 'Probook 650', 'Tecra Z40-C-12X',\n",
       "       'GP62M Leopard', 'Omen 17-W006na',\n",
       "       'X751SV-TY001T (N3710/4GB/1TB/GeForce', 'TravelMate P259-G2',\n",
       "       'Tecra A50-C-1ZV', 'Yoga 700-11ISK', 'IdeaPad Y700-15ACZ',\n",
       "       'Insprion 5767', 'ZBook Studio', 'Portege Z30-C-1CW',\n",
       "       'ProBook x360', 'Chromebook C738T-C2EJ', 'Portege Z30-C-16Z',\n",
       "       'Aspire F5-573G-510L', 'Portege X20W-D-10V', 'Tecra A40-C-1DF',\n",
       "       'ThinkPad T460', 'Q534UX-BHI7T19 (i7-7500U/16GB/2TB',\n",
       "       '15-bs053od (i7-7500U/6GB/1TB/W10)', 'Rog GL753VE-DS74',\n",
       "       'Inspiron 7579', 'Portege Z30-C-1CV', 'LifeBook A556',\n",
       "       'Tecra A40-C-1KF', '15-bs005nv (i3-6006U/4GB/1TB',\n",
       "       'V110-15IAP (N3350/4GB/128GB/No', 'ThinkPad T560',\n",
       "       'ZenBook UX310UA-FB485T', 'Spectre 13-V111dx', 'Aspire ES1-533',\n",
       "       'Rog GL553VE-DS74', 'Nitro 5', 'ENVY -', 'Portege Z30-C-16H',\n",
       "       'Portege A30-C-1CZ', 'ThinkPad P70', 'Tecra Z40-C-12Z',\n",
       "       'Inspiron 5568', 'Portégé Z30-C-16K', 'Spectre 13-V100nv',\n",
       "       'Latitude E5570', 'Tecra Z40-C-136', 'Yoga 500-15ISK',\n",
       "       'V142 (X5-Z8350/2GB/32GB/W10)', 'Tecra A50-C-218', 'Thinkpad L560',\n",
       "       'GT72S Dominator', 'IdeaPad Y900-17ISK', 'Chromebook C202SA',\n",
       "       'Noteb Pav', 'Inspiron 5578', '250 G5', 'Aspire ES1-523',\n",
       "       'Inspiron 7378', 'GT62VR 6RD', 'Rog G752VL-GC088D', 'GS63VR 6RF',\n",
       "       'ROG G701VO', 'Latitude 3570', 'IdeaPad 300-17ISK',\n",
       "       'Ideapad 700-15ISK', 'GT72VR Dominator',\n",
       "       'V110-15ISK (i5-6200U/4GB/500GB/W10)', 'Yoga 900S-12ISK',\n",
       "       'Chromebook 13', 'Rog GL702VM-GC354T', 'Aspire F5-573G',\n",
       "       'GS70 Stealth', 'G752VY-GC162T (i7-6700HQ/16GB/1TB',\n",
       "       'Latitude E5270', 'Chromebook 15', 'GE72 Apache',\n",
       "       '15-bw011nv (A6-9220/4GB/1TB/FHD/W10)', 'Rog GL552VW-CN470T',\n",
       "       'Vostro 3559', 'V110-15ISK (i3-6006U/4GB/128GB/W10)',\n",
       "       'Spectre Pro', 'Portege X30-D-10K', 'Rog GL752VW-T4308T',\n",
       "       'V131 (X5-Z8350/4GB/32GB/FHD/W10)', 'Omen -',\n",
       "       '15-bs078cl (i7-7500U/8GB/2TB/W10)', 'ThinkPad P40',\n",
       "       'L403NA-GA013TS (N3350/4GB/32GB/W10)', 'IdeaPad 500-15ISK',\n",
       "       'GP62M 7RDX', 'V110-15ISK (i3-6006U/4GB/1TB/No',\n",
       "       '15-BA015wm (E2-7110/4GB/500GB/W10)',\n",
       "       'B51-80 (i5-6200U/8GB/1TB/Radeon',\n",
       "       '15-bw002nv (A6-9220/4GB/256GB/Radeon', 'GP72M 7REX',\n",
       "       'ThinkPad T460s', 'B51-80 (i5-6200U/8GB/1008GB/Radeon',\n",
       "       'GS40 Phantom', 'Pavilion 15-cb003nv', 'IdeaPad 310-15ISK',\n",
       "       '250 G4', '320-15ISK (i3-6006U/4GB/1TB/GeForce',\n",
       "       'Stream 14-AX000nv', 'PL60 7RD',\n",
       "       'X553SA-XX021T (N3050/4GB/500GB/W10)',\n",
       "       'V110-15ISK (i5-6200U/4GB/500GB/No',\n",
       "       'UX410UA-GV097T (i3-7100U/4GB/256GB/FHD/W10)',\n",
       "       'B51-80 (i7-6500U/4GB/1008GB/FHD/W7)', 'GS60 Ghost',\n",
       "       'Pavilion 15-BC000nv', 'Rog GL552VW-DM201T', 'Chromebook Plus',\n",
       "       'Pavilion Power', 'V110-15ISK (i3-6006U/4GB/1TB/Radeon',\n",
       "       'Rog G752VY-GC229T', 'GS73VR 7RF',\n",
       "       'FX502VM-DM105T (i7-6700HQ/8GB/1TB/GeForce',\n",
       "       '15-bs025nv (i5-7200U/8GB/256GB/W10)', 'Aspire E5-774G',\n",
       "       'FX502VM-AS73 (i7-7700HQ/16GB/1TB',\n",
       "       'C740-C9QX (3205U/2GB/32GB/Chrome', 'E5 774G',\n",
       "       'SP714-51 (i7-7Y75/8GB/256GB/FHD/W10)', 'Thinkpad T560',\n",
       "       'GP62MVR 6RF', '15-bw009nv (A12-9720P/6GB/1TB/Radeon',\n",
       "       'Latitude E7270', 'X540SA-RBPDN09 (N3710/4GB/1TB/W10)',\n",
       "       'GL62M 7RDX', 'GE72VR Apache',\n",
       "       '15-bs023nv (i3-6006U/4GB/1TB/FHD/W10)', 'GL62 6QF',\n",
       "       'ZenBook UX310UA-WB71', 'Inspiron 7779', 'Rog GL553VE-FY052T',\n",
       "       'Rog GL502VS', 'V510-15IKB (i5-7200U/8GB/256GB/FHD/No',\n",
       "       'ThinkPad L460', 'X541NA-GO020T (N3350/4GB/1TB/W10)',\n",
       "       'Rog G752VT-GC073T', 'B51-80 (i7-6500U/8GB/1008GB/Radeon',\n",
       "       'GE62 Apache', 'Yoga 500-14IBD', 'ZenBook UX305CA-UBM1',\n",
       "       'Aspire ES1-531', 'Pavilion 15-AW003nv', 'Stream 11-Y000na',\n",
       "       'X556UJ-XO044T (i7-6500U/4GB/500GB/GeForce', 'Yoga 500-14ISK',\n",
       "       '15-AC110nv (i7-6500U/6GB/1TB/Radeon',\n",
       "       'X553SA-XX031T (N3050/4GB/500GB/W10)'], dtype=object)"
      ]
     },
     "execution_count": 551,
     "metadata": {},
     "output_type": "execute_result"
    }
   ],
   "source": [
    "data['Product'].unique()"
   ]
  },
  {
   "cell_type": "code",
   "execution_count": 552,
   "id": "4c866cc5",
   "metadata": {
    "ExecuteTime": {
     "end_time": "2023-02-22T06:17:04.176474Z",
     "start_time": "2023-02-22T06:17:04.124478Z"
    }
   },
   "outputs": [
    {
     "data": {
      "text/plain": [
       "array(['Ultrabook', 'Notebook', 'Netbook', 'Gaming', '2 in 1 Convertible',\n",
       "       'Workstation'], dtype=object)"
      ]
     },
     "execution_count": 552,
     "metadata": {},
     "output_type": "execute_result"
    }
   ],
   "source": [
    "data['TypeName'].unique()"
   ]
  },
  {
   "cell_type": "code",
   "execution_count": 553,
   "id": "2c6cbe04",
   "metadata": {
    "ExecuteTime": {
     "end_time": "2023-02-22T06:17:04.305472Z",
     "start_time": "2023-02-22T06:17:04.187480Z"
    }
   },
   "outputs": [
    {
     "data": {
      "text/plain": [
       "array(['IPS Panel Retina Display 2560x1600', '1440x900',\n",
       "       'Full HD 1920x1080', 'IPS Panel Retina Display 2880x1800',\n",
       "       '1366x768', 'IPS Panel Full HD 1920x1080',\n",
       "       'IPS Panel Retina Display 2304x1440',\n",
       "       'IPS Panel Full HD / Touchscreen 1920x1080',\n",
       "       'Full HD / Touchscreen 1920x1080',\n",
       "       'Touchscreen / Quad HD+ 3200x1800',\n",
       "       'IPS Panel Touchscreen 1920x1200', 'Touchscreen 2256x1504',\n",
       "       'Quad HD+ / Touchscreen 3200x1800', 'IPS Panel 1366x768',\n",
       "       'IPS Panel 4K Ultra HD / Touchscreen 3840x2160',\n",
       "       'IPS Panel Full HD 2160x1440',\n",
       "       '4K Ultra HD / Touchscreen 3840x2160', 'Touchscreen 2560x1440',\n",
       "       '1600x900', 'IPS Panel 4K Ultra HD 3840x2160',\n",
       "       '4K Ultra HD 3840x2160', 'Touchscreen 1366x768',\n",
       "       'IPS Panel Full HD 1366x768', 'IPS Panel 2560x1440',\n",
       "       'IPS Panel Full HD 2560x1440',\n",
       "       'IPS Panel Retina Display 2736x1824', 'Touchscreen 2400x1600',\n",
       "       '2560x1440', 'IPS Panel Quad HD+ 2560x1440',\n",
       "       'IPS Panel Quad HD+ 3200x1800',\n",
       "       'IPS Panel Quad HD+ / Touchscreen 3200x1800',\n",
       "       'IPS Panel Touchscreen 1366x768', '1920x1080',\n",
       "       'IPS Panel Full HD 1920x1200',\n",
       "       'IPS Panel Touchscreen / 4K Ultra HD 3840x2160',\n",
       "       'IPS Panel Touchscreen 2560x1440',\n",
       "       'Touchscreen / Full HD 1920x1080', 'Quad HD+ 3200x1800',\n",
       "       'Touchscreen / 4K Ultra HD 3840x2160',\n",
       "       'IPS Panel Touchscreen 2400x1600'], dtype=object)"
      ]
     },
     "execution_count": 553,
     "metadata": {},
     "output_type": "execute_result"
    }
   ],
   "source": [
    "data['ScreenResolution'].unique()"
   ]
  },
  {
   "cell_type": "code",
   "execution_count": 554,
   "id": "b7b7688a",
   "metadata": {
    "ExecuteTime": {
     "end_time": "2023-02-22T06:17:04.408476Z",
     "start_time": "2023-02-22T06:17:04.314475Z"
    }
   },
   "outputs": [
    {
     "data": {
      "text/plain": [
       "array(['Intel Core i5 2.3GHz', 'Intel Core i5 1.8GHz',\n",
       "       'Intel Core i5 7200U 2.5GHz', 'Intel Core i7 2.7GHz',\n",
       "       'Intel Core i5 3.1GHz', 'AMD A9-Series 9420 3GHz',\n",
       "       'Intel Core i7 2.2GHz', 'Intel Core i7 8550U 1.8GHz',\n",
       "       'Intel Core i5 8250U 1.6GHz', 'Intel Core i3 6006U 2GHz',\n",
       "       'Intel Core i7 2.8GHz', 'Intel Core M m3 1.2GHz',\n",
       "       'Intel Core i7 7500U 2.7GHz', 'Intel Core i7 2.9GHz',\n",
       "       'Intel Core i3 7100U 2.4GHz', 'Intel Atom x5-Z8350 1.44GHz',\n",
       "       'Intel Core i5 7300HQ 2.5GHz', 'AMD E-Series E2-9000e 1.5GHz',\n",
       "       'Intel Core i5 1.6GHz', 'Intel Core i7 8650U 1.9GHz',\n",
       "       'Intel Atom x5-Z8300 1.44GHz', 'AMD E-Series E2-6110 1.5GHz',\n",
       "       'AMD A6-Series 9220 2.5GHz',\n",
       "       'Intel Celeron Dual Core N3350 1.1GHz',\n",
       "       'Intel Core i3 7130U 2.7GHz', 'Intel Core i7 7700HQ 2.8GHz',\n",
       "       'Intel Core i5 2.0GHz', 'AMD Ryzen 1700 3GHz',\n",
       "       'Intel Pentium Quad Core N4200 1.1GHz',\n",
       "       'Intel Atom x5-Z8550 1.44GHz',\n",
       "       'Intel Celeron Dual Core N3060 1.6GHz', 'Intel Core i5 1.3GHz',\n",
       "       'AMD FX 9830P 3GHz', 'Intel Core i7 7560U 2.4GHz',\n",
       "       'AMD E-Series 6110 1.5GHz', 'Intel Core i5 6200U 2.3GHz',\n",
       "       'Intel Core M 6Y75 1.2GHz', 'Intel Core i5 7500U 2.7GHz',\n",
       "       'Intel Core i3 6006U 2.2GHz', 'AMD A6-Series 9220 2.9GHz',\n",
       "       'Intel Core i7 6920HQ 2.9GHz', 'Intel Core i5 7Y54 1.2GHz',\n",
       "       'Intel Core i7 7820HK 2.9GHz', 'Intel Xeon E3-1505M V6 3GHz',\n",
       "       'Intel Core i7 6500U 2.5GHz', 'AMD E-Series 9000e 1.5GHz',\n",
       "       'AMD A10-Series A10-9620P 2.5GHz', 'AMD A6-Series A6-9220 2.5GHz',\n",
       "       'Intel Core i5 2.9GHz', 'Intel Core i7 6600U 2.6GHz',\n",
       "       'Intel Core i3 6006U 2.0GHz',\n",
       "       'Intel Celeron Dual Core 3205U 1.5GHz',\n",
       "       'Intel Core i7 7820HQ 2.9GHz', 'AMD A10-Series 9600P 2.4GHz',\n",
       "       'Intel Core i7 7600U 2.8GHz', 'AMD A8-Series 7410 2.2GHz',\n",
       "       'Intel Celeron Dual Core 3855U 1.6GHz',\n",
       "       'Intel Pentium Quad Core N3710 1.6GHz',\n",
       "       'AMD A12-Series 9720P 2.7GHz', 'Intel Core i5 7300U 2.6GHz',\n",
       "       'AMD A12-Series 9720P 3.6GHz',\n",
       "       'Intel Celeron Quad Core N3450 1.1GHz',\n",
       "       'Intel Celeron Dual Core N3060 1.60GHz',\n",
       "       'Intel Core i5 6440HQ 2.6GHz', 'Intel Core i7 6820HQ 2.7GHz',\n",
       "       'AMD Ryzen 1600 3.2GHz', 'Intel Core i7 7Y75 1.3GHz',\n",
       "       'Intel Core i5 7440HQ 2.8GHz', 'Intel Core i7 7660U 2.5GHz',\n",
       "       'Intel Core i7 7700HQ 2.7GHz', 'Intel Core M m3-7Y30 2.2GHz',\n",
       "       'Intel Core i5 7Y57 1.2GHz', 'Intel Core i7 6700HQ 2.6GHz',\n",
       "       'Intel Core i3 6100U 2.3GHz', 'AMD A10-Series 9620P 2.5GHz',\n",
       "       'AMD E-Series 7110 1.8GHz', 'Intel Celeron Dual Core N3350 2.0GHz',\n",
       "       'AMD A9-Series A9-9420 3GHz', 'Intel Core i7 6820HK 2.7GHz',\n",
       "       'Intel Core M 7Y30 1.0GHz', 'Intel Xeon E3-1535M v6 3.1GHz',\n",
       "       'Intel Celeron Quad Core N3160 1.6GHz',\n",
       "       'Intel Core i5 6300U 2.4GHz', 'Intel Core i3 6100U 2.1GHz',\n",
       "       'AMD E-Series E2-9000 2.2GHz',\n",
       "       'Intel Celeron Dual Core N3050 1.6GHz',\n",
       "       'Intel Core M M3-6Y30 0.9GHz', 'AMD A9-Series 9420 2.9GHz',\n",
       "       'Intel Core i5 6300HQ 2.3GHz', 'AMD A6-Series 7310 2GHz',\n",
       "       'Intel Atom Z8350 1.92GHz', 'Intel Xeon E3-1535M v5 2.9GHz',\n",
       "       'Intel Core i5 6260U 1.8GHz',\n",
       "       'Intel Pentium Dual Core N4200 1.1GHz',\n",
       "       'Intel Celeron Quad Core N3710 1.6GHz', 'Intel Core M 1.2GHz',\n",
       "       'AMD A12-Series 9700P 2.5GHz', 'Intel Core i7 7500U 2.5GHz',\n",
       "       'Intel Pentium Dual Core 4405U 2.1GHz',\n",
       "       'AMD A4-Series 7210 2.2GHz', 'Intel Core i7 6560U 2.2GHz',\n",
       "       'Intel Core M m7-6Y75 1.2GHz', 'AMD FX 8800P 2.1GHz',\n",
       "       'Intel Core M M7-6Y75 1.2GHz', 'Intel Core i5 7200U 2.50GHz',\n",
       "       'Intel Core i5 7200U 2.70GHz', 'Intel Atom X5-Z8350 1.44GHz',\n",
       "       'Intel Core i5 7200U 2.7GHz', 'Intel Core M 1.1GHz',\n",
       "       'Intel Pentium Dual Core 4405Y 1.5GHz',\n",
       "       'Intel Pentium Quad Core N3700 1.6GHz', 'Intel Core M 6Y54 1.1GHz',\n",
       "       'Intel Core i7 6500U 2.50GHz',\n",
       "       'Intel Celeron Dual Core N3350 2GHz',\n",
       "       'Samsung Cortex A72&A53 2.0GHz', 'AMD E-Series 9000 2.2GHz',\n",
       "       'Intel Core M 6Y30 0.9GHz', 'AMD A9-Series 9410 2.9GHz'],\n",
       "      dtype=object)"
      ]
     },
     "execution_count": 554,
     "metadata": {},
     "output_type": "execute_result"
    }
   ],
   "source": [
    "data['Cpu'].unique()"
   ]
  },
  {
   "cell_type": "code",
   "execution_count": 555,
   "id": "4c208d50",
   "metadata": {
    "ExecuteTime": {
     "end_time": "2023-02-22T06:17:04.499470Z",
     "start_time": "2023-02-22T06:17:04.421879Z"
    }
   },
   "outputs": [
    {
     "data": {
      "text/plain": [
       "array(['Intel Iris Plus Graphics 640', 'Intel HD Graphics 6000',\n",
       "       'Intel HD Graphics 620', 'AMD Radeon Pro 455',\n",
       "       'Intel Iris Plus Graphics 650', 'AMD Radeon R5',\n",
       "       'Intel Iris Pro Graphics', 'Nvidia GeForce MX150',\n",
       "       'Intel UHD Graphics 620', 'Intel HD Graphics 520',\n",
       "       'AMD Radeon Pro 555', 'AMD Radeon R5 M430',\n",
       "       'Intel HD Graphics 615', 'AMD Radeon Pro 560',\n",
       "       'Nvidia GeForce 940MX', 'Intel HD Graphics 400',\n",
       "       'Nvidia GeForce GTX 1050', 'AMD Radeon R2', 'AMD Radeon 530',\n",
       "       'Nvidia GeForce 930MX', 'Intel HD Graphics',\n",
       "       'Intel HD Graphics 500', 'Nvidia GeForce 930MX ',\n",
       "       'Nvidia GeForce GTX 1060', 'Nvidia GeForce 150MX',\n",
       "       'Intel Iris Graphics 540', 'AMD Radeon RX 580',\n",
       "       'Nvidia GeForce 920MX', 'AMD Radeon R4 Graphics', 'AMD Radeon 520',\n",
       "       'Nvidia GeForce GTX 1070', 'Nvidia GeForce GTX 1050 Ti',\n",
       "       'Nvidia GeForce MX130', 'AMD R4 Graphics',\n",
       "       'Nvidia GeForce GTX 940MX', 'AMD Radeon RX 560',\n",
       "       'Nvidia GeForce 920M', 'AMD Radeon R7 M445', 'AMD Radeon RX 550',\n",
       "       'Nvidia GeForce GTX 1050M', 'Intel HD Graphics 515',\n",
       "       'AMD Radeon R5 M420', 'Intel HD Graphics 505',\n",
       "       'Nvidia GTX 980 SLI', 'AMD R17M-M1-70', 'Nvidia GeForce GTX 1080',\n",
       "       'Nvidia Quadro M1200', 'Nvidia GeForce 920MX ',\n",
       "       'Nvidia GeForce GTX 950M', 'AMD FirePro W4190M ',\n",
       "       'Nvidia GeForce GTX 980M', 'Intel Iris Graphics 550',\n",
       "       'Nvidia GeForce 930M', 'Intel HD Graphics 630',\n",
       "       'AMD Radeon R5 430', 'Nvidia GeForce GTX 940M',\n",
       "       'Intel HD Graphics 510', 'Intel HD Graphics 405',\n",
       "       'AMD Radeon RX 540', 'Nvidia GeForce GT 940MX',\n",
       "       'AMD FirePro W5130M', 'Nvidia Quadro M2200M', 'AMD Radeon R4',\n",
       "       'Nvidia Quadro M620', 'AMD Radeon R7 M460',\n",
       "       'Intel HD Graphics 530', 'Nvidia GeForce GTX 965M',\n",
       "       'Nvidia GeForce GTX1080', 'Nvidia GeForce GTX1050 Ti',\n",
       "       'Nvidia GeForce GTX 960M', 'AMD Radeon R2 Graphics',\n",
       "       'Nvidia Quadro M620M', 'Nvidia GeForce GTX 970M',\n",
       "       'Nvidia GeForce GTX 960<U+039C>', 'Intel Graphics 620',\n",
       "       'Nvidia GeForce GTX 960', 'AMD Radeon R5 520',\n",
       "       'AMD Radeon R7 M440', 'AMD Radeon R7', 'Nvidia Quadro M520M',\n",
       "       'Nvidia Quadro M2200', 'Nvidia Quadro M2000M',\n",
       "       'Intel HD Graphics 540', 'Nvidia Quadro M1000M', 'AMD Radeon 540',\n",
       "       'Nvidia GeForce GTX 1070M', 'Nvidia GeForce GTX1060',\n",
       "       'Intel HD Graphics 5300', 'AMD Radeon R5 M420X',\n",
       "       'AMD Radeon R7 Graphics', 'Nvidia GeForce 920',\n",
       "       'Nvidia GeForce 940M', 'Nvidia GeForce GTX 930MX',\n",
       "       'AMD Radeon R7 M465', 'AMD Radeon R3', 'Nvidia GeForce GTX 1050Ti',\n",
       "       'AMD Radeon R7 M365X', 'AMD Radeon R9 M385',\n",
       "       'Intel HD Graphics 620 ', 'Nvidia Quadro 3000M',\n",
       "       'Nvidia GeForce GTX 980 ', 'AMD Radeon R5 M330',\n",
       "       'AMD FirePro W4190M', 'AMD FirePro W6150M', 'AMD Radeon R5 M315',\n",
       "       'Nvidia Quadro M500M', 'AMD Radeon R7 M360',\n",
       "       'Nvidia Quadro M3000M', 'Nvidia GeForce 960M', 'ARM Mali T860 MP4'],\n",
       "      dtype=object)"
      ]
     },
     "execution_count": 555,
     "metadata": {},
     "output_type": "execute_result"
    }
   ],
   "source": [
    "data['Gpu'].unique()"
   ]
  },
  {
   "cell_type": "code",
   "execution_count": 556,
   "id": "371974cb",
   "metadata": {
    "ExecuteTime": {
     "end_time": "2023-02-22T06:17:04.655470Z",
     "start_time": "2023-02-22T06:17:04.507477Z"
    }
   },
   "outputs": [
    {
     "data": {
      "text/plain": [
       "array(['128GB SSD', '128GB Flash Storage', '256GB SSD', '512GB SSD',\n",
       "       '500GB HDD', '256GB Flash Storage', '1TB HDD',\n",
       "       '32GB Flash Storage', '128GB SSD +  1TB HDD',\n",
       "       '256GB SSD +  256GB SSD', '64GB Flash Storage',\n",
       "       '256GB SSD +  1TB HDD', '256GB SSD +  2TB HDD', '32GB SSD',\n",
       "       '2TB HDD', '64GB SSD', '1.0TB Hybrid', '512GB SSD +  1TB HDD',\n",
       "       '1TB SSD', '256GB SSD +  500GB HDD', '128GB SSD +  2TB HDD',\n",
       "       '512GB SSD +  512GB SSD', '16GB SSD', '16GB Flash Storage',\n",
       "       '512GB SSD +  256GB SSD', '512GB SSD +  2TB HDD',\n",
       "       '64GB Flash Storage +  1TB HDD', '180GB SSD', '1TB HDD +  1TB HDD',\n",
       "       '32GB HDD', '1TB SSD +  1TB HDD', '512GB Flash Storage',\n",
       "       '128GB HDD', '240GB SSD', '8GB SSD', '508GB Hybrid', '1.0TB HDD',\n",
       "       '512GB SSD +  1.0TB Hybrid', '256GB SSD +  1.0TB Hybrid'],\n",
       "      dtype=object)"
      ]
     },
     "execution_count": 556,
     "metadata": {},
     "output_type": "execute_result"
    }
   ],
   "source": [
    "data['Memory'].unique()"
   ]
  },
  {
   "cell_type": "code",
   "execution_count": 557,
   "id": "33a3db31",
   "metadata": {
    "ExecuteTime": {
     "end_time": "2023-02-22T06:17:04.863474Z",
     "start_time": "2023-02-22T06:17:04.664474Z"
    }
   },
   "outputs": [],
   "source": [
    "data_sub = data.copy()"
   ]
  },
  {
   "cell_type": "code",
   "execution_count": 558,
   "id": "f2ea346b",
   "metadata": {
    "ExecuteTime": {
     "end_time": "2023-02-22T06:17:04.999491Z",
     "start_time": "2023-02-22T06:17:04.875483Z"
    }
   },
   "outputs": [
    {
     "data": {
      "text/plain": [
       "Index(['laptop_ID', 'Company', 'Product', 'TypeName', 'Inches',\n",
       "       'ScreenResolution', 'Cpu', 'Ram', 'Memory', 'Gpu', 'OpSys', 'Weight',\n",
       "       'Price_euros'],\n",
       "      dtype='object')"
      ]
     },
     "execution_count": 558,
     "metadata": {},
     "output_type": "execute_result"
    }
   ],
   "source": [
    "data_sub.columns"
   ]
  },
  {
   "cell_type": "code",
   "execution_count": 559,
   "id": "0904fdbd",
   "metadata": {
    "ExecuteTime": {
     "end_time": "2023-02-22T06:17:05.107474Z",
     "start_time": "2023-02-22T06:17:05.031882Z"
    }
   },
   "outputs": [],
   "source": [
    "data_sub = data_sub[['Company','Cpu','Ram','Memory','Gpu','OpSys', 'Weight','Price_euros']]"
   ]
  },
  {
   "cell_type": "code",
   "execution_count": 560,
   "id": "e0c3bc6d",
   "metadata": {
    "ExecuteTime": {
     "end_time": "2023-02-22T06:17:05.300477Z",
     "start_time": "2023-02-22T06:17:05.118478Z"
    }
   },
   "outputs": [
    {
     "data": {
      "text/html": [
       "<div>\n",
       "<style scoped>\n",
       "    .dataframe tbody tr th:only-of-type {\n",
       "        vertical-align: middle;\n",
       "    }\n",
       "\n",
       "    .dataframe tbody tr th {\n",
       "        vertical-align: top;\n",
       "    }\n",
       "\n",
       "    .dataframe thead th {\n",
       "        text-align: right;\n",
       "    }\n",
       "</style>\n",
       "<table border=\"1\" class=\"dataframe\">\n",
       "  <thead>\n",
       "    <tr style=\"text-align: right;\">\n",
       "      <th></th>\n",
       "      <th>Company</th>\n",
       "      <th>Cpu</th>\n",
       "      <th>Ram</th>\n",
       "      <th>Memory</th>\n",
       "      <th>Gpu</th>\n",
       "      <th>OpSys</th>\n",
       "      <th>Weight</th>\n",
       "      <th>Price_euros</th>\n",
       "    </tr>\n",
       "  </thead>\n",
       "  <tbody>\n",
       "    <tr>\n",
       "      <th>0</th>\n",
       "      <td>Apple</td>\n",
       "      <td>Intel Core i5 2.3GHz</td>\n",
       "      <td>8GB</td>\n",
       "      <td>128GB SSD</td>\n",
       "      <td>Intel Iris Plus Graphics 640</td>\n",
       "      <td>macOS</td>\n",
       "      <td>1.37kg</td>\n",
       "      <td>1339.69</td>\n",
       "    </tr>\n",
       "    <tr>\n",
       "      <th>1</th>\n",
       "      <td>Apple</td>\n",
       "      <td>Intel Core i5 1.8GHz</td>\n",
       "      <td>8GB</td>\n",
       "      <td>128GB Flash Storage</td>\n",
       "      <td>Intel HD Graphics 6000</td>\n",
       "      <td>macOS</td>\n",
       "      <td>1.34kg</td>\n",
       "      <td>898.94</td>\n",
       "    </tr>\n",
       "    <tr>\n",
       "      <th>2</th>\n",
       "      <td>HP</td>\n",
       "      <td>Intel Core i5 7200U 2.5GHz</td>\n",
       "      <td>8GB</td>\n",
       "      <td>256GB SSD</td>\n",
       "      <td>Intel HD Graphics 620</td>\n",
       "      <td>No OS</td>\n",
       "      <td>1.86kg</td>\n",
       "      <td>575.00</td>\n",
       "    </tr>\n",
       "    <tr>\n",
       "      <th>3</th>\n",
       "      <td>Apple</td>\n",
       "      <td>Intel Core i7 2.7GHz</td>\n",
       "      <td>16GB</td>\n",
       "      <td>512GB SSD</td>\n",
       "      <td>AMD Radeon Pro 455</td>\n",
       "      <td>macOS</td>\n",
       "      <td>1.83kg</td>\n",
       "      <td>2537.45</td>\n",
       "    </tr>\n",
       "    <tr>\n",
       "      <th>4</th>\n",
       "      <td>Apple</td>\n",
       "      <td>Intel Core i5 3.1GHz</td>\n",
       "      <td>8GB</td>\n",
       "      <td>256GB SSD</td>\n",
       "      <td>Intel Iris Plus Graphics 650</td>\n",
       "      <td>macOS</td>\n",
       "      <td>1.37kg</td>\n",
       "      <td>1803.60</td>\n",
       "    </tr>\n",
       "    <tr>\n",
       "      <th>...</th>\n",
       "      <td>...</td>\n",
       "      <td>...</td>\n",
       "      <td>...</td>\n",
       "      <td>...</td>\n",
       "      <td>...</td>\n",
       "      <td>...</td>\n",
       "      <td>...</td>\n",
       "      <td>...</td>\n",
       "    </tr>\n",
       "    <tr>\n",
       "      <th>1298</th>\n",
       "      <td>Lenovo</td>\n",
       "      <td>Intel Core i7 6500U 2.5GHz</td>\n",
       "      <td>4GB</td>\n",
       "      <td>128GB SSD</td>\n",
       "      <td>Intel HD Graphics 520</td>\n",
       "      <td>Windows 10</td>\n",
       "      <td>1.8kg</td>\n",
       "      <td>638.00</td>\n",
       "    </tr>\n",
       "    <tr>\n",
       "      <th>1299</th>\n",
       "      <td>Lenovo</td>\n",
       "      <td>Intel Core i7 6500U 2.5GHz</td>\n",
       "      <td>16GB</td>\n",
       "      <td>512GB SSD</td>\n",
       "      <td>Intel HD Graphics 520</td>\n",
       "      <td>Windows 10</td>\n",
       "      <td>1.3kg</td>\n",
       "      <td>1499.00</td>\n",
       "    </tr>\n",
       "    <tr>\n",
       "      <th>1300</th>\n",
       "      <td>Lenovo</td>\n",
       "      <td>Intel Celeron Dual Core N3050 1.6GHz</td>\n",
       "      <td>2GB</td>\n",
       "      <td>64GB Flash Storage</td>\n",
       "      <td>Intel HD Graphics</td>\n",
       "      <td>Windows 10</td>\n",
       "      <td>1.5kg</td>\n",
       "      <td>229.00</td>\n",
       "    </tr>\n",
       "    <tr>\n",
       "      <th>1301</th>\n",
       "      <td>HP</td>\n",
       "      <td>Intel Core i7 6500U 2.5GHz</td>\n",
       "      <td>6GB</td>\n",
       "      <td>1TB HDD</td>\n",
       "      <td>AMD Radeon R5 M330</td>\n",
       "      <td>Windows 10</td>\n",
       "      <td>2.19kg</td>\n",
       "      <td>764.00</td>\n",
       "    </tr>\n",
       "    <tr>\n",
       "      <th>1302</th>\n",
       "      <td>Asus</td>\n",
       "      <td>Intel Celeron Dual Core N3050 1.6GHz</td>\n",
       "      <td>4GB</td>\n",
       "      <td>500GB HDD</td>\n",
       "      <td>Intel HD Graphics</td>\n",
       "      <td>Windows 10</td>\n",
       "      <td>2.2kg</td>\n",
       "      <td>369.00</td>\n",
       "    </tr>\n",
       "  </tbody>\n",
       "</table>\n",
       "<p>1303 rows × 8 columns</p>\n",
       "</div>"
      ],
      "text/plain": [
       "     Company                                   Cpu   Ram               Memory  \\\n",
       "0      Apple                  Intel Core i5 2.3GHz   8GB            128GB SSD   \n",
       "1      Apple                  Intel Core i5 1.8GHz   8GB  128GB Flash Storage   \n",
       "2         HP            Intel Core i5 7200U 2.5GHz   8GB            256GB SSD   \n",
       "3      Apple                  Intel Core i7 2.7GHz  16GB            512GB SSD   \n",
       "4      Apple                  Intel Core i5 3.1GHz   8GB            256GB SSD   \n",
       "...      ...                                   ...   ...                  ...   \n",
       "1298  Lenovo            Intel Core i7 6500U 2.5GHz   4GB            128GB SSD   \n",
       "1299  Lenovo            Intel Core i7 6500U 2.5GHz  16GB            512GB SSD   \n",
       "1300  Lenovo  Intel Celeron Dual Core N3050 1.6GHz   2GB   64GB Flash Storage   \n",
       "1301      HP            Intel Core i7 6500U 2.5GHz   6GB              1TB HDD   \n",
       "1302    Asus  Intel Celeron Dual Core N3050 1.6GHz   4GB            500GB HDD   \n",
       "\n",
       "                               Gpu       OpSys  Weight  Price_euros  \n",
       "0     Intel Iris Plus Graphics 640       macOS  1.37kg      1339.69  \n",
       "1           Intel HD Graphics 6000       macOS  1.34kg       898.94  \n",
       "2            Intel HD Graphics 620       No OS  1.86kg       575.00  \n",
       "3               AMD Radeon Pro 455       macOS  1.83kg      2537.45  \n",
       "4     Intel Iris Plus Graphics 650       macOS  1.37kg      1803.60  \n",
       "...                            ...         ...     ...          ...  \n",
       "1298         Intel HD Graphics 520  Windows 10   1.8kg       638.00  \n",
       "1299         Intel HD Graphics 520  Windows 10   1.3kg      1499.00  \n",
       "1300             Intel HD Graphics  Windows 10   1.5kg       229.00  \n",
       "1301            AMD Radeon R5 M330  Windows 10  2.19kg       764.00  \n",
       "1302             Intel HD Graphics  Windows 10   2.2kg       369.00  \n",
       "\n",
       "[1303 rows x 8 columns]"
      ]
     },
     "execution_count": 560,
     "metadata": {},
     "output_type": "execute_result"
    }
   ],
   "source": [
    "data_sub"
   ]
  },
  {
   "cell_type": "code",
   "execution_count": 561,
   "id": "45e2168c",
   "metadata": {
    "ExecuteTime": {
     "end_time": "2023-02-22T06:17:05.366469Z",
     "start_time": "2023-02-22T06:17:05.317474Z"
    }
   },
   "outputs": [],
   "source": [
    "import plotly.express as px"
   ]
  },
  {
   "cell_type": "code",
   "execution_count": 562,
   "id": "1baf7761",
   "metadata": {
    "ExecuteTime": {
     "end_time": "2023-02-22T06:17:05.920476Z",
     "start_time": "2023-02-22T06:17:05.379477Z"
    }
   },
   "outputs": [
    {
     "data": {
      "application/vnd.plotly.v1+json": {
       "config": {
        "plotlyServerURL": "https://plot.ly"
       },
       "data": [
        {
         "alignmentgroup": "True",
         "hovertemplate": "index=%{x}<br>Jumlah Muncul=%{marker.color}<extra></extra>",
         "legendgroup": "",
         "marker": {
          "color": [
           297,
           297,
           274,
           158,
           103,
           54,
           48,
           21,
           9,
           7,
           7,
           6,
           4,
           4,
           3,
           3,
           3,
           3,
           2
          ],
          "coloraxis": "coloraxis",
          "pattern": {
           "shape": ""
          }
         },
         "name": "",
         "offsetgroup": "",
         "orientation": "v",
         "showlegend": false,
         "textposition": "auto",
         "type": "bar",
         "x": [
          "Dell",
          "Lenovo",
          "HP",
          "Asus",
          "Acer",
          "MSI",
          "Toshiba",
          "Apple",
          "Samsung",
          "Razer",
          "Mediacom",
          "Microsoft",
          "Xiaomi",
          "Vero",
          "Chuwi",
          "Google",
          "Fujitsu",
          "LG",
          "Huawei"
         ],
         "xaxis": "x",
         "y": [
          297,
          297,
          274,
          158,
          103,
          54,
          48,
          21,
          9,
          7,
          7,
          6,
          4,
          4,
          3,
          3,
          3,
          3,
          2
         ],
         "yaxis": "y"
        }
       ],
       "layout": {
        "barmode": "relative",
        "coloraxis": {
         "colorbar": {
          "title": {
           "text": "Jumlah Muncul"
          }
         },
         "colorscale": [
          [
           0,
           "#0d0887"
          ],
          [
           0.1111111111111111,
           "#46039f"
          ],
          [
           0.2222222222222222,
           "#7201a8"
          ],
          [
           0.3333333333333333,
           "#9c179e"
          ],
          [
           0.4444444444444444,
           "#bd3786"
          ],
          [
           0.5555555555555556,
           "#d8576b"
          ],
          [
           0.6666666666666666,
           "#ed7953"
          ],
          [
           0.7777777777777778,
           "#fb9f3a"
          ],
          [
           0.8888888888888888,
           "#fdca26"
          ],
          [
           1,
           "#f0f921"
          ]
         ]
        },
        "legend": {
         "tracegroupgap": 0
        },
        "template": {
         "data": {
          "bar": [
           {
            "error_x": {
             "color": "#f2f5fa"
            },
            "error_y": {
             "color": "#f2f5fa"
            },
            "marker": {
             "line": {
              "color": "rgb(17,17,17)",
              "width": 0.5
             },
             "pattern": {
              "fillmode": "overlay",
              "size": 10,
              "solidity": 0.2
             }
            },
            "type": "bar"
           }
          ],
          "barpolar": [
           {
            "marker": {
             "line": {
              "color": "rgb(17,17,17)",
              "width": 0.5
             },
             "pattern": {
              "fillmode": "overlay",
              "size": 10,
              "solidity": 0.2
             }
            },
            "type": "barpolar"
           }
          ],
          "carpet": [
           {
            "aaxis": {
             "endlinecolor": "#A2B1C6",
             "gridcolor": "#506784",
             "linecolor": "#506784",
             "minorgridcolor": "#506784",
             "startlinecolor": "#A2B1C6"
            },
            "baxis": {
             "endlinecolor": "#A2B1C6",
             "gridcolor": "#506784",
             "linecolor": "#506784",
             "minorgridcolor": "#506784",
             "startlinecolor": "#A2B1C6"
            },
            "type": "carpet"
           }
          ],
          "choropleth": [
           {
            "colorbar": {
             "outlinewidth": 0,
             "ticks": ""
            },
            "type": "choropleth"
           }
          ],
          "contour": [
           {
            "colorbar": {
             "outlinewidth": 0,
             "ticks": ""
            },
            "colorscale": [
             [
              0,
              "#0d0887"
             ],
             [
              0.1111111111111111,
              "#46039f"
             ],
             [
              0.2222222222222222,
              "#7201a8"
             ],
             [
              0.3333333333333333,
              "#9c179e"
             ],
             [
              0.4444444444444444,
              "#bd3786"
             ],
             [
              0.5555555555555556,
              "#d8576b"
             ],
             [
              0.6666666666666666,
              "#ed7953"
             ],
             [
              0.7777777777777778,
              "#fb9f3a"
             ],
             [
              0.8888888888888888,
              "#fdca26"
             ],
             [
              1,
              "#f0f921"
             ]
            ],
            "type": "contour"
           }
          ],
          "contourcarpet": [
           {
            "colorbar": {
             "outlinewidth": 0,
             "ticks": ""
            },
            "type": "contourcarpet"
           }
          ],
          "heatmap": [
           {
            "colorbar": {
             "outlinewidth": 0,
             "ticks": ""
            },
            "colorscale": [
             [
              0,
              "#0d0887"
             ],
             [
              0.1111111111111111,
              "#46039f"
             ],
             [
              0.2222222222222222,
              "#7201a8"
             ],
             [
              0.3333333333333333,
              "#9c179e"
             ],
             [
              0.4444444444444444,
              "#bd3786"
             ],
             [
              0.5555555555555556,
              "#d8576b"
             ],
             [
              0.6666666666666666,
              "#ed7953"
             ],
             [
              0.7777777777777778,
              "#fb9f3a"
             ],
             [
              0.8888888888888888,
              "#fdca26"
             ],
             [
              1,
              "#f0f921"
             ]
            ],
            "type": "heatmap"
           }
          ],
          "heatmapgl": [
           {
            "colorbar": {
             "outlinewidth": 0,
             "ticks": ""
            },
            "colorscale": [
             [
              0,
              "#0d0887"
             ],
             [
              0.1111111111111111,
              "#46039f"
             ],
             [
              0.2222222222222222,
              "#7201a8"
             ],
             [
              0.3333333333333333,
              "#9c179e"
             ],
             [
              0.4444444444444444,
              "#bd3786"
             ],
             [
              0.5555555555555556,
              "#d8576b"
             ],
             [
              0.6666666666666666,
              "#ed7953"
             ],
             [
              0.7777777777777778,
              "#fb9f3a"
             ],
             [
              0.8888888888888888,
              "#fdca26"
             ],
             [
              1,
              "#f0f921"
             ]
            ],
            "type": "heatmapgl"
           }
          ],
          "histogram": [
           {
            "marker": {
             "pattern": {
              "fillmode": "overlay",
              "size": 10,
              "solidity": 0.2
             }
            },
            "type": "histogram"
           }
          ],
          "histogram2d": [
           {
            "colorbar": {
             "outlinewidth": 0,
             "ticks": ""
            },
            "colorscale": [
             [
              0,
              "#0d0887"
             ],
             [
              0.1111111111111111,
              "#46039f"
             ],
             [
              0.2222222222222222,
              "#7201a8"
             ],
             [
              0.3333333333333333,
              "#9c179e"
             ],
             [
              0.4444444444444444,
              "#bd3786"
             ],
             [
              0.5555555555555556,
              "#d8576b"
             ],
             [
              0.6666666666666666,
              "#ed7953"
             ],
             [
              0.7777777777777778,
              "#fb9f3a"
             ],
             [
              0.8888888888888888,
              "#fdca26"
             ],
             [
              1,
              "#f0f921"
             ]
            ],
            "type": "histogram2d"
           }
          ],
          "histogram2dcontour": [
           {
            "colorbar": {
             "outlinewidth": 0,
             "ticks": ""
            },
            "colorscale": [
             [
              0,
              "#0d0887"
             ],
             [
              0.1111111111111111,
              "#46039f"
             ],
             [
              0.2222222222222222,
              "#7201a8"
             ],
             [
              0.3333333333333333,
              "#9c179e"
             ],
             [
              0.4444444444444444,
              "#bd3786"
             ],
             [
              0.5555555555555556,
              "#d8576b"
             ],
             [
              0.6666666666666666,
              "#ed7953"
             ],
             [
              0.7777777777777778,
              "#fb9f3a"
             ],
             [
              0.8888888888888888,
              "#fdca26"
             ],
             [
              1,
              "#f0f921"
             ]
            ],
            "type": "histogram2dcontour"
           }
          ],
          "mesh3d": [
           {
            "colorbar": {
             "outlinewidth": 0,
             "ticks": ""
            },
            "type": "mesh3d"
           }
          ],
          "parcoords": [
           {
            "line": {
             "colorbar": {
              "outlinewidth": 0,
              "ticks": ""
             }
            },
            "type": "parcoords"
           }
          ],
          "pie": [
           {
            "automargin": true,
            "type": "pie"
           }
          ],
          "scatter": [
           {
            "marker": {
             "line": {
              "color": "#283442"
             }
            },
            "type": "scatter"
           }
          ],
          "scatter3d": [
           {
            "line": {
             "colorbar": {
              "outlinewidth": 0,
              "ticks": ""
             }
            },
            "marker": {
             "colorbar": {
              "outlinewidth": 0,
              "ticks": ""
             }
            },
            "type": "scatter3d"
           }
          ],
          "scattercarpet": [
           {
            "marker": {
             "colorbar": {
              "outlinewidth": 0,
              "ticks": ""
             }
            },
            "type": "scattercarpet"
           }
          ],
          "scattergeo": [
           {
            "marker": {
             "colorbar": {
              "outlinewidth": 0,
              "ticks": ""
             }
            },
            "type": "scattergeo"
           }
          ],
          "scattergl": [
           {
            "marker": {
             "line": {
              "color": "#283442"
             }
            },
            "type": "scattergl"
           }
          ],
          "scattermapbox": [
           {
            "marker": {
             "colorbar": {
              "outlinewidth": 0,
              "ticks": ""
             }
            },
            "type": "scattermapbox"
           }
          ],
          "scatterpolar": [
           {
            "marker": {
             "colorbar": {
              "outlinewidth": 0,
              "ticks": ""
             }
            },
            "type": "scatterpolar"
           }
          ],
          "scatterpolargl": [
           {
            "marker": {
             "colorbar": {
              "outlinewidth": 0,
              "ticks": ""
             }
            },
            "type": "scatterpolargl"
           }
          ],
          "scatterternary": [
           {
            "marker": {
             "colorbar": {
              "outlinewidth": 0,
              "ticks": ""
             }
            },
            "type": "scatterternary"
           }
          ],
          "surface": [
           {
            "colorbar": {
             "outlinewidth": 0,
             "ticks": ""
            },
            "colorscale": [
             [
              0,
              "#0d0887"
             ],
             [
              0.1111111111111111,
              "#46039f"
             ],
             [
              0.2222222222222222,
              "#7201a8"
             ],
             [
              0.3333333333333333,
              "#9c179e"
             ],
             [
              0.4444444444444444,
              "#bd3786"
             ],
             [
              0.5555555555555556,
              "#d8576b"
             ],
             [
              0.6666666666666666,
              "#ed7953"
             ],
             [
              0.7777777777777778,
              "#fb9f3a"
             ],
             [
              0.8888888888888888,
              "#fdca26"
             ],
             [
              1,
              "#f0f921"
             ]
            ],
            "type": "surface"
           }
          ],
          "table": [
           {
            "cells": {
             "fill": {
              "color": "#506784"
             },
             "line": {
              "color": "rgb(17,17,17)"
             }
            },
            "header": {
             "fill": {
              "color": "#2a3f5f"
             },
             "line": {
              "color": "rgb(17,17,17)"
             }
            },
            "type": "table"
           }
          ]
         },
         "layout": {
          "annotationdefaults": {
           "arrowcolor": "#f2f5fa",
           "arrowhead": 0,
           "arrowwidth": 1
          },
          "autotypenumbers": "strict",
          "coloraxis": {
           "colorbar": {
            "outlinewidth": 0,
            "ticks": ""
           }
          },
          "colorscale": {
           "diverging": [
            [
             0,
             "#8e0152"
            ],
            [
             0.1,
             "#c51b7d"
            ],
            [
             0.2,
             "#de77ae"
            ],
            [
             0.3,
             "#f1b6da"
            ],
            [
             0.4,
             "#fde0ef"
            ],
            [
             0.5,
             "#f7f7f7"
            ],
            [
             0.6,
             "#e6f5d0"
            ],
            [
             0.7,
             "#b8e186"
            ],
            [
             0.8,
             "#7fbc41"
            ],
            [
             0.9,
             "#4d9221"
            ],
            [
             1,
             "#276419"
            ]
           ],
           "sequential": [
            [
             0,
             "#0d0887"
            ],
            [
             0.1111111111111111,
             "#46039f"
            ],
            [
             0.2222222222222222,
             "#7201a8"
            ],
            [
             0.3333333333333333,
             "#9c179e"
            ],
            [
             0.4444444444444444,
             "#bd3786"
            ],
            [
             0.5555555555555556,
             "#d8576b"
            ],
            [
             0.6666666666666666,
             "#ed7953"
            ],
            [
             0.7777777777777778,
             "#fb9f3a"
            ],
            [
             0.8888888888888888,
             "#fdca26"
            ],
            [
             1,
             "#f0f921"
            ]
           ],
           "sequentialminus": [
            [
             0,
             "#0d0887"
            ],
            [
             0.1111111111111111,
             "#46039f"
            ],
            [
             0.2222222222222222,
             "#7201a8"
            ],
            [
             0.3333333333333333,
             "#9c179e"
            ],
            [
             0.4444444444444444,
             "#bd3786"
            ],
            [
             0.5555555555555556,
             "#d8576b"
            ],
            [
             0.6666666666666666,
             "#ed7953"
            ],
            [
             0.7777777777777778,
             "#fb9f3a"
            ],
            [
             0.8888888888888888,
             "#fdca26"
            ],
            [
             1,
             "#f0f921"
            ]
           ]
          },
          "colorway": [
           "#636efa",
           "#EF553B",
           "#00cc96",
           "#ab63fa",
           "#FFA15A",
           "#19d3f3",
           "#FF6692",
           "#B6E880",
           "#FF97FF",
           "#FECB52"
          ],
          "font": {
           "color": "#f2f5fa"
          },
          "geo": {
           "bgcolor": "rgb(17,17,17)",
           "lakecolor": "rgb(17,17,17)",
           "landcolor": "rgb(17,17,17)",
           "showlakes": true,
           "showland": true,
           "subunitcolor": "#506784"
          },
          "hoverlabel": {
           "align": "left"
          },
          "hovermode": "closest",
          "mapbox": {
           "style": "dark"
          },
          "paper_bgcolor": "rgb(17,17,17)",
          "plot_bgcolor": "rgb(17,17,17)",
          "polar": {
           "angularaxis": {
            "gridcolor": "#506784",
            "linecolor": "#506784",
            "ticks": ""
           },
           "bgcolor": "rgb(17,17,17)",
           "radialaxis": {
            "gridcolor": "#506784",
            "linecolor": "#506784",
            "ticks": ""
           }
          },
          "scene": {
           "xaxis": {
            "backgroundcolor": "rgb(17,17,17)",
            "gridcolor": "#506784",
            "gridwidth": 2,
            "linecolor": "#506784",
            "showbackground": true,
            "ticks": "",
            "zerolinecolor": "#C8D4E3"
           },
           "yaxis": {
            "backgroundcolor": "rgb(17,17,17)",
            "gridcolor": "#506784",
            "gridwidth": 2,
            "linecolor": "#506784",
            "showbackground": true,
            "ticks": "",
            "zerolinecolor": "#C8D4E3"
           },
           "zaxis": {
            "backgroundcolor": "rgb(17,17,17)",
            "gridcolor": "#506784",
            "gridwidth": 2,
            "linecolor": "#506784",
            "showbackground": true,
            "ticks": "",
            "zerolinecolor": "#C8D4E3"
           }
          },
          "shapedefaults": {
           "line": {
            "color": "#f2f5fa"
           }
          },
          "sliderdefaults": {
           "bgcolor": "#C8D4E3",
           "bordercolor": "rgb(17,17,17)",
           "borderwidth": 1,
           "tickwidth": 0
          },
          "ternary": {
           "aaxis": {
            "gridcolor": "#506784",
            "linecolor": "#506784",
            "ticks": ""
           },
           "baxis": {
            "gridcolor": "#506784",
            "linecolor": "#506784",
            "ticks": ""
           },
           "bgcolor": "rgb(17,17,17)",
           "caxis": {
            "gridcolor": "#506784",
            "linecolor": "#506784",
            "ticks": ""
           }
          },
          "title": {
           "x": 0.05
          },
          "updatemenudefaults": {
           "bgcolor": "#506784",
           "borderwidth": 0
          },
          "xaxis": {
           "automargin": true,
           "gridcolor": "#283442",
           "linecolor": "#506784",
           "ticks": "",
           "title": {
            "standoff": 15
           },
           "zerolinecolor": "#283442",
           "zerolinewidth": 2
          },
          "yaxis": {
           "automargin": true,
           "gridcolor": "#283442",
           "linecolor": "#506784",
           "ticks": "",
           "title": {
            "standoff": 15
           },
           "zerolinecolor": "#283442",
           "zerolinewidth": 2
          }
         }
        },
        "title": {
         "text": "Dari data di atas, Dell menjadi produk yang paling banyak muncul <br>dengan muncul sebanyak 297 kali..."
        },
        "xaxis": {
         "anchor": "y",
         "domain": [
          0,
          1
         ],
         "title": {
          "text": "index"
         }
        },
        "yaxis": {
         "anchor": "x",
         "domain": [
          0,
          1
         ],
         "title": {
          "text": "Jumlah Muncul"
         }
        }
       }
      },
      "text/html": [
       "<div>                            <div id=\"a3cb429e-3b98-47f0-a92a-4016634bbf2a\" class=\"plotly-graph-div\" style=\"height:525px; width:100%;\"></div>            <script type=\"text/javascript\">                require([\"plotly\"], function(Plotly) {                    window.PLOTLYENV=window.PLOTLYENV || {};                                    if (document.getElementById(\"a3cb429e-3b98-47f0-a92a-4016634bbf2a\")) {                    Plotly.newPlot(                        \"a3cb429e-3b98-47f0-a92a-4016634bbf2a\",                        [{\"alignmentgroup\":\"True\",\"hovertemplate\":\"index=%{x}<br>Jumlah Muncul=%{marker.color}<extra></extra>\",\"legendgroup\":\"\",\"marker\":{\"color\":[297,297,274,158,103,54,48,21,9,7,7,6,4,4,3,3,3,3,2],\"coloraxis\":\"coloraxis\",\"pattern\":{\"shape\":\"\"}},\"name\":\"\",\"offsetgroup\":\"\",\"orientation\":\"v\",\"showlegend\":false,\"textposition\":\"auto\",\"x\":[\"Dell\",\"Lenovo\",\"HP\",\"Asus\",\"Acer\",\"MSI\",\"Toshiba\",\"Apple\",\"Samsung\",\"Razer\",\"Mediacom\",\"Microsoft\",\"Xiaomi\",\"Vero\",\"Chuwi\",\"Google\",\"Fujitsu\",\"LG\",\"Huawei\"],\"xaxis\":\"x\",\"y\":[297,297,274,158,103,54,48,21,9,7,7,6,4,4,3,3,3,3,2],\"yaxis\":\"y\",\"type\":\"bar\"}],                        {\"template\":{\"data\":{\"barpolar\":[{\"marker\":{\"line\":{\"color\":\"rgb(17,17,17)\",\"width\":0.5},\"pattern\":{\"fillmode\":\"overlay\",\"size\":10,\"solidity\":0.2}},\"type\":\"barpolar\"}],\"bar\":[{\"error_x\":{\"color\":\"#f2f5fa\"},\"error_y\":{\"color\":\"#f2f5fa\"},\"marker\":{\"line\":{\"color\":\"rgb(17,17,17)\",\"width\":0.5},\"pattern\":{\"fillmode\":\"overlay\",\"size\":10,\"solidity\":0.2}},\"type\":\"bar\"}],\"carpet\":[{\"aaxis\":{\"endlinecolor\":\"#A2B1C6\",\"gridcolor\":\"#506784\",\"linecolor\":\"#506784\",\"minorgridcolor\":\"#506784\",\"startlinecolor\":\"#A2B1C6\"},\"baxis\":{\"endlinecolor\":\"#A2B1C6\",\"gridcolor\":\"#506784\",\"linecolor\":\"#506784\",\"minorgridcolor\":\"#506784\",\"startlinecolor\":\"#A2B1C6\"},\"type\":\"carpet\"}],\"choropleth\":[{\"colorbar\":{\"outlinewidth\":0,\"ticks\":\"\"},\"type\":\"choropleth\"}],\"contourcarpet\":[{\"colorbar\":{\"outlinewidth\":0,\"ticks\":\"\"},\"type\":\"contourcarpet\"}],\"contour\":[{\"colorbar\":{\"outlinewidth\":0,\"ticks\":\"\"},\"colorscale\":[[0.0,\"#0d0887\"],[0.1111111111111111,\"#46039f\"],[0.2222222222222222,\"#7201a8\"],[0.3333333333333333,\"#9c179e\"],[0.4444444444444444,\"#bd3786\"],[0.5555555555555556,\"#d8576b\"],[0.6666666666666666,\"#ed7953\"],[0.7777777777777778,\"#fb9f3a\"],[0.8888888888888888,\"#fdca26\"],[1.0,\"#f0f921\"]],\"type\":\"contour\"}],\"heatmapgl\":[{\"colorbar\":{\"outlinewidth\":0,\"ticks\":\"\"},\"colorscale\":[[0.0,\"#0d0887\"],[0.1111111111111111,\"#46039f\"],[0.2222222222222222,\"#7201a8\"],[0.3333333333333333,\"#9c179e\"],[0.4444444444444444,\"#bd3786\"],[0.5555555555555556,\"#d8576b\"],[0.6666666666666666,\"#ed7953\"],[0.7777777777777778,\"#fb9f3a\"],[0.8888888888888888,\"#fdca26\"],[1.0,\"#f0f921\"]],\"type\":\"heatmapgl\"}],\"heatmap\":[{\"colorbar\":{\"outlinewidth\":0,\"ticks\":\"\"},\"colorscale\":[[0.0,\"#0d0887\"],[0.1111111111111111,\"#46039f\"],[0.2222222222222222,\"#7201a8\"],[0.3333333333333333,\"#9c179e\"],[0.4444444444444444,\"#bd3786\"],[0.5555555555555556,\"#d8576b\"],[0.6666666666666666,\"#ed7953\"],[0.7777777777777778,\"#fb9f3a\"],[0.8888888888888888,\"#fdca26\"],[1.0,\"#f0f921\"]],\"type\":\"heatmap\"}],\"histogram2dcontour\":[{\"colorbar\":{\"outlinewidth\":0,\"ticks\":\"\"},\"colorscale\":[[0.0,\"#0d0887\"],[0.1111111111111111,\"#46039f\"],[0.2222222222222222,\"#7201a8\"],[0.3333333333333333,\"#9c179e\"],[0.4444444444444444,\"#bd3786\"],[0.5555555555555556,\"#d8576b\"],[0.6666666666666666,\"#ed7953\"],[0.7777777777777778,\"#fb9f3a\"],[0.8888888888888888,\"#fdca26\"],[1.0,\"#f0f921\"]],\"type\":\"histogram2dcontour\"}],\"histogram2d\":[{\"colorbar\":{\"outlinewidth\":0,\"ticks\":\"\"},\"colorscale\":[[0.0,\"#0d0887\"],[0.1111111111111111,\"#46039f\"],[0.2222222222222222,\"#7201a8\"],[0.3333333333333333,\"#9c179e\"],[0.4444444444444444,\"#bd3786\"],[0.5555555555555556,\"#d8576b\"],[0.6666666666666666,\"#ed7953\"],[0.7777777777777778,\"#fb9f3a\"],[0.8888888888888888,\"#fdca26\"],[1.0,\"#f0f921\"]],\"type\":\"histogram2d\"}],\"histogram\":[{\"marker\":{\"pattern\":{\"fillmode\":\"overlay\",\"size\":10,\"solidity\":0.2}},\"type\":\"histogram\"}],\"mesh3d\":[{\"colorbar\":{\"outlinewidth\":0,\"ticks\":\"\"},\"type\":\"mesh3d\"}],\"parcoords\":[{\"line\":{\"colorbar\":{\"outlinewidth\":0,\"ticks\":\"\"}},\"type\":\"parcoords\"}],\"pie\":[{\"automargin\":true,\"type\":\"pie\"}],\"scatter3d\":[{\"line\":{\"colorbar\":{\"outlinewidth\":0,\"ticks\":\"\"}},\"marker\":{\"colorbar\":{\"outlinewidth\":0,\"ticks\":\"\"}},\"type\":\"scatter3d\"}],\"scattercarpet\":[{\"marker\":{\"colorbar\":{\"outlinewidth\":0,\"ticks\":\"\"}},\"type\":\"scattercarpet\"}],\"scattergeo\":[{\"marker\":{\"colorbar\":{\"outlinewidth\":0,\"ticks\":\"\"}},\"type\":\"scattergeo\"}],\"scattergl\":[{\"marker\":{\"line\":{\"color\":\"#283442\"}},\"type\":\"scattergl\"}],\"scattermapbox\":[{\"marker\":{\"colorbar\":{\"outlinewidth\":0,\"ticks\":\"\"}},\"type\":\"scattermapbox\"}],\"scatterpolargl\":[{\"marker\":{\"colorbar\":{\"outlinewidth\":0,\"ticks\":\"\"}},\"type\":\"scatterpolargl\"}],\"scatterpolar\":[{\"marker\":{\"colorbar\":{\"outlinewidth\":0,\"ticks\":\"\"}},\"type\":\"scatterpolar\"}],\"scatter\":[{\"marker\":{\"line\":{\"color\":\"#283442\"}},\"type\":\"scatter\"}],\"scatterternary\":[{\"marker\":{\"colorbar\":{\"outlinewidth\":0,\"ticks\":\"\"}},\"type\":\"scatterternary\"}],\"surface\":[{\"colorbar\":{\"outlinewidth\":0,\"ticks\":\"\"},\"colorscale\":[[0.0,\"#0d0887\"],[0.1111111111111111,\"#46039f\"],[0.2222222222222222,\"#7201a8\"],[0.3333333333333333,\"#9c179e\"],[0.4444444444444444,\"#bd3786\"],[0.5555555555555556,\"#d8576b\"],[0.6666666666666666,\"#ed7953\"],[0.7777777777777778,\"#fb9f3a\"],[0.8888888888888888,\"#fdca26\"],[1.0,\"#f0f921\"]],\"type\":\"surface\"}],\"table\":[{\"cells\":{\"fill\":{\"color\":\"#506784\"},\"line\":{\"color\":\"rgb(17,17,17)\"}},\"header\":{\"fill\":{\"color\":\"#2a3f5f\"},\"line\":{\"color\":\"rgb(17,17,17)\"}},\"type\":\"table\"}]},\"layout\":{\"annotationdefaults\":{\"arrowcolor\":\"#f2f5fa\",\"arrowhead\":0,\"arrowwidth\":1},\"autotypenumbers\":\"strict\",\"coloraxis\":{\"colorbar\":{\"outlinewidth\":0,\"ticks\":\"\"}},\"colorscale\":{\"diverging\":[[0,\"#8e0152\"],[0.1,\"#c51b7d\"],[0.2,\"#de77ae\"],[0.3,\"#f1b6da\"],[0.4,\"#fde0ef\"],[0.5,\"#f7f7f7\"],[0.6,\"#e6f5d0\"],[0.7,\"#b8e186\"],[0.8,\"#7fbc41\"],[0.9,\"#4d9221\"],[1,\"#276419\"]],\"sequential\":[[0.0,\"#0d0887\"],[0.1111111111111111,\"#46039f\"],[0.2222222222222222,\"#7201a8\"],[0.3333333333333333,\"#9c179e\"],[0.4444444444444444,\"#bd3786\"],[0.5555555555555556,\"#d8576b\"],[0.6666666666666666,\"#ed7953\"],[0.7777777777777778,\"#fb9f3a\"],[0.8888888888888888,\"#fdca26\"],[1.0,\"#f0f921\"]],\"sequentialminus\":[[0.0,\"#0d0887\"],[0.1111111111111111,\"#46039f\"],[0.2222222222222222,\"#7201a8\"],[0.3333333333333333,\"#9c179e\"],[0.4444444444444444,\"#bd3786\"],[0.5555555555555556,\"#d8576b\"],[0.6666666666666666,\"#ed7953\"],[0.7777777777777778,\"#fb9f3a\"],[0.8888888888888888,\"#fdca26\"],[1.0,\"#f0f921\"]]},\"colorway\":[\"#636efa\",\"#EF553B\",\"#00cc96\",\"#ab63fa\",\"#FFA15A\",\"#19d3f3\",\"#FF6692\",\"#B6E880\",\"#FF97FF\",\"#FECB52\"],\"font\":{\"color\":\"#f2f5fa\"},\"geo\":{\"bgcolor\":\"rgb(17,17,17)\",\"lakecolor\":\"rgb(17,17,17)\",\"landcolor\":\"rgb(17,17,17)\",\"showlakes\":true,\"showland\":true,\"subunitcolor\":\"#506784\"},\"hoverlabel\":{\"align\":\"left\"},\"hovermode\":\"closest\",\"mapbox\":{\"style\":\"dark\"},\"paper_bgcolor\":\"rgb(17,17,17)\",\"plot_bgcolor\":\"rgb(17,17,17)\",\"polar\":{\"angularaxis\":{\"gridcolor\":\"#506784\",\"linecolor\":\"#506784\",\"ticks\":\"\"},\"bgcolor\":\"rgb(17,17,17)\",\"radialaxis\":{\"gridcolor\":\"#506784\",\"linecolor\":\"#506784\",\"ticks\":\"\"}},\"scene\":{\"xaxis\":{\"backgroundcolor\":\"rgb(17,17,17)\",\"gridcolor\":\"#506784\",\"gridwidth\":2,\"linecolor\":\"#506784\",\"showbackground\":true,\"ticks\":\"\",\"zerolinecolor\":\"#C8D4E3\"},\"yaxis\":{\"backgroundcolor\":\"rgb(17,17,17)\",\"gridcolor\":\"#506784\",\"gridwidth\":2,\"linecolor\":\"#506784\",\"showbackground\":true,\"ticks\":\"\",\"zerolinecolor\":\"#C8D4E3\"},\"zaxis\":{\"backgroundcolor\":\"rgb(17,17,17)\",\"gridcolor\":\"#506784\",\"gridwidth\":2,\"linecolor\":\"#506784\",\"showbackground\":true,\"ticks\":\"\",\"zerolinecolor\":\"#C8D4E3\"}},\"shapedefaults\":{\"line\":{\"color\":\"#f2f5fa\"}},\"sliderdefaults\":{\"bgcolor\":\"#C8D4E3\",\"bordercolor\":\"rgb(17,17,17)\",\"borderwidth\":1,\"tickwidth\":0},\"ternary\":{\"aaxis\":{\"gridcolor\":\"#506784\",\"linecolor\":\"#506784\",\"ticks\":\"\"},\"baxis\":{\"gridcolor\":\"#506784\",\"linecolor\":\"#506784\",\"ticks\":\"\"},\"bgcolor\":\"rgb(17,17,17)\",\"caxis\":{\"gridcolor\":\"#506784\",\"linecolor\":\"#506784\",\"ticks\":\"\"}},\"title\":{\"x\":0.05},\"updatemenudefaults\":{\"bgcolor\":\"#506784\",\"borderwidth\":0},\"xaxis\":{\"automargin\":true,\"gridcolor\":\"#283442\",\"linecolor\":\"#506784\",\"ticks\":\"\",\"title\":{\"standoff\":15},\"zerolinecolor\":\"#283442\",\"zerolinewidth\":2},\"yaxis\":{\"automargin\":true,\"gridcolor\":\"#283442\",\"linecolor\":\"#506784\",\"ticks\":\"\",\"title\":{\"standoff\":15},\"zerolinecolor\":\"#283442\",\"zerolinewidth\":2}}},\"xaxis\":{\"anchor\":\"y\",\"domain\":[0.0,1.0],\"title\":{\"text\":\"index\"}},\"yaxis\":{\"anchor\":\"x\",\"domain\":[0.0,1.0],\"title\":{\"text\":\"Jumlah Muncul\"}},\"coloraxis\":{\"colorbar\":{\"title\":{\"text\":\"Jumlah Muncul\"}},\"colorscale\":[[0.0,\"#0d0887\"],[0.1111111111111111,\"#46039f\"],[0.2222222222222222,\"#7201a8\"],[0.3333333333333333,\"#9c179e\"],[0.4444444444444444,\"#bd3786\"],[0.5555555555555556,\"#d8576b\"],[0.6666666666666666,\"#ed7953\"],[0.7777777777777778,\"#fb9f3a\"],[0.8888888888888888,\"#fdca26\"],[1.0,\"#f0f921\"]]},\"legend\":{\"tracegroupgap\":0},\"title\":{\"text\":\"Dari data di atas, Dell menjadi produk yang paling banyak muncul <br>dengan muncul sebanyak 297 kali...\"},\"barmode\":\"relative\"},                        {\"responsive\": true}                    ).then(function(){\n",
       "                            \n",
       "var gd = document.getElementById('a3cb429e-3b98-47f0-a92a-4016634bbf2a');\n",
       "var x = new MutationObserver(function (mutations, observer) {{\n",
       "        var display = window.getComputedStyle(gd).display;\n",
       "        if (!display || display === 'none') {{\n",
       "            console.log([gd, 'removed!']);\n",
       "            Plotly.purge(gd);\n",
       "            observer.disconnect();\n",
       "        }}\n",
       "}});\n",
       "\n",
       "// Listen for the removal of the full notebook cells\n",
       "var notebookContainer = gd.closest('#notebook-container');\n",
       "if (notebookContainer) {{\n",
       "    x.observe(notebookContainer, {childList: true});\n",
       "}}\n",
       "\n",
       "// Listen for the clearing of the current output cell\n",
       "var outputEl = gd.closest('.output');\n",
       "if (outputEl) {{\n",
       "    x.observe(outputEl, {childList: true});\n",
       "}}\n",
       "\n",
       "                        })                };                });            </script>        </div>"
      ]
     },
     "metadata": {},
     "output_type": "display_data"
    }
   ],
   "source": [
    "jml_laptop = data_sub[\"Company\"].value_counts()\n",
    "fig = px.bar(jml_laptop,\n",
    "            x=jml_laptop.index,\n",
    "            y=jml_laptop.values,\n",
    "            template=\"plotly_dark\",\n",
    "            color=jml_laptop.values,\n",
    "            labels=dict(x=\"Merk\", y=\"Jumlah Muncul\", color=\"Jumlah Muncul\"),\n",
    "            title=\"Dari data di atas, Dell menjadi produk yang paling banyak muncul <br>dengan muncul sebanyak 297 kali...\")\n",
    "fig.show()"
   ]
  },
  {
   "cell_type": "code",
   "execution_count": null,
   "id": "d722ed7c",
   "metadata": {
    "hide_input": true
   },
   "outputs": [],
   "source": []
  },
  {
   "cell_type": "code",
   "execution_count": 563,
   "id": "5d7d3fd3",
   "metadata": {
    "ExecuteTime": {
     "end_time": "2023-02-22T06:17:05.958477Z",
     "start_time": "2023-02-22T06:17:05.930476Z"
    }
   },
   "outputs": [
    {
     "data": {
      "text/plain": [
       "array(['macOS', 'No OS', 'Windows 10', 'Mac OS X', 'Linux', 'Android',\n",
       "       'Windows 10 S', 'Chrome OS', 'Windows 7'], dtype=object)"
      ]
     },
     "execution_count": 563,
     "metadata": {},
     "output_type": "execute_result"
    }
   ],
   "source": [
    "data_sub['OpSys'].unique()"
   ]
  },
  {
   "cell_type": "code",
   "execution_count": 564,
   "id": "856421b1",
   "metadata": {
    "ExecuteTime": {
     "end_time": "2023-02-22T06:17:06.059481Z",
     "start_time": "2023-02-22T06:17:05.968474Z"
    }
   },
   "outputs": [],
   "source": [
    "data_sub = data_sub[(data_sub['OpSys']!=\"No OS\") &\n",
    "                   (data_sub['OpSys']!=\"Android\")]"
   ]
  },
  {
   "cell_type": "code",
   "execution_count": 565,
   "id": "3def17ae",
   "metadata": {
    "ExecuteTime": {
     "end_time": "2023-02-22T06:17:06.160474Z",
     "start_time": "2023-02-22T06:17:06.068477Z"
    }
   },
   "outputs": [
    {
     "data": {
      "text/plain": [
       "array(['macOS', 'Windows 10', 'Mac OS X', 'Linux', 'Windows 10 S',\n",
       "       'Chrome OS', 'Windows 7'], dtype=object)"
      ]
     },
     "execution_count": 565,
     "metadata": {},
     "output_type": "execute_result"
    }
   ],
   "source": [
    "data_sub['OpSys'].unique()"
   ]
  },
  {
   "cell_type": "code",
   "execution_count": 566,
   "id": "4c9c2804",
   "metadata": {
    "ExecuteTime": {
     "end_time": "2023-02-22T06:17:06.273477Z",
     "start_time": "2023-02-22T06:17:06.171475Z"
    }
   },
   "outputs": [
    {
     "name": "stderr",
     "output_type": "stream",
     "text": [
      "C:\\Users\\LENOVO\\AppData\\Roaming\\Python\\Python37\\site-packages\\ipykernel_launcher.py:7: SettingWithCopyWarning:\n",
      "\n",
      "\n",
      "A value is trying to be set on a copy of a slice from a DataFrame.\n",
      "Try using .loc[row_indexer,col_indexer] = value instead\n",
      "\n",
      "See the caveats in the documentation: https://pandas.pydata.org/pandas-docs/stable/user_guide/indexing.html#returning-a-view-versus-a-copy\n",
      "\n"
     ]
    }
   ],
   "source": [
    "data_sub['OpSys'] = data_sub['OpSys'].map({'macOS':'MacOS', \n",
    "                                           'Windows 10':'Windows', \n",
    "                                           'Mac OS X':'MacOs', \n",
    "                                           'Linux':'Linux', \n",
    "                                           'Windows 10 S':'Windows',\n",
    "                                           'Chrome OS':'Chrome', \n",
    "                                           'Windows 7':'Windows'})"
   ]
  },
  {
   "cell_type": "code",
   "execution_count": 567,
   "id": "907c8eaf",
   "metadata": {
    "ExecuteTime": {
     "end_time": "2023-02-22T06:17:06.393476Z",
     "start_time": "2023-02-22T06:17:06.285479Z"
    }
   },
   "outputs": [
    {
     "data": {
      "text/plain": [
       "array(['MacOS', 'Windows', 'MacOs', 'Linux', 'Chrome'], dtype=object)"
      ]
     },
     "execution_count": 567,
     "metadata": {},
     "output_type": "execute_result"
    }
   ],
   "source": [
    "data_sub['OpSys'].unique()"
   ]
  },
  {
   "cell_type": "code",
   "execution_count": 568,
   "id": "ed7e16dd",
   "metadata": {
    "ExecuteTime": {
     "end_time": "2023-02-22T06:17:06.538477Z",
     "start_time": "2023-02-22T06:17:06.404476Z"
    }
   },
   "outputs": [
    {
     "name": "stdout",
     "output_type": "stream",
     "text": [
      "<class 'pandas.core.frame.DataFrame'>\n",
      "Int64Index: 1235 entries, 0 to 1302\n",
      "Data columns (total 8 columns):\n",
      " #   Column       Non-Null Count  Dtype  \n",
      "---  ------       --------------  -----  \n",
      " 0   Company      1235 non-null   object \n",
      " 1   Cpu          1235 non-null   object \n",
      " 2   Ram          1235 non-null   object \n",
      " 3   Memory       1235 non-null   object \n",
      " 4   Gpu          1235 non-null   object \n",
      " 5   OpSys        1235 non-null   object \n",
      " 6   Weight       1235 non-null   object \n",
      " 7   Price_euros  1235 non-null   float64\n",
      "dtypes: float64(1), object(7)\n",
      "memory usage: 86.8+ KB\n"
     ]
    }
   ],
   "source": [
    "data_sub.info()"
   ]
  },
  {
   "cell_type": "code",
   "execution_count": 569,
   "id": "5aeb9cd9",
   "metadata": {
    "ExecuteTime": {
     "end_time": "2023-02-22T06:17:06.647480Z",
     "start_time": "2023-02-22T06:17:06.549476Z"
    }
   },
   "outputs": [],
   "source": [
    "himpunan_ram = []\n",
    "for i in data_sub['Ram']:\n",
    "    teks = i.strip(\"GB\")\n",
    "    himpunan_ram.append(int(teks))"
   ]
  },
  {
   "cell_type": "code",
   "execution_count": 570,
   "id": "a7d9a292",
   "metadata": {
    "ExecuteTime": {
     "end_time": "2023-02-22T06:17:06.816473Z",
     "start_time": "2023-02-22T06:17:06.676475Z"
    }
   },
   "outputs": [
    {
     "name": "stderr",
     "output_type": "stream",
     "text": [
      "C:\\Users\\LENOVO\\AppData\\Roaming\\Python\\Python37\\site-packages\\ipykernel_launcher.py:1: SettingWithCopyWarning:\n",
      "\n",
      "\n",
      "A value is trying to be set on a copy of a slice from a DataFrame.\n",
      "Try using .loc[row_indexer,col_indexer] = value instead\n",
      "\n",
      "See the caveats in the documentation: https://pandas.pydata.org/pandas-docs/stable/user_guide/indexing.html#returning-a-view-versus-a-copy\n",
      "\n"
     ]
    }
   ],
   "source": [
    "data_sub['Ram'] = himpunan_ram"
   ]
  },
  {
   "cell_type": "code",
   "execution_count": 571,
   "id": "e3048274",
   "metadata": {
    "ExecuteTime": {
     "end_time": "2023-02-22T06:17:06.998475Z",
     "start_time": "2023-02-22T06:17:06.825475Z"
    }
   },
   "outputs": [
    {
     "data": {
      "text/html": [
       "<div>\n",
       "<style scoped>\n",
       "    .dataframe tbody tr th:only-of-type {\n",
       "        vertical-align: middle;\n",
       "    }\n",
       "\n",
       "    .dataframe tbody tr th {\n",
       "        vertical-align: top;\n",
       "    }\n",
       "\n",
       "    .dataframe thead th {\n",
       "        text-align: right;\n",
       "    }\n",
       "</style>\n",
       "<table border=\"1\" class=\"dataframe\">\n",
       "  <thead>\n",
       "    <tr style=\"text-align: right;\">\n",
       "      <th></th>\n",
       "      <th>Company</th>\n",
       "      <th>Cpu</th>\n",
       "      <th>Ram</th>\n",
       "      <th>Memory</th>\n",
       "      <th>Gpu</th>\n",
       "      <th>OpSys</th>\n",
       "      <th>Weight</th>\n",
       "      <th>Price_euros</th>\n",
       "    </tr>\n",
       "  </thead>\n",
       "  <tbody>\n",
       "    <tr>\n",
       "      <th>0</th>\n",
       "      <td>Apple</td>\n",
       "      <td>Intel Core i5 2.3GHz</td>\n",
       "      <td>8</td>\n",
       "      <td>128GB SSD</td>\n",
       "      <td>Intel Iris Plus Graphics 640</td>\n",
       "      <td>MacOS</td>\n",
       "      <td>1.37kg</td>\n",
       "      <td>1339.69</td>\n",
       "    </tr>\n",
       "    <tr>\n",
       "      <th>1</th>\n",
       "      <td>Apple</td>\n",
       "      <td>Intel Core i5 1.8GHz</td>\n",
       "      <td>8</td>\n",
       "      <td>128GB Flash Storage</td>\n",
       "      <td>Intel HD Graphics 6000</td>\n",
       "      <td>MacOS</td>\n",
       "      <td>1.34kg</td>\n",
       "      <td>898.94</td>\n",
       "    </tr>\n",
       "    <tr>\n",
       "      <th>3</th>\n",
       "      <td>Apple</td>\n",
       "      <td>Intel Core i7 2.7GHz</td>\n",
       "      <td>16</td>\n",
       "      <td>512GB SSD</td>\n",
       "      <td>AMD Radeon Pro 455</td>\n",
       "      <td>MacOS</td>\n",
       "      <td>1.83kg</td>\n",
       "      <td>2537.45</td>\n",
       "    </tr>\n",
       "    <tr>\n",
       "      <th>4</th>\n",
       "      <td>Apple</td>\n",
       "      <td>Intel Core i5 3.1GHz</td>\n",
       "      <td>8</td>\n",
       "      <td>256GB SSD</td>\n",
       "      <td>Intel Iris Plus Graphics 650</td>\n",
       "      <td>MacOS</td>\n",
       "      <td>1.37kg</td>\n",
       "      <td>1803.60</td>\n",
       "    </tr>\n",
       "    <tr>\n",
       "      <th>5</th>\n",
       "      <td>Acer</td>\n",
       "      <td>AMD A9-Series 9420 3GHz</td>\n",
       "      <td>4</td>\n",
       "      <td>500GB HDD</td>\n",
       "      <td>AMD Radeon R5</td>\n",
       "      <td>Windows</td>\n",
       "      <td>2.1kg</td>\n",
       "      <td>400.00</td>\n",
       "    </tr>\n",
       "    <tr>\n",
       "      <th>...</th>\n",
       "      <td>...</td>\n",
       "      <td>...</td>\n",
       "      <td>...</td>\n",
       "      <td>...</td>\n",
       "      <td>...</td>\n",
       "      <td>...</td>\n",
       "      <td>...</td>\n",
       "      <td>...</td>\n",
       "    </tr>\n",
       "    <tr>\n",
       "      <th>1298</th>\n",
       "      <td>Lenovo</td>\n",
       "      <td>Intel Core i7 6500U 2.5GHz</td>\n",
       "      <td>4</td>\n",
       "      <td>128GB SSD</td>\n",
       "      <td>Intel HD Graphics 520</td>\n",
       "      <td>Windows</td>\n",
       "      <td>1.8kg</td>\n",
       "      <td>638.00</td>\n",
       "    </tr>\n",
       "    <tr>\n",
       "      <th>1299</th>\n",
       "      <td>Lenovo</td>\n",
       "      <td>Intel Core i7 6500U 2.5GHz</td>\n",
       "      <td>16</td>\n",
       "      <td>512GB SSD</td>\n",
       "      <td>Intel HD Graphics 520</td>\n",
       "      <td>Windows</td>\n",
       "      <td>1.3kg</td>\n",
       "      <td>1499.00</td>\n",
       "    </tr>\n",
       "    <tr>\n",
       "      <th>1300</th>\n",
       "      <td>Lenovo</td>\n",
       "      <td>Intel Celeron Dual Core N3050 1.6GHz</td>\n",
       "      <td>2</td>\n",
       "      <td>64GB Flash Storage</td>\n",
       "      <td>Intel HD Graphics</td>\n",
       "      <td>Windows</td>\n",
       "      <td>1.5kg</td>\n",
       "      <td>229.00</td>\n",
       "    </tr>\n",
       "    <tr>\n",
       "      <th>1301</th>\n",
       "      <td>HP</td>\n",
       "      <td>Intel Core i7 6500U 2.5GHz</td>\n",
       "      <td>6</td>\n",
       "      <td>1TB HDD</td>\n",
       "      <td>AMD Radeon R5 M330</td>\n",
       "      <td>Windows</td>\n",
       "      <td>2.19kg</td>\n",
       "      <td>764.00</td>\n",
       "    </tr>\n",
       "    <tr>\n",
       "      <th>1302</th>\n",
       "      <td>Asus</td>\n",
       "      <td>Intel Celeron Dual Core N3050 1.6GHz</td>\n",
       "      <td>4</td>\n",
       "      <td>500GB HDD</td>\n",
       "      <td>Intel HD Graphics</td>\n",
       "      <td>Windows</td>\n",
       "      <td>2.2kg</td>\n",
       "      <td>369.00</td>\n",
       "    </tr>\n",
       "  </tbody>\n",
       "</table>\n",
       "<p>1235 rows × 8 columns</p>\n",
       "</div>"
      ],
      "text/plain": [
       "     Company                                   Cpu  Ram               Memory  \\\n",
       "0      Apple                  Intel Core i5 2.3GHz    8            128GB SSD   \n",
       "1      Apple                  Intel Core i5 1.8GHz    8  128GB Flash Storage   \n",
       "3      Apple                  Intel Core i7 2.7GHz   16            512GB SSD   \n",
       "4      Apple                  Intel Core i5 3.1GHz    8            256GB SSD   \n",
       "5       Acer               AMD A9-Series 9420 3GHz    4            500GB HDD   \n",
       "...      ...                                   ...  ...                  ...   \n",
       "1298  Lenovo            Intel Core i7 6500U 2.5GHz    4            128GB SSD   \n",
       "1299  Lenovo            Intel Core i7 6500U 2.5GHz   16            512GB SSD   \n",
       "1300  Lenovo  Intel Celeron Dual Core N3050 1.6GHz    2   64GB Flash Storage   \n",
       "1301      HP            Intel Core i7 6500U 2.5GHz    6              1TB HDD   \n",
       "1302    Asus  Intel Celeron Dual Core N3050 1.6GHz    4            500GB HDD   \n",
       "\n",
       "                               Gpu    OpSys  Weight  Price_euros  \n",
       "0     Intel Iris Plus Graphics 640    MacOS  1.37kg      1339.69  \n",
       "1           Intel HD Graphics 6000    MacOS  1.34kg       898.94  \n",
       "3               AMD Radeon Pro 455    MacOS  1.83kg      2537.45  \n",
       "4     Intel Iris Plus Graphics 650    MacOS  1.37kg      1803.60  \n",
       "5                    AMD Radeon R5  Windows   2.1kg       400.00  \n",
       "...                            ...      ...     ...          ...  \n",
       "1298         Intel HD Graphics 520  Windows   1.8kg       638.00  \n",
       "1299         Intel HD Graphics 520  Windows   1.3kg      1499.00  \n",
       "1300             Intel HD Graphics  Windows   1.5kg       229.00  \n",
       "1301            AMD Radeon R5 M330  Windows  2.19kg       764.00  \n",
       "1302             Intel HD Graphics  Windows   2.2kg       369.00  \n",
       "\n",
       "[1235 rows x 8 columns]"
      ]
     },
     "execution_count": 571,
     "metadata": {},
     "output_type": "execute_result"
    }
   ],
   "source": [
    "data_sub"
   ]
  },
  {
   "cell_type": "code",
   "execution_count": 572,
   "id": "b5180ca6",
   "metadata": {
    "ExecuteTime": {
     "end_time": "2023-02-22T06:17:07.085479Z",
     "start_time": "2023-02-22T06:17:07.009476Z"
    }
   },
   "outputs": [
    {
     "name": "stderr",
     "output_type": "stream",
     "text": [
      "C:\\Users\\LENOVO\\AppData\\Roaming\\Python\\Python37\\site-packages\\ipykernel_launcher.py:1: SettingWithCopyWarning:\n",
      "\n",
      "\n",
      "A value is trying to be set on a copy of a slice from a DataFrame.\n",
      "Try using .loc[row_indexer,col_indexer] = value instead\n",
      "\n",
      "See the caveats in the documentation: https://pandas.pydata.org/pandas-docs/stable/user_guide/indexing.html#returning-a-view-versus-a-copy\n",
      "\n"
     ]
    }
   ],
   "source": [
    "data_sub['Weight'] = data_sub['Weight'].str.replace(\"kg\",\"\")"
   ]
  },
  {
   "cell_type": "code",
   "execution_count": 573,
   "id": "39560a46",
   "metadata": {
    "ExecuteTime": {
     "end_time": "2023-02-22T06:17:07.186476Z",
     "start_time": "2023-02-22T06:17:07.096479Z"
    }
   },
   "outputs": [
    {
     "name": "stderr",
     "output_type": "stream",
     "text": [
      "C:\\Users\\LENOVO\\AppData\\Roaming\\Python\\Python37\\site-packages\\ipykernel_launcher.py:1: SettingWithCopyWarning:\n",
      "\n",
      "\n",
      "A value is trying to be set on a copy of a slice from a DataFrame.\n",
      "Try using .loc[row_indexer,col_indexer] = value instead\n",
      "\n",
      "See the caveats in the documentation: https://pandas.pydata.org/pandas-docs/stable/user_guide/indexing.html#returning-a-view-versus-a-copy\n",
      "\n"
     ]
    }
   ],
   "source": [
    "data_sub[\"Weight\"] = data_sub[\"Weight\"].astype('float32') "
   ]
  },
  {
   "cell_type": "code",
   "execution_count": 574,
   "id": "98f66b62",
   "metadata": {
    "ExecuteTime": {
     "end_time": "2023-02-22T06:17:07.383477Z",
     "start_time": "2023-02-22T06:17:07.196477Z"
    }
   },
   "outputs": [
    {
     "name": "stdout",
     "output_type": "stream",
     "text": [
      "<class 'pandas.core.frame.DataFrame'>\n",
      "Int64Index: 1235 entries, 0 to 1302\n",
      "Data columns (total 8 columns):\n",
      " #   Column       Non-Null Count  Dtype  \n",
      "---  ------       --------------  -----  \n",
      " 0   Company      1235 non-null   object \n",
      " 1   Cpu          1235 non-null   object \n",
      " 2   Ram          1235 non-null   int64  \n",
      " 3   Memory       1235 non-null   object \n",
      " 4   Gpu          1235 non-null   object \n",
      " 5   OpSys        1235 non-null   object \n",
      " 6   Weight       1235 non-null   float32\n",
      " 7   Price_euros  1235 non-null   float64\n",
      "dtypes: float32(1), float64(1), int64(1), object(5)\n",
      "memory usage: 82.0+ KB\n"
     ]
    }
   ],
   "source": [
    "data_sub.info()"
   ]
  },
  {
   "cell_type": "code",
   "execution_count": 575,
   "id": "9cac2d26",
   "metadata": {
    "ExecuteTime": {
     "end_time": "2023-02-22T06:17:07.584602Z",
     "start_time": "2023-02-22T06:17:07.405475Z"
    }
   },
   "outputs": [
    {
     "data": {
      "text/html": [
       "<div>\n",
       "<style scoped>\n",
       "    .dataframe tbody tr th:only-of-type {\n",
       "        vertical-align: middle;\n",
       "    }\n",
       "\n",
       "    .dataframe tbody tr th {\n",
       "        vertical-align: top;\n",
       "    }\n",
       "\n",
       "    .dataframe thead th {\n",
       "        text-align: right;\n",
       "    }\n",
       "</style>\n",
       "<table border=\"1\" class=\"dataframe\">\n",
       "  <thead>\n",
       "    <tr style=\"text-align: right;\">\n",
       "      <th></th>\n",
       "      <th>Company</th>\n",
       "      <th>Cpu</th>\n",
       "      <th>Ram</th>\n",
       "      <th>Memory</th>\n",
       "      <th>Gpu</th>\n",
       "      <th>OpSys</th>\n",
       "      <th>Weight</th>\n",
       "      <th>Price_euros</th>\n",
       "    </tr>\n",
       "  </thead>\n",
       "  <tbody>\n",
       "    <tr>\n",
       "      <th>1191</th>\n",
       "      <td>Samsung</td>\n",
       "      <td>Samsung Cortex A72&amp;A53 2.0GHz</td>\n",
       "      <td>4</td>\n",
       "      <td>32GB Flash Storage</td>\n",
       "      <td>ARM Mali T860 MP4</td>\n",
       "      <td>Chrome</td>\n",
       "      <td>1.15</td>\n",
       "      <td>659.0</td>\n",
       "    </tr>\n",
       "  </tbody>\n",
       "</table>\n",
       "</div>"
      ],
      "text/plain": [
       "      Company                            Cpu  Ram              Memory  \\\n",
       "1191  Samsung  Samsung Cortex A72&A53 2.0GHz    4  32GB Flash Storage   \n",
       "\n",
       "                    Gpu   OpSys  Weight  Price_euros  \n",
       "1191  ARM Mali T860 MP4  Chrome    1.15        659.0  "
      ]
     },
     "execution_count": 575,
     "metadata": {},
     "output_type": "execute_result"
    }
   ],
   "source": [
    "data_sub[data_sub['Cpu']==\"Samsung Cortex A72&A53 2.0GHz\"]"
   ]
  },
  {
   "cell_type": "code",
   "execution_count": 576,
   "id": "ac156541",
   "metadata": {
    "ExecuteTime": {
     "end_time": "2023-02-22T06:17:07.740693Z",
     "start_time": "2023-02-22T06:17:07.598604Z"
    }
   },
   "outputs": [],
   "source": [
    "data_sub = data_sub.drop(index=1191,axis=0)"
   ]
  },
  {
   "cell_type": "code",
   "execution_count": 577,
   "id": "e96f6f45",
   "metadata": {
    "ExecuteTime": {
     "end_time": "2023-02-22T06:17:07.875692Z",
     "start_time": "2023-02-22T06:17:07.752693Z"
    }
   },
   "outputs": [
    {
     "data": {
      "text/plain": [
       "array(['Intel Core i5 2.3GHz', 'Intel Core i5 1.8GHz',\n",
       "       'Intel Core i7 2.7GHz', 'Intel Core i5 3.1GHz',\n",
       "       'AMD A9-Series 9420 3GHz', 'Intel Core i7 2.2GHz',\n",
       "       'Intel Core i7 8550U 1.8GHz', 'Intel Core i5 8250U 1.6GHz',\n",
       "       'Intel Core i7 2.8GHz', 'Intel Core i3 6006U 2GHz',\n",
       "       'Intel Core M m3 1.2GHz', 'Intel Core i7 7500U 2.7GHz',\n",
       "       'Intel Core i7 2.9GHz', 'Intel Atom x5-Z8350 1.44GHz',\n",
       "       'Intel Core i5 7300HQ 2.5GHz', 'Intel Core i5 1.6GHz',\n",
       "       'Intel Core i7 8650U 1.9GHz', 'Intel Atom x5-Z8300 1.44GHz',\n",
       "       'AMD E-Series E2-6110 1.5GHz', 'AMD A6-Series 9220 2.5GHz',\n",
       "       'Intel Celeron Dual Core N3350 1.1GHz',\n",
       "       'Intel Core i3 7130U 2.7GHz', 'Intel Core i5 7200U 2.5GHz',\n",
       "       'Intel Core i7 7700HQ 2.8GHz', 'Intel Core i5 2.0GHz',\n",
       "       'AMD Ryzen 1700 3GHz', 'Intel Pentium Quad Core N4200 1.1GHz',\n",
       "       'Intel Core i3 7100U 2.4GHz',\n",
       "       'Intel Celeron Dual Core N3060 1.6GHz', 'Intel Core i5 1.3GHz',\n",
       "       'AMD FX 9830P 3GHz', 'AMD E-Series E2-9000e 1.5GHz',\n",
       "       'Intel Core i7 7560U 2.4GHz', 'AMD E-Series 6110 1.5GHz',\n",
       "       'Intel Core i5 6200U 2.3GHz', 'Intel Core M 6Y75 1.2GHz',\n",
       "       'Intel Core i5 7500U 2.7GHz', 'Intel Core i3 6006U 2.2GHz',\n",
       "       'Intel Core i7 6920HQ 2.9GHz', 'Intel Core i5 7Y54 1.2GHz',\n",
       "       'Intel Core i7 7820HK 2.9GHz', 'Intel Xeon E3-1505M V6 3GHz',\n",
       "       'Intel Core i7 6500U 2.5GHz', 'AMD E-Series 9000e 1.5GHz',\n",
       "       'AMD A10-Series A10-9620P 2.5GHz', 'AMD A6-Series A6-9220 2.5GHz',\n",
       "       'Intel Core i5 2.9GHz', 'Intel Core i7 6600U 2.6GHz',\n",
       "       'Intel Core i3 6006U 2.0GHz',\n",
       "       'Intel Celeron Dual Core 3205U 1.5GHz',\n",
       "       'Intel Core i7 7820HQ 2.9GHz', 'AMD A10-Series 9600P 2.4GHz',\n",
       "       'Intel Core i7 7600U 2.8GHz', 'AMD A8-Series 7410 2.2GHz',\n",
       "       'Intel Celeron Dual Core 3855U 1.6GHz',\n",
       "       'Intel Pentium Quad Core N3710 1.6GHz',\n",
       "       'AMD A12-Series 9720P 2.7GHz', 'Intel Core i5 7300U 2.6GHz',\n",
       "       'AMD A12-Series 9720P 3.6GHz',\n",
       "       'Intel Celeron Quad Core N3450 1.1GHz',\n",
       "       'Intel Celeron Dual Core N3060 1.60GHz',\n",
       "       'Intel Core i5 6440HQ 2.6GHz', 'Intel Core i7 6820HQ 2.7GHz',\n",
       "       'AMD Ryzen 1600 3.2GHz', 'Intel Core i7 7Y75 1.3GHz',\n",
       "       'Intel Core i5 7440HQ 2.8GHz', 'Intel Core i7 7660U 2.5GHz',\n",
       "       'Intel Core i7 7700HQ 2.7GHz', 'Intel Core M m3-7Y30 2.2GHz',\n",
       "       'Intel Core i5 7Y57 1.2GHz', 'Intel Core i7 6700HQ 2.6GHz',\n",
       "       'Intel Core i3 6100U 2.3GHz', 'AMD A10-Series 9620P 2.5GHz',\n",
       "       'AMD E-Series 7110 1.8GHz', 'Intel Celeron Dual Core N3350 2.0GHz',\n",
       "       'AMD A9-Series A9-9420 3GHz', 'Intel Core i7 6820HK 2.7GHz',\n",
       "       'Intel Core M 7Y30 1.0GHz', 'Intel Xeon E3-1535M v6 3.1GHz',\n",
       "       'Intel Celeron Quad Core N3160 1.6GHz',\n",
       "       'Intel Core i5 6300U 2.4GHz', 'Intel Core i3 6100U 2.1GHz',\n",
       "       'AMD E-Series E2-9000 2.2GHz',\n",
       "       'Intel Celeron Dual Core N3050 1.6GHz',\n",
       "       'Intel Core M M3-6Y30 0.9GHz', 'AMD A9-Series 9420 2.9GHz',\n",
       "       'Intel Core i5 6300HQ 2.3GHz', 'AMD A6-Series 7310 2GHz',\n",
       "       'Intel Atom Z8350 1.92GHz', 'Intel Xeon E3-1535M v5 2.9GHz',\n",
       "       'Intel Core i5 6260U 1.8GHz',\n",
       "       'Intel Pentium Dual Core N4200 1.1GHz', 'Intel Core M 1.2GHz',\n",
       "       'AMD A12-Series 9700P 2.5GHz', 'Intel Core i7 7500U 2.5GHz',\n",
       "       'Intel Pentium Dual Core 4405U 2.1GHz',\n",
       "       'AMD A4-Series 7210 2.2GHz', 'Intel Core i7 6560U 2.2GHz',\n",
       "       'Intel Core M m7-6Y75 1.2GHz', 'AMD FX 8800P 2.1GHz',\n",
       "       'Intel Core M M7-6Y75 1.2GHz', 'Intel Core i5 7200U 2.50GHz',\n",
       "       'Intel Core i5 7200U 2.70GHz', 'Intel Atom X5-Z8350 1.44GHz',\n",
       "       'Intel Core i5 7200U 2.7GHz', 'Intel Core M 1.1GHz',\n",
       "       'Intel Atom x5-Z8550 1.44GHz',\n",
       "       'Intel Pentium Dual Core 4405Y 1.5GHz',\n",
       "       'Intel Pentium Quad Core N3700 1.6GHz', 'Intel Core M 6Y54 1.1GHz',\n",
       "       'Intel Core i7 6500U 2.50GHz',\n",
       "       'Intel Celeron Dual Core N3350 2GHz', 'AMD E-Series 9000 2.2GHz',\n",
       "       'Intel Core M 6Y30 0.9GHz', 'AMD A9-Series 9410 2.9GHz'],\n",
       "      dtype=object)"
      ]
     },
     "execution_count": 577,
     "metadata": {},
     "output_type": "execute_result"
    }
   ],
   "source": [
    "data_sub[\"Cpu\"].unique()"
   ]
  },
  {
   "cell_type": "code",
   "execution_count": 578,
   "id": "7129d67f",
   "metadata": {
    "ExecuteTime": {
     "end_time": "2023-02-22T06:17:08.042693Z",
     "start_time": "2023-02-22T06:17:07.885691Z"
    }
   },
   "outputs": [],
   "source": [
    "himpunan_cpu = []\n",
    "for i in data_sub['Cpu']:\n",
    "    if 'Intel Core i3' in i:\n",
    "        himpunan_cpu.append('Intel Core I3')\n",
    "    elif 'Intel Core i5' in i:\n",
    "        himpunan_cpu.append('Intel Core I5')\n",
    "    elif 'Intel Core i7' in i:\n",
    "        himpunan_cpu.append('Intel Core I7')\n",
    "    elif 'AMD' in i:\n",
    "        himpunan_cpu.append('AMD')\n",
    "    else:\n",
    "        himpunan_cpu.append('Other Intel Types')"
   ]
  },
  {
   "cell_type": "code",
   "execution_count": 579,
   "id": "d1fa4af5",
   "metadata": {
    "ExecuteTime": {
     "end_time": "2023-02-22T06:17:08.306694Z",
     "start_time": "2023-02-22T06:17:08.056691Z"
    }
   },
   "outputs": [
    {
     "data": {
      "text/plain": [
       "['Intel Core I5',\n",
       " 'Intel Core I5',\n",
       " 'Intel Core I7',\n",
       " 'Intel Core I5',\n",
       " 'AMD',\n",
       " 'Intel Core I7',\n",
       " 'Intel Core I5',\n",
       " 'Intel Core I7',\n",
       " 'Intel Core I5',\n",
       " 'Intel Core I7',\n",
       " 'Intel Core I3',\n",
       " 'Other Intel Types',\n",
       " 'Intel Core I5',\n",
       " 'Intel Core I7',\n",
       " 'Intel Core I7',\n",
       " 'Intel Core I5',\n",
       " 'Other Intel Types',\n",
       " 'Intel Core I5',\n",
       " 'Intel Core I5',\n",
       " 'Intel Core I7',\n",
       " 'Intel Core I3',\n",
       " 'Intel Core I5',\n",
       " 'Intel Core I5',\n",
       " 'Intel Core I7',\n",
       " 'Intel Core I5',\n",
       " 'Other Intel Types',\n",
       " 'AMD',\n",
       " 'AMD',\n",
       " 'Intel Core I7',\n",
       " 'Intel Core I5',\n",
       " 'Other Intel Types',\n",
       " 'Intel Core I3',\n",
       " 'Intel Core I5',\n",
       " 'Intel Core I5',\n",
       " 'Intel Core I5',\n",
       " 'Intel Core I3',\n",
       " 'Intel Core I7',\n",
       " 'Intel Core I5',\n",
       " 'Intel Core I5',\n",
       " 'Intel Core I5',\n",
       " 'Intel Core I5',\n",
       " 'AMD',\n",
       " 'Intel Core I5',\n",
       " 'Other Intel Types',\n",
       " 'Intel Core I7',\n",
       " 'AMD',\n",
       " 'Intel Core I7',\n",
       " 'Intel Core I3',\n",
       " 'Intel Core I7',\n",
       " 'Intel Core I3',\n",
       " 'Intel Core I5',\n",
       " 'Intel Core I7',\n",
       " 'Intel Core I3',\n",
       " 'Intel Core I7',\n",
       " 'Intel Core I5',\n",
       " 'Intel Core I5',\n",
       " 'Intel Core I5',\n",
       " 'Intel Core I7',\n",
       " 'Intel Core I3',\n",
       " 'Other Intel Types',\n",
       " 'Intel Core I5',\n",
       " 'Intel Core I7',\n",
       " 'Intel Core I5',\n",
       " 'Intel Core I7',\n",
       " 'Intel Core I7',\n",
       " 'Intel Core I5',\n",
       " 'Intel Core I3',\n",
       " 'Intel Core I7',\n",
       " 'Intel Core I7',\n",
       " 'Intel Core I3',\n",
       " 'Intel Core I5',\n",
       " 'Intel Core I5',\n",
       " 'Intel Core I5',\n",
       " 'Intel Core I5',\n",
       " 'AMD',\n",
       " 'AMD',\n",
       " 'Intel Core I7',\n",
       " 'Intel Core I7',\n",
       " 'Intel Core I5',\n",
       " 'Intel Core I7',\n",
       " 'Intel Core I7',\n",
       " 'AMD',\n",
       " 'Intel Core I7',\n",
       " 'Intel Core I7',\n",
       " 'Intel Core I5',\n",
       " 'Intel Core I7',\n",
       " 'Intel Core I5',\n",
       " 'Intel Core I7',\n",
       " 'Intel Core I3',\n",
       " 'Intel Core I3',\n",
       " 'Intel Core I7',\n",
       " 'Intel Core I7',\n",
       " 'AMD',\n",
       " 'Intel Core I5',\n",
       " 'Intel Core I7',\n",
       " 'Intel Core I5',\n",
       " 'Intel Core I5',\n",
       " 'Intel Core I3',\n",
       " 'Intel Core I7',\n",
       " 'Intel Core I7',\n",
       " 'Intel Core I7',\n",
       " 'Intel Core I7',\n",
       " 'Intel Core I7',\n",
       " 'Intel Core I5',\n",
       " 'Intel Core I5',\n",
       " 'Intel Core I5',\n",
       " 'Intel Core I5',\n",
       " 'Intel Core I7',\n",
       " 'Intel Core I7',\n",
       " 'Intel Core I3',\n",
       " 'Intel Core I7',\n",
       " 'Intel Core I3',\n",
       " 'Intel Core I7',\n",
       " 'Intel Core I7',\n",
       " 'AMD',\n",
       " 'Intel Core I5',\n",
       " 'AMD',\n",
       " 'Intel Core I7',\n",
       " 'Intel Core I5',\n",
       " 'Intel Core I5',\n",
       " 'Intel Core I3',\n",
       " 'Intel Core I7',\n",
       " 'Intel Core I3',\n",
       " 'Intel Core I7',\n",
       " 'Intel Core I7',\n",
       " 'Intel Core I5',\n",
       " 'Intel Core I5',\n",
       " 'Intel Core I3',\n",
       " 'Intel Core I5',\n",
       " 'Intel Core I5',\n",
       " 'AMD',\n",
       " 'Intel Core I7',\n",
       " 'Other Intel Types',\n",
       " 'Other Intel Types',\n",
       " 'Intel Core I7',\n",
       " 'Intel Core I3',\n",
       " 'Intel Core I7',\n",
       " 'Intel Core I7',\n",
       " 'Intel Core I5',\n",
       " 'Intel Core I7',\n",
       " 'Intel Core I5',\n",
       " 'Intel Core I5',\n",
       " 'Intel Core I3',\n",
       " 'Intel Core I5',\n",
       " 'Intel Core I7',\n",
       " 'Intel Core I3',\n",
       " 'AMD',\n",
       " 'Intel Core I5',\n",
       " 'Intel Core I5',\n",
       " 'Intel Core I7',\n",
       " 'Other Intel Types',\n",
       " 'Intel Core I7',\n",
       " 'Other Intel Types',\n",
       " 'Intel Core I7',\n",
       " 'Intel Core I5',\n",
       " 'Intel Core I5',\n",
       " 'Intel Core I5',\n",
       " 'Intel Core I5',\n",
       " 'Intel Core I3',\n",
       " 'Intel Core I5',\n",
       " 'Intel Core I3',\n",
       " 'Intel Core I3',\n",
       " 'Intel Core I7',\n",
       " 'Intel Core I5',\n",
       " 'Intel Core I5',\n",
       " 'Intel Core I7',\n",
       " 'Intel Core I5',\n",
       " 'Intel Core I7',\n",
       " 'Intel Core I5',\n",
       " 'Intel Core I7',\n",
       " 'Intel Core I7',\n",
       " 'Intel Core I5',\n",
       " 'Intel Core I7',\n",
       " 'Intel Core I7',\n",
       " 'Other Intel Types',\n",
       " 'Intel Core I7',\n",
       " 'Intel Core I5',\n",
       " 'Intel Core I7',\n",
       " 'Intel Core I5',\n",
       " 'Intel Core I7',\n",
       " 'Intel Core I7',\n",
       " 'Intel Core I7',\n",
       " 'Intel Core I5',\n",
       " 'Intel Core I7',\n",
       " 'Intel Core I7',\n",
       " 'Other Intel Types',\n",
       " 'Intel Core I3',\n",
       " 'Intel Core I7',\n",
       " 'Intel Core I7',\n",
       " 'Intel Core I5',\n",
       " 'Intel Core I7',\n",
       " 'Intel Core I7',\n",
       " 'Intel Core I7',\n",
       " 'Intel Core I7',\n",
       " 'Intel Core I7',\n",
       " 'Intel Core I5',\n",
       " 'Intel Core I7',\n",
       " 'Intel Core I5',\n",
       " 'Intel Core I5',\n",
       " 'Intel Core I7',\n",
       " 'Intel Core I5',\n",
       " 'Intel Core I7',\n",
       " 'Intel Core I7',\n",
       " 'Intel Core I7',\n",
       " 'Intel Core I5',\n",
       " 'Intel Core I5',\n",
       " 'Intel Core I7',\n",
       " 'Intel Core I3',\n",
       " 'AMD',\n",
       " 'Intel Core I7',\n",
       " 'Intel Core I5',\n",
       " 'Intel Core I5',\n",
       " 'Intel Core I7',\n",
       " 'Intel Core I3',\n",
       " 'AMD',\n",
       " 'Intel Core I7',\n",
       " 'Intel Core I5',\n",
       " 'Intel Core I3',\n",
       " 'Intel Core I7',\n",
       " 'Intel Core I5',\n",
       " 'Intel Core I7',\n",
       " 'Intel Core I7',\n",
       " 'Intel Core I5',\n",
       " 'Intel Core I7',\n",
       " 'Intel Core I5',\n",
       " 'Intel Core I5',\n",
       " 'Intel Core I7',\n",
       " 'Intel Core I7',\n",
       " 'AMD',\n",
       " 'Intel Core I7',\n",
       " 'Intel Core I3',\n",
       " 'Intel Core I5',\n",
       " 'AMD',\n",
       " 'Intel Core I7',\n",
       " 'Intel Core I7',\n",
       " 'Intel Core I7',\n",
       " 'Intel Core I7',\n",
       " 'Intel Core I5',\n",
       " 'Intel Core I5',\n",
       " 'Intel Core I5',\n",
       " 'Intel Core I5',\n",
       " 'Intel Core I7',\n",
       " 'Intel Core I7',\n",
       " 'Intel Core I7',\n",
       " 'Intel Core I5',\n",
       " 'AMD',\n",
       " 'Intel Core I7',\n",
       " 'Intel Core I7',\n",
       " 'Intel Core I7',\n",
       " 'Intel Core I7',\n",
       " 'Intel Core I7',\n",
       " 'Intel Core I7',\n",
       " 'Intel Core I3',\n",
       " 'Intel Core I7',\n",
       " 'Intel Core I3',\n",
       " 'Intel Core I5',\n",
       " 'Intel Core I5',\n",
       " 'Intel Core I7',\n",
       " 'Intel Core I7',\n",
       " 'Intel Core I7',\n",
       " 'Intel Core I5',\n",
       " 'Intel Core I7',\n",
       " 'Other Intel Types',\n",
       " 'Intel Core I7',\n",
       " 'Intel Core I3',\n",
       " 'Intel Core I7',\n",
       " 'Intel Core I5',\n",
       " 'Intel Core I7',\n",
       " 'Intel Core I7',\n",
       " 'Intel Core I7',\n",
       " 'AMD',\n",
       " 'Intel Core I7',\n",
       " 'Intel Core I3',\n",
       " 'Intel Core I7',\n",
       " 'Intel Core I5',\n",
       " 'Intel Core I7',\n",
       " 'Intel Core I7',\n",
       " 'Intel Core I7',\n",
       " 'Intel Core I5',\n",
       " 'Intel Core I3',\n",
       " 'Intel Core I5',\n",
       " 'Intel Core I7',\n",
       " 'Intel Core I7',\n",
       " 'AMD',\n",
       " 'Other Intel Types',\n",
       " 'Intel Core I5',\n",
       " 'Intel Core I7',\n",
       " 'Other Intel Types',\n",
       " 'Intel Core I5',\n",
       " 'Other Intel Types',\n",
       " 'Intel Core I7',\n",
       " 'Intel Core I5',\n",
       " 'Intel Core I7',\n",
       " 'Intel Core I7',\n",
       " 'AMD',\n",
       " 'Other Intel Types',\n",
       " 'Intel Core I5',\n",
       " 'Intel Core I7',\n",
       " 'Intel Core I7',\n",
       " 'Intel Core I7',\n",
       " 'Intel Core I7',\n",
       " 'Intel Core I5',\n",
       " 'Intel Core I7',\n",
       " 'Intel Core I3',\n",
       " 'Intel Core I7',\n",
       " 'Intel Core I5',\n",
       " 'Intel Core I5',\n",
       " 'Intel Core I5',\n",
       " 'Other Intel Types',\n",
       " 'Intel Core I5',\n",
       " 'Other Intel Types',\n",
       " 'AMD',\n",
       " 'Intel Core I3',\n",
       " 'Intel Core I7',\n",
       " 'Intel Core I7',\n",
       " 'Intel Core I7',\n",
       " 'Other Intel Types',\n",
       " 'Intel Core I7',\n",
       " 'Other Intel Types',\n",
       " 'Intel Core I5',\n",
       " 'Intel Core I7',\n",
       " 'Intel Core I7',\n",
       " 'Intel Core I7',\n",
       " 'Intel Core I7',\n",
       " 'Intel Core I7',\n",
       " 'Intel Core I7',\n",
       " 'Intel Core I5',\n",
       " 'Intel Core I5',\n",
       " 'Intel Core I5',\n",
       " 'Intel Core I3',\n",
       " 'Intel Core I5',\n",
       " 'Intel Core I5',\n",
       " 'Intel Core I5',\n",
       " 'Other Intel Types',\n",
       " 'Intel Core I5',\n",
       " 'Intel Core I7',\n",
       " 'Intel Core I7',\n",
       " 'Intel Core I7',\n",
       " 'AMD',\n",
       " 'AMD',\n",
       " 'AMD',\n",
       " 'Intel Core I7',\n",
       " 'AMD',\n",
       " 'Other Intel Types',\n",
       " 'Other Intel Types',\n",
       " 'Other Intel Types',\n",
       " 'Intel Core I7',\n",
       " 'Intel Core I7',\n",
       " 'Intel Core I7',\n",
       " 'Intel Core I5',\n",
       " 'Intel Core I7',\n",
       " 'Intel Core I7',\n",
       " 'Intel Core I3',\n",
       " 'Intel Core I5',\n",
       " 'Intel Core I7',\n",
       " 'Intel Core I7',\n",
       " 'Intel Core I7',\n",
       " 'Intel Core I7',\n",
       " 'Intel Core I5',\n",
       " 'Intel Core I7',\n",
       " 'Intel Core I7',\n",
       " 'AMD',\n",
       " 'Intel Core I7',\n",
       " 'Intel Core I5',\n",
       " 'Intel Core I7',\n",
       " 'Intel Core I7',\n",
       " 'Other Intel Types',\n",
       " 'Intel Core I7',\n",
       " 'Intel Core I5',\n",
       " 'Intel Core I7',\n",
       " 'Intel Core I7',\n",
       " 'Intel Core I7',\n",
       " 'Intel Core I7',\n",
       " 'Intel Core I7',\n",
       " 'Intel Core I3',\n",
       " 'Other Intel Types',\n",
       " 'Intel Core I7',\n",
       " 'Intel Core I7',\n",
       " 'Intel Core I3',\n",
       " 'Intel Core I7',\n",
       " 'Intel Core I5',\n",
       " 'Intel Core I5',\n",
       " 'Intel Core I3',\n",
       " 'Intel Core I7',\n",
       " 'Intel Core I5',\n",
       " 'Intel Core I7',\n",
       " 'Intel Core I7',\n",
       " 'Other Intel Types',\n",
       " 'Intel Core I7',\n",
       " 'Intel Core I3',\n",
       " 'Intel Core I7',\n",
       " 'Intel Core I7',\n",
       " 'Intel Core I7',\n",
       " 'Intel Core I7',\n",
       " 'Intel Core I7',\n",
       " 'Other Intel Types',\n",
       " 'Other Intel Types',\n",
       " 'Intel Core I7',\n",
       " 'Intel Core I3',\n",
       " 'Intel Core I7',\n",
       " 'Intel Core I7',\n",
       " 'AMD',\n",
       " 'Other Intel Types',\n",
       " 'Intel Core I7',\n",
       " 'Intel Core I7',\n",
       " 'Intel Core I5',\n",
       " 'AMD',\n",
       " 'Intel Core I5',\n",
       " 'Intel Core I5',\n",
       " 'Other Intel Types',\n",
       " 'Intel Core I7',\n",
       " 'Intel Core I5',\n",
       " 'Intel Core I5',\n",
       " 'Other Intel Types',\n",
       " 'Intel Core I5',\n",
       " 'Intel Core I7',\n",
       " 'Intel Core I5',\n",
       " 'Intel Core I7',\n",
       " 'Intel Core I7',\n",
       " 'Intel Core I5',\n",
       " 'Intel Core I7',\n",
       " 'Other Intel Types',\n",
       " 'Intel Core I7',\n",
       " 'Other Intel Types',\n",
       " 'Intel Core I7',\n",
       " 'Intel Core I3',\n",
       " 'Intel Core I3',\n",
       " 'Other Intel Types',\n",
       " 'Intel Core I5',\n",
       " 'Intel Core I7',\n",
       " 'Other Intel Types',\n",
       " 'Intel Core I3',\n",
       " 'Intel Core I5',\n",
       " 'Intel Core I7',\n",
       " 'Intel Core I7',\n",
       " 'Intel Core I7',\n",
       " 'Intel Core I5',\n",
       " 'Intel Core I5',\n",
       " 'Intel Core I5',\n",
       " 'Intel Core I7',\n",
       " 'Intel Core I3',\n",
       " 'Intel Core I7',\n",
       " 'Intel Core I5',\n",
       " 'Intel Core I5',\n",
       " 'Intel Core I5',\n",
       " 'Intel Core I7',\n",
       " 'Intel Core I3',\n",
       " 'Intel Core I5',\n",
       " 'Other Intel Types',\n",
       " 'Intel Core I3',\n",
       " 'Intel Core I5',\n",
       " 'Intel Core I7',\n",
       " 'Intel Core I7',\n",
       " 'Intel Core I7',\n",
       " 'Intel Core I7',\n",
       " 'Intel Core I5',\n",
       " 'Intel Core I7',\n",
       " 'Intel Core I7',\n",
       " 'AMD',\n",
       " 'Intel Core I7',\n",
       " 'Intel Core I5',\n",
       " 'Intel Core I7',\n",
       " 'Intel Core I7',\n",
       " 'Intel Core I3',\n",
       " 'Intel Core I5',\n",
       " 'Other Intel Types',\n",
       " 'Intel Core I5',\n",
       " 'Intel Core I5',\n",
       " 'Other Intel Types',\n",
       " 'Other Intel Types',\n",
       " 'Intel Core I5',\n",
       " 'Intel Core I7',\n",
       " 'Intel Core I5',\n",
       " 'Intel Core I7',\n",
       " 'Intel Core I5',\n",
       " 'Intel Core I7',\n",
       " 'Intel Core I5',\n",
       " 'Intel Core I7',\n",
       " 'Other Intel Types',\n",
       " 'Intel Core I5',\n",
       " 'Intel Core I7',\n",
       " 'Intel Core I5',\n",
       " 'Intel Core I7',\n",
       " 'Intel Core I7',\n",
       " 'Intel Core I7',\n",
       " 'Intel Core I5',\n",
       " 'Intel Core I3',\n",
       " 'Intel Core I5',\n",
       " 'Intel Core I5',\n",
       " 'Intel Core I7',\n",
       " 'Intel Core I5',\n",
       " 'Intel Core I5',\n",
       " 'Intel Core I7',\n",
       " 'Intel Core I5',\n",
       " 'Intel Core I7',\n",
       " 'Other Intel Types',\n",
       " 'Intel Core I5',\n",
       " 'Intel Core I7',\n",
       " 'Intel Core I5',\n",
       " 'Other Intel Types',\n",
       " 'Intel Core I7',\n",
       " 'Intel Core I7',\n",
       " 'Intel Core I7',\n",
       " 'Intel Core I3',\n",
       " 'Intel Core I7',\n",
       " 'Intel Core I5',\n",
       " 'AMD',\n",
       " 'Intel Core I3',\n",
       " 'Intel Core I5',\n",
       " 'Intel Core I3',\n",
       " 'Intel Core I7',\n",
       " 'Intel Core I3',\n",
       " 'Intel Core I5',\n",
       " 'Intel Core I7',\n",
       " 'Intel Core I3',\n",
       " 'Intel Core I7',\n",
       " 'Other Intel Types',\n",
       " 'Other Intel Types',\n",
       " 'Intel Core I7',\n",
       " 'AMD',\n",
       " 'Intel Core I3',\n",
       " 'Other Intel Types',\n",
       " 'Intel Core I3',\n",
       " 'Other Intel Types',\n",
       " 'Intel Core I7',\n",
       " 'Intel Core I5',\n",
       " 'Intel Core I5',\n",
       " 'Intel Core I5',\n",
       " 'Intel Core I5',\n",
       " 'Other Intel Types',\n",
       " 'Intel Core I5',\n",
       " 'Intel Core I5',\n",
       " 'Other Intel Types',\n",
       " 'AMD',\n",
       " 'Intel Core I5',\n",
       " 'Intel Core I5',\n",
       " 'Other Intel Types',\n",
       " 'Intel Core I7',\n",
       " 'Intel Core I7',\n",
       " 'Intel Core I7',\n",
       " 'Intel Core I7',\n",
       " 'Other Intel Types',\n",
       " 'Intel Core I5',\n",
       " 'Intel Core I3',\n",
       " 'Intel Core I7',\n",
       " 'Other Intel Types',\n",
       " 'Intel Core I7',\n",
       " 'Intel Core I7',\n",
       " 'Intel Core I7',\n",
       " 'Intel Core I7',\n",
       " 'Intel Core I5',\n",
       " 'Intel Core I5',\n",
       " 'AMD',\n",
       " 'Other Intel Types',\n",
       " 'Intel Core I7',\n",
       " 'Intel Core I3',\n",
       " 'Intel Core I7',\n",
       " 'Intel Core I5',\n",
       " 'Intel Core I5',\n",
       " 'Intel Core I7',\n",
       " 'Intel Core I7',\n",
       " 'Intel Core I3',\n",
       " 'Other Intel Types',\n",
       " 'Intel Core I7',\n",
       " 'Intel Core I3',\n",
       " 'Intel Core I7',\n",
       " 'Intel Core I7',\n",
       " 'Intel Core I5',\n",
       " 'Intel Core I7',\n",
       " 'Other Intel Types',\n",
       " 'Other Intel Types',\n",
       " 'Intel Core I7',\n",
       " 'Intel Core I3',\n",
       " 'Intel Core I3',\n",
       " 'Intel Core I5',\n",
       " 'Intel Core I7',\n",
       " 'Intel Core I5',\n",
       " 'Intel Core I7',\n",
       " 'Intel Core I7',\n",
       " 'Other Intel Types',\n",
       " 'Intel Core I5',\n",
       " 'Intel Core I5',\n",
       " 'Intel Core I5',\n",
       " 'Intel Core I5',\n",
       " 'Intel Core I5',\n",
       " 'Intel Core I7',\n",
       " 'Other Intel Types',\n",
       " 'Intel Core I5',\n",
       " 'Intel Core I7',\n",
       " 'Intel Core I7',\n",
       " 'Intel Core I7',\n",
       " 'Intel Core I5',\n",
       " 'Intel Core I3',\n",
       " 'Other Intel Types',\n",
       " 'Intel Core I5',\n",
       " 'Intel Core I5',\n",
       " 'Other Intel Types',\n",
       " 'Intel Core I7',\n",
       " 'Intel Core I7',\n",
       " 'Intel Core I7',\n",
       " 'AMD',\n",
       " 'Intel Core I7',\n",
       " 'Intel Core I3',\n",
       " 'Other Intel Types',\n",
       " 'Intel Core I5',\n",
       " 'Intel Core I7',\n",
       " 'Intel Core I5',\n",
       " 'Intel Core I7',\n",
       " 'Intel Core I7',\n",
       " 'Intel Core I5',\n",
       " 'Intel Core I5',\n",
       " 'Intel Core I7',\n",
       " 'Intel Core I5',\n",
       " 'Intel Core I7',\n",
       " 'Intel Core I7',\n",
       " 'Intel Core I7',\n",
       " 'Intel Core I7',\n",
       " 'Intel Core I5',\n",
       " 'Other Intel Types',\n",
       " 'Intel Core I5',\n",
       " 'Intel Core I3',\n",
       " 'Intel Core I7',\n",
       " 'Intel Core I3',\n",
       " 'Intel Core I5',\n",
       " 'Intel Core I7',\n",
       " 'Intel Core I5',\n",
       " 'Intel Core I3',\n",
       " 'Intel Core I7',\n",
       " 'Intel Core I5',\n",
       " 'Intel Core I5',\n",
       " 'AMD',\n",
       " 'Intel Core I3',\n",
       " 'Intel Core I7',\n",
       " 'Intel Core I5',\n",
       " 'Other Intel Types',\n",
       " 'Intel Core I7',\n",
       " 'Intel Core I5',\n",
       " 'Intel Core I5',\n",
       " 'Other Intel Types',\n",
       " 'Intel Core I5',\n",
       " 'Intel Core I3',\n",
       " 'Intel Core I7',\n",
       " 'Intel Core I7',\n",
       " 'Intel Core I5',\n",
       " 'Intel Core I3',\n",
       " 'AMD',\n",
       " 'Other Intel Types',\n",
       " 'Other Intel Types',\n",
       " 'Intel Core I5',\n",
       " 'Intel Core I7',\n",
       " 'Intel Core I7',\n",
       " 'Intel Core I5',\n",
       " 'Other Intel Types',\n",
       " 'Intel Core I7',\n",
       " 'Other Intel Types',\n",
       " 'Intel Core I7',\n",
       " 'Intel Core I7',\n",
       " 'Intel Core I5',\n",
       " 'AMD',\n",
       " 'AMD',\n",
       " 'Intel Core I5',\n",
       " 'Intel Core I5',\n",
       " 'Intel Core I5',\n",
       " 'Intel Core I7',\n",
       " 'Intel Core I5',\n",
       " 'AMD',\n",
       " 'Intel Core I7',\n",
       " 'Intel Core I5',\n",
       " 'Intel Core I5',\n",
       " 'Other Intel Types',\n",
       " 'Intel Core I5',\n",
       " 'Intel Core I5',\n",
       " 'Intel Core I5',\n",
       " 'AMD',\n",
       " 'Other Intel Types',\n",
       " 'Intel Core I7',\n",
       " 'Intel Core I7',\n",
       " 'Intel Core I5',\n",
       " 'Intel Core I5',\n",
       " 'Intel Core I7',\n",
       " 'Intel Core I7',\n",
       " 'Intel Core I5',\n",
       " 'Intel Core I3',\n",
       " 'Intel Core I5',\n",
       " 'AMD',\n",
       " 'Intel Core I7',\n",
       " 'Intel Core I5',\n",
       " 'AMD',\n",
       " 'Intel Core I5',\n",
       " 'Intel Core I5',\n",
       " 'Intel Core I7',\n",
       " 'Intel Core I7',\n",
       " 'Intel Core I5',\n",
       " 'Intel Core I7',\n",
       " 'Intel Core I3',\n",
       " 'Intel Core I7',\n",
       " 'Intel Core I3',\n",
       " 'Intel Core I5',\n",
       " 'Intel Core I5',\n",
       " 'Intel Core I7',\n",
       " 'Other Intel Types',\n",
       " 'Intel Core I7',\n",
       " 'Intel Core I3',\n",
       " 'Intel Core I5',\n",
       " 'Other Intel Types',\n",
       " 'Other Intel Types',\n",
       " 'Intel Core I5',\n",
       " 'Intel Core I5',\n",
       " 'Intel Core I7',\n",
       " 'Intel Core I5',\n",
       " 'Intel Core I5',\n",
       " 'Intel Core I7',\n",
       " 'Intel Core I7',\n",
       " 'Intel Core I5',\n",
       " 'Intel Core I7',\n",
       " 'Intel Core I7',\n",
       " 'Intel Core I5',\n",
       " 'Intel Core I5',\n",
       " 'Intel Core I3',\n",
       " 'Intel Core I5',\n",
       " 'Other Intel Types',\n",
       " 'Intel Core I7',\n",
       " 'Intel Core I7',\n",
       " 'Other Intel Types',\n",
       " 'Intel Core I7',\n",
       " 'Intel Core I7',\n",
       " 'Intel Core I5',\n",
       " 'Intel Core I7',\n",
       " 'Intel Core I5',\n",
       " 'Intel Core I7',\n",
       " 'Intel Core I7',\n",
       " 'Intel Core I3',\n",
       " 'Intel Core I7',\n",
       " 'Other Intel Types',\n",
       " 'Intel Core I7',\n",
       " 'Intel Core I7',\n",
       " 'Intel Core I7',\n",
       " 'Intel Core I7',\n",
       " 'Intel Core I7',\n",
       " 'Intel Core I5',\n",
       " 'Intel Core I7',\n",
       " 'Intel Core I7',\n",
       " 'Intel Core I5',\n",
       " 'Intel Core I7',\n",
       " 'Other Intel Types',\n",
       " 'Intel Core I7',\n",
       " 'Intel Core I5',\n",
       " 'Other Intel Types',\n",
       " 'Intel Core I5',\n",
       " 'Other Intel Types',\n",
       " 'Intel Core I5',\n",
       " 'Intel Core I7',\n",
       " 'Intel Core I3',\n",
       " 'Intel Core I7',\n",
       " 'Intel Core I5',\n",
       " 'Intel Core I5',\n",
       " 'Intel Core I5',\n",
       " 'Other Intel Types',\n",
       " 'Intel Core I5',\n",
       " 'Intel Core I5',\n",
       " 'AMD',\n",
       " 'Intel Core I7',\n",
       " 'Intel Core I5',\n",
       " 'Intel Core I7',\n",
       " 'Intel Core I7',\n",
       " 'Intel Core I5',\n",
       " 'Intel Core I7',\n",
       " 'Intel Core I5',\n",
       " 'Intel Core I7',\n",
       " 'Intel Core I7',\n",
       " 'Other Intel Types',\n",
       " 'Intel Core I7',\n",
       " 'Intel Core I5',\n",
       " 'Intel Core I3',\n",
       " 'Intel Core I5',\n",
       " 'Intel Core I7',\n",
       " 'Intel Core I5',\n",
       " 'Intel Core I5',\n",
       " 'Other Intel Types',\n",
       " 'Intel Core I5',\n",
       " 'Intel Core I3',\n",
       " 'Other Intel Types',\n",
       " 'Intel Core I3',\n",
       " 'Intel Core I7',\n",
       " 'Intel Core I7',\n",
       " 'Intel Core I5',\n",
       " 'Intel Core I5',\n",
       " 'Intel Core I5',\n",
       " 'Intel Core I7',\n",
       " 'Intel Core I7',\n",
       " 'Intel Core I3',\n",
       " 'Other Intel Types',\n",
       " 'Intel Core I5',\n",
       " 'Intel Core I7',\n",
       " 'Intel Core I7',\n",
       " 'Intel Core I5',\n",
       " 'Intel Core I5',\n",
       " 'Intel Core I7',\n",
       " 'Intel Core I7',\n",
       " 'Other Intel Types',\n",
       " 'Intel Core I5',\n",
       " 'Intel Core I5',\n",
       " 'Intel Core I7',\n",
       " 'Intel Core I7',\n",
       " 'Intel Core I7',\n",
       " 'Intel Core I7',\n",
       " 'Intel Core I7',\n",
       " 'Intel Core I5',\n",
       " 'Other Intel Types',\n",
       " 'Intel Core I7',\n",
       " 'Intel Core I5',\n",
       " 'Intel Core I5',\n",
       " 'Intel Core I5',\n",
       " 'Intel Core I5',\n",
       " 'Intel Core I7',\n",
       " 'Intel Core I5',\n",
       " 'Intel Core I5',\n",
       " 'Intel Core I7',\n",
       " 'Intel Core I5',\n",
       " 'Intel Core I7',\n",
       " 'Intel Core I5',\n",
       " 'Intel Core I7',\n",
       " 'Intel Core I3',\n",
       " 'Intel Core I7',\n",
       " 'Intel Core I7',\n",
       " 'Other Intel Types',\n",
       " 'Intel Core I5',\n",
       " 'Intel Core I5',\n",
       " 'Intel Core I5',\n",
       " 'Intel Core I5',\n",
       " 'Intel Core I5',\n",
       " 'Other Intel Types',\n",
       " 'Intel Core I7',\n",
       " 'Other Intel Types',\n",
       " 'Intel Core I5',\n",
       " 'Intel Core I3',\n",
       " 'Intel Core I5',\n",
       " 'Other Intel Types',\n",
       " 'AMD',\n",
       " 'Intel Core I5',\n",
       " 'Intel Core I7',\n",
       " 'Intel Core I7',\n",
       " 'Intel Core I5',\n",
       " 'Intel Core I7',\n",
       " 'Intel Core I5',\n",
       " 'Intel Core I7',\n",
       " 'Intel Core I7',\n",
       " 'Intel Core I3',\n",
       " 'Intel Core I5',\n",
       " 'Intel Core I7',\n",
       " 'Intel Core I7',\n",
       " 'Intel Core I7',\n",
       " 'Intel Core I7',\n",
       " 'Intel Core I5',\n",
       " 'Intel Core I7',\n",
       " 'Intel Core I7',\n",
       " 'Other Intel Types',\n",
       " 'Intel Core I5',\n",
       " 'Intel Core I7',\n",
       " 'Intel Core I5',\n",
       " 'Other Intel Types',\n",
       " 'Intel Core I7',\n",
       " 'Intel Core I7',\n",
       " 'Intel Core I3',\n",
       " 'Intel Core I5',\n",
       " 'Intel Core I5',\n",
       " 'Intel Core I7',\n",
       " 'Intel Core I7',\n",
       " 'Intel Core I5',\n",
       " 'Intel Core I5',\n",
       " 'Intel Core I7',\n",
       " 'Intel Core I7',\n",
       " 'Intel Core I7',\n",
       " 'Intel Core I5',\n",
       " 'Intel Core I5',\n",
       " 'Intel Core I7',\n",
       " 'Intel Core I5',\n",
       " 'Intel Core I5',\n",
       " 'Intel Core I5',\n",
       " 'Other Intel Types',\n",
       " 'Intel Core I5',\n",
       " 'Intel Core I7',\n",
       " 'Intel Core I5',\n",
       " 'Intel Core I5',\n",
       " 'Intel Core I3',\n",
       " 'Intel Core I7',\n",
       " 'Intel Core I5',\n",
       " 'Intel Core I7',\n",
       " 'Intel Core I5',\n",
       " 'Other Intel Types',\n",
       " 'Intel Core I5',\n",
       " 'Intel Core I5',\n",
       " 'Other Intel Types',\n",
       " 'AMD',\n",
       " 'Intel Core I5',\n",
       " 'Intel Core I3',\n",
       " 'Other Intel Types',\n",
       " 'Intel Core I7',\n",
       " 'Intel Core I7',\n",
       " 'Intel Core I5',\n",
       " 'Other Intel Types',\n",
       " 'Intel Core I7',\n",
       " 'Intel Core I7',\n",
       " 'Intel Core I5',\n",
       " 'Other Intel Types',\n",
       " 'Intel Core I7',\n",
       " 'Other Intel Types',\n",
       " 'Intel Core I5',\n",
       " 'Intel Core I5',\n",
       " 'Intel Core I5',\n",
       " 'Intel Core I7',\n",
       " 'Intel Core I5',\n",
       " 'Intel Core I3',\n",
       " 'Intel Core I5',\n",
       " 'Intel Core I3',\n",
       " 'Intel Core I7',\n",
       " 'Intel Core I5',\n",
       " 'Intel Core I7',\n",
       " 'Intel Core I7',\n",
       " 'Intel Core I7',\n",
       " 'Intel Core I5',\n",
       " 'Intel Core I7',\n",
       " 'Intel Core I5',\n",
       " 'Intel Core I5',\n",
       " 'Intel Core I7',\n",
       " 'Intel Core I7',\n",
       " 'Intel Core I7',\n",
       " 'Intel Core I7',\n",
       " 'Intel Core I5',\n",
       " 'AMD',\n",
       " 'Intel Core I5',\n",
       " 'Intel Core I5',\n",
       " 'Intel Core I5',\n",
       " 'Intel Core I5',\n",
       " 'Intel Core I7',\n",
       " 'Intel Core I7',\n",
       " 'Intel Core I5',\n",
       " 'Other Intel Types',\n",
       " 'Intel Core I3',\n",
       " 'Intel Core I5',\n",
       " 'Intel Core I5',\n",
       " 'Intel Core I5',\n",
       " 'Intel Core I7',\n",
       " 'Other Intel Types',\n",
       " 'Intel Core I7',\n",
       " 'Intel Core I7',\n",
       " 'Intel Core I7',\n",
       " 'Intel Core I5',\n",
       " 'Intel Core I3',\n",
       " 'Intel Core I5',\n",
       " 'Intel Core I5',\n",
       " 'Intel Core I5',\n",
       " 'Intel Core I5',\n",
       " 'Intel Core I7',\n",
       " 'Intel Core I5',\n",
       " 'Intel Core I3',\n",
       " 'Intel Core I5',\n",
       " 'Intel Core I5',\n",
       " 'Intel Core I5',\n",
       " 'Intel Core I7',\n",
       " 'Intel Core I3',\n",
       " 'Intel Core I5',\n",
       " 'Intel Core I3',\n",
       " 'Intel Core I7',\n",
       " 'Intel Core I5',\n",
       " 'Intel Core I7',\n",
       " 'Intel Core I3',\n",
       " 'Intel Core I5',\n",
       " 'Intel Core I5',\n",
       " 'Intel Core I7',\n",
       " 'Intel Core I5',\n",
       " 'Intel Core I5',\n",
       " 'Intel Core I5',\n",
       " 'Intel Core I5',\n",
       " 'Intel Core I5',\n",
       " 'Intel Core I5',\n",
       " 'Intel Core I5',\n",
       " 'AMD',\n",
       " 'Intel Core I7',\n",
       " 'Intel Core I5',\n",
       " 'Intel Core I7',\n",
       " 'Intel Core I7',\n",
       " 'Intel Core I5',\n",
       " 'Intel Core I7',\n",
       " 'Intel Core I5',\n",
       " 'Intel Core I5',\n",
       " 'Intel Core I7',\n",
       " 'Other Intel Types',\n",
       " 'Intel Core I7',\n",
       " 'Intel Core I5',\n",
       " 'Intel Core I5',\n",
       " 'Intel Core I5',\n",
       " 'Intel Core I5',\n",
       " 'Intel Core I7',\n",
       " 'Intel Core I7',\n",
       " 'Other Intel Types',\n",
       " 'Intel Core I7',\n",
       " 'Intel Core I7',\n",
       " 'Intel Core I5',\n",
       " 'Intel Core I5',\n",
       " ...]"
      ]
     },
     "execution_count": 579,
     "metadata": {},
     "output_type": "execute_result"
    }
   ],
   "source": [
    "himpunan_cpu"
   ]
  },
  {
   "cell_type": "code",
   "execution_count": 580,
   "id": "e37bb4a0",
   "metadata": {
    "ExecuteTime": {
     "end_time": "2023-02-22T06:17:08.374690Z",
     "start_time": "2023-02-22T06:17:08.319692Z"
    }
   },
   "outputs": [
    {
     "data": {
      "text/plain": [
       "0                       Intel Core i5 2.3GHz\n",
       "1                       Intel Core i5 1.8GHz\n",
       "3                       Intel Core i7 2.7GHz\n",
       "4                       Intel Core i5 3.1GHz\n",
       "5                    AMD A9-Series 9420 3GHz\n",
       "                        ...                 \n",
       "1298              Intel Core i7 6500U 2.5GHz\n",
       "1299              Intel Core i7 6500U 2.5GHz\n",
       "1300    Intel Celeron Dual Core N3050 1.6GHz\n",
       "1301              Intel Core i7 6500U 2.5GHz\n",
       "1302    Intel Celeron Dual Core N3050 1.6GHz\n",
       "Name: Cpu, Length: 1234, dtype: object"
      ]
     },
     "execution_count": 580,
     "metadata": {},
     "output_type": "execute_result"
    }
   ],
   "source": [
    "data_sub['Cpu']"
   ]
  },
  {
   "cell_type": "code",
   "execution_count": 581,
   "id": "95856796",
   "metadata": {
    "ExecuteTime": {
     "end_time": "2023-02-22T06:17:08.512764Z",
     "start_time": "2023-02-22T06:17:08.386692Z"
    }
   },
   "outputs": [],
   "source": [
    "data_sub['Cpu'] = himpunan_cpu"
   ]
  },
  {
   "cell_type": "code",
   "execution_count": 582,
   "id": "7203757e",
   "metadata": {
    "ExecuteTime": {
     "end_time": "2023-02-22T06:17:08.643762Z",
     "start_time": "2023-02-22T06:17:08.525766Z"
    }
   },
   "outputs": [
    {
     "data": {
      "text/plain": [
       "1298        Intel Core I7\n",
       "1299        Intel Core I7\n",
       "1300    Other Intel Types\n",
       "1301        Intel Core I7\n",
       "1302    Other Intel Types\n",
       "Name: Cpu, dtype: object"
      ]
     },
     "execution_count": 582,
     "metadata": {},
     "output_type": "execute_result"
    }
   ],
   "source": [
    "data_sub['Cpu'].tail()"
   ]
  },
  {
   "cell_type": "code",
   "execution_count": 583,
   "id": "4183a641",
   "metadata": {
    "ExecuteTime": {
     "end_time": "2023-02-22T06:17:08.799312Z",
     "start_time": "2023-02-22T06:17:08.657764Z"
    }
   },
   "outputs": [
    {
     "data": {
      "text/plain": [
       "array(['Intel Iris Plus Graphics 640', 'Intel HD Graphics 6000',\n",
       "       'AMD Radeon Pro 455', 'Intel Iris Plus Graphics 650',\n",
       "       'AMD Radeon R5', 'Intel Iris Pro Graphics', 'Nvidia GeForce MX150',\n",
       "       'Intel UHD Graphics 620', 'AMD Radeon Pro 555',\n",
       "       'AMD Radeon R5 M430', 'Intel HD Graphics 615',\n",
       "       'AMD Radeon Pro 560', 'Intel HD Graphics 400',\n",
       "       'Nvidia GeForce GTX 1050', 'Intel HD Graphics 620',\n",
       "       'Intel HD Graphics 520', 'AMD Radeon 530', 'Nvidia GeForce 930MX',\n",
       "       'Intel HD Graphics', 'AMD Radeon R2', 'Intel HD Graphics 500',\n",
       "       'Nvidia GeForce 930MX ', 'Nvidia GeForce GTX 1060',\n",
       "       'Nvidia GeForce 940MX', 'Nvidia GeForce 150MX',\n",
       "       'Intel Iris Graphics 540', 'AMD Radeon RX 580',\n",
       "       'Nvidia GeForce 920MX', 'AMD Radeon R4 Graphics', 'AMD Radeon 520',\n",
       "       'Nvidia GeForce GTX 1070', 'Nvidia GeForce GTX 1050 Ti',\n",
       "       'Nvidia GeForce MX130', 'AMD R4 Graphics',\n",
       "       'Nvidia GeForce GTX 940MX', 'AMD Radeon RX 560',\n",
       "       'Nvidia GeForce 920M', 'AMD Radeon R7 M445', 'AMD Radeon RX 550',\n",
       "       'Intel HD Graphics 515', 'AMD Radeon R5 M420',\n",
       "       'Intel HD Graphics 505', 'Nvidia GTX 980 SLI', 'AMD R17M-M1-70',\n",
       "       'Nvidia GeForce GTX 1080', 'Nvidia Quadro M1200',\n",
       "       'Nvidia GeForce 920MX ', 'Nvidia GeForce GTX 950M',\n",
       "       'AMD FirePro W4190M ', 'Nvidia GeForce GTX 980M',\n",
       "       'Nvidia GeForce GTX 1050M', 'Intel Iris Graphics 550',\n",
       "       'Nvidia GeForce 930M', 'Intel HD Graphics 630',\n",
       "       'AMD Radeon R5 430', 'Nvidia GeForce GTX 940M',\n",
       "       'Intel HD Graphics 510', 'Intel HD Graphics 405',\n",
       "       'AMD Radeon RX 540', 'Nvidia GeForce GT 940MX',\n",
       "       'AMD FirePro W5130M', 'Nvidia Quadro M2200M', 'AMD Radeon R4',\n",
       "       'Nvidia Quadro M620', 'Intel HD Graphics 530',\n",
       "       'Nvidia GeForce GTX 965M', 'Nvidia GeForce GTX1080',\n",
       "       'Nvidia GeForce GTX1050 Ti', 'Nvidia GeForce GTX 960M',\n",
       "       'AMD Radeon R2 Graphics', 'Nvidia Quadro M620M',\n",
       "       'Nvidia GeForce GTX 970M', 'Nvidia GeForce GTX 960<U+039C>',\n",
       "       'Intel Graphics 620', 'Nvidia GeForce GTX 960',\n",
       "       'AMD Radeon R5 520', 'AMD Radeon R7 M440', 'AMD Radeon R7',\n",
       "       'Nvidia Quadro M520M', 'Nvidia Quadro M2200',\n",
       "       'Nvidia Quadro M2000M', 'Intel HD Graphics 540',\n",
       "       'Nvidia Quadro M1000M', 'AMD Radeon 540',\n",
       "       'Nvidia GeForce GTX 1070M', 'Nvidia GeForce GTX1060',\n",
       "       'AMD Radeon R7 M460', 'Intel HD Graphics 5300',\n",
       "       'AMD Radeon R5 M420X', 'AMD Radeon R7 Graphics',\n",
       "       'Nvidia GeForce 920', 'Nvidia GeForce 940M',\n",
       "       'Nvidia GeForce GTX 930MX', 'AMD Radeon R7 M465', 'AMD Radeon R3',\n",
       "       'Nvidia GeForce GTX 1050Ti', 'AMD Radeon R7 M365X',\n",
       "       'AMD Radeon R9 M385', 'Intel HD Graphics 620 ',\n",
       "       'Nvidia Quadro 3000M', 'Nvidia GeForce GTX 980 ',\n",
       "       'AMD Radeon R5 M330', 'AMD FirePro W4190M', 'AMD FirePro W6150M',\n",
       "       'AMD Radeon R5 M315', 'Nvidia Quadro M500M', 'AMD Radeon R7 M360',\n",
       "       'Nvidia Quadro M3000M', 'Nvidia GeForce 960M'], dtype=object)"
      ]
     },
     "execution_count": 583,
     "metadata": {},
     "output_type": "execute_result"
    }
   ],
   "source": [
    "data_sub['Gpu'].unique()"
   ]
  },
  {
   "cell_type": "code",
   "execution_count": 584,
   "id": "c640ef27",
   "metadata": {
    "ExecuteTime": {
     "end_time": "2023-02-22T06:17:08.942309Z",
     "start_time": "2023-02-22T06:17:08.810309Z"
    }
   },
   "outputs": [],
   "source": [
    "himpunan_gpu=[]\n",
    "for i in data_sub['Gpu']:\n",
    "    if 'AMD' in i:\n",
    "        himpunan_gpu.append(\"AMD\")\n",
    "    elif 'Intel' in i:\n",
    "        himpunan_gpu.append(\"Intel\")\n",
    "    elif 'Nvidia' in i:\n",
    "        himpunan_gpu.append(\"Nvidia\")"
   ]
  },
  {
   "cell_type": "code",
   "execution_count": 585,
   "id": "7c3885f1",
   "metadata": {
    "ExecuteTime": {
     "end_time": "2023-02-22T06:17:09.087312Z",
     "start_time": "2023-02-22T06:17:08.954311Z"
    }
   },
   "outputs": [],
   "source": [
    "data_sub['Gpu'] = himpunan_gpu"
   ]
  },
  {
   "cell_type": "code",
   "execution_count": 586,
   "id": "d609e6df",
   "metadata": {
    "ExecuteTime": {
     "end_time": "2023-02-22T06:17:09.250312Z",
     "start_time": "2023-02-22T06:17:09.173309Z"
    }
   },
   "outputs": [
    {
     "data": {
      "text/plain": [
       "array(['128GB SSD', '128GB Flash Storage', '512GB SSD', '256GB SSD',\n",
       "       '500GB HDD', '256GB Flash Storage', '32GB Flash Storage',\n",
       "       '128GB SSD +  1TB HDD', '1TB HDD', '256GB SSD +  256GB SSD',\n",
       "       '64GB Flash Storage', '256GB SSD +  1TB HDD',\n",
       "       '256GB SSD +  2TB HDD', '32GB SSD', '64GB SSD', '1.0TB Hybrid',\n",
       "       '2TB HDD', '512GB SSD +  1TB HDD', '1TB SSD',\n",
       "       '256GB SSD +  500GB HDD', '128GB SSD +  2TB HDD',\n",
       "       '512GB SSD +  512GB SSD', '16GB SSD', '16GB Flash Storage',\n",
       "       '512GB SSD +  256GB SSD', '512GB SSD +  2TB HDD',\n",
       "       '64GB Flash Storage +  1TB HDD', '180GB SSD', '1TB HDD +  1TB HDD',\n",
       "       '32GB HDD', '1TB SSD +  1TB HDD', '512GB Flash Storage',\n",
       "       '128GB HDD', '240GB SSD', '8GB SSD', '508GB Hybrid', '1.0TB HDD',\n",
       "       '512GB SSD +  1.0TB Hybrid', '256GB SSD +  1.0TB Hybrid'],\n",
       "      dtype=object)"
      ]
     },
     "execution_count": 586,
     "metadata": {},
     "output_type": "execute_result"
    }
   ],
   "source": [
    "data_sub['Memory'].unique()"
   ]
  },
  {
   "cell_type": "code",
   "execution_count": 587,
   "id": "3d0817a2",
   "metadata": {
    "ExecuteTime": {
     "end_time": "2023-02-22T06:17:09.538299Z",
     "start_time": "2023-02-22T06:17:09.267312Z"
    }
   },
   "outputs": [],
   "source": [
    "#preprocessing\n",
    "data_sub['Memory'] = data_sub['Memory'].astype(str).replace('.0', '', regex=True)\n",
    "data_sub[\"Memory\"] = data_sub[\"Memory\"].str.replace('GB', '')\n",
    "data_sub[\"Memory\"] = data_sub[\"Memory\"].str.replace('TB', '000')\n",
    "new = data_sub[\"Memory\"].str.split(\"+\", n = 1, expand = True)\n",
    "data_sub[\"first\"]= new[0]\n",
    "data_sub[\"first\"]=data_sub[\"first\"].str.strip()\n",
    "data_sub[\"second\"]= new[1]\n",
    "data_sub[\"Layer1HDD\"] = data_sub[\"first\"].apply(lambda x: 1 if \"HDD\" in x else 0)\n",
    "data_sub[\"Layer1SSD\"] = data_sub[\"first\"].apply(lambda x: 1 if \"SSD\" in x else 0)\n",
    "data_sub[\"Layer1Hybrid\"] = data_sub[\"first\"].apply(lambda x: 1 if \"Hybrid\" in x else 0)\n",
    "data_sub[\"Layer1Flash_Storage\"] = data_sub[\"first\"].apply(lambda x: 1 if \"Flash Storage\" in x else 0)\n",
    "data_sub[\"second\"].fillna(\"0\", inplace = True)\n",
    "data_sub[\"Layer2HDD\"] = data_sub[\"second\"].apply(lambda x: 1 if \"HDD\" in x else 0)\n",
    "data_sub[\"Layer2SSD\"] = data_sub[\"second\"].apply(lambda x: 1 if \"SSD\" in x else 0)\n",
    "data_sub[\"Layer2Hybrid\"] = data_sub[\"second\"].apply(lambda x: 1 if \"Hybrid\" in x else 0)\n",
    "data_sub[\"Layer2Flash_Storage\"] = data_sub[\"second\"].apply(lambda x: 1 if \"Flash Storage\" in x else 0)\n",
    "#binary encoding\n",
    "data_sub[\"Layer2HDD\"] = data_sub[\"second\"].apply(lambda x: 1 if \"HDD\" in x else 0)\n",
    "data_sub[\"Layer2SSD\"] = data_sub[\"second\"].apply(lambda x: 1 if \"SSD\" in x else 0)\n",
    "data_sub[\"Layer2Hybrid\"] = data_sub[\"second\"].apply(lambda x: 1 if \"Hybrid\" in x else 0)\n",
    "data_sub[\"Layer2Flash_Storage\"] = data_sub[\"second\"].apply(lambda x: 1 if \"Flash Storage\" in x else 0)"
   ]
  },
  {
   "cell_type": "code",
   "execution_count": 588,
   "id": "ffc4ec54",
   "metadata": {
    "ExecuteTime": {
     "end_time": "2023-02-22T06:17:09.657327Z",
     "start_time": "2023-02-22T06:17:09.552313Z"
    }
   },
   "outputs": [],
   "source": [
    "#only keep integert(digits)\n",
    "data_sub['first'] = data_sub['first'].str.replace('SSD','')\n",
    "data_sub['first'] = data_sub['first'].str.replace('Flash Storage','')\n",
    "data_sub['first'] = data_sub['first'].str.replace('HDD','')\n",
    "data_sub['first'] = data_sub['first'].str.replace('Hybrid','')\n",
    "data_sub['first'] = data_sub['first'].str.replace(\" \",\"\")\n",
    "data_sub['second'] = data_sub['second'].str.replace('HDD', '')\n",
    "data_sub['second'] = data_sub['second'].str.replace('SSD', '')\n",
    "data_sub['second'] = data_sub['second'].str.replace('Hybrid','')\n",
    "data_sub['second'] = data_sub['second'].str.replace(\" \",\"\")"
   ]
  },
  {
   "cell_type": "code",
   "execution_count": 589,
   "id": "239f87e2",
   "metadata": {
    "ExecuteTime": {
     "end_time": "2023-02-22T06:17:09.832309Z",
     "start_time": "2023-02-22T06:17:09.667310Z"
    }
   },
   "outputs": [
    {
     "data": {
      "text/html": [
       "<div>\n",
       "<style scoped>\n",
       "    .dataframe tbody tr th:only-of-type {\n",
       "        vertical-align: middle;\n",
       "    }\n",
       "\n",
       "    .dataframe tbody tr th {\n",
       "        vertical-align: top;\n",
       "    }\n",
       "\n",
       "    .dataframe thead th {\n",
       "        text-align: right;\n",
       "    }\n",
       "</style>\n",
       "<table border=\"1\" class=\"dataframe\">\n",
       "  <thead>\n",
       "    <tr style=\"text-align: right;\">\n",
       "      <th></th>\n",
       "      <th>Company</th>\n",
       "      <th>Cpu</th>\n",
       "      <th>Ram</th>\n",
       "      <th>Memory</th>\n",
       "      <th>Gpu</th>\n",
       "      <th>OpSys</th>\n",
       "      <th>Weight</th>\n",
       "      <th>Price_euros</th>\n",
       "      <th>first</th>\n",
       "      <th>second</th>\n",
       "      <th>Layer1HDD</th>\n",
       "      <th>Layer1SSD</th>\n",
       "      <th>Layer1Hybrid</th>\n",
       "      <th>Layer1Flash_Storage</th>\n",
       "      <th>Layer2HDD</th>\n",
       "      <th>Layer2SSD</th>\n",
       "      <th>Layer2Hybrid</th>\n",
       "      <th>Layer2Flash_Storage</th>\n",
       "    </tr>\n",
       "  </thead>\n",
       "  <tbody>\n",
       "    <tr>\n",
       "      <th>0</th>\n",
       "      <td>Apple</td>\n",
       "      <td>Intel Core I5</td>\n",
       "      <td>8</td>\n",
       "      <td>128 SSD</td>\n",
       "      <td>Intel</td>\n",
       "      <td>MacOS</td>\n",
       "      <td>1.37</td>\n",
       "      <td>1339.69</td>\n",
       "      <td>128</td>\n",
       "      <td>0</td>\n",
       "      <td>0</td>\n",
       "      <td>1</td>\n",
       "      <td>0</td>\n",
       "      <td>0</td>\n",
       "      <td>0</td>\n",
       "      <td>0</td>\n",
       "      <td>0</td>\n",
       "      <td>0</td>\n",
       "    </tr>\n",
       "    <tr>\n",
       "      <th>1</th>\n",
       "      <td>Apple</td>\n",
       "      <td>Intel Core I5</td>\n",
       "      <td>8</td>\n",
       "      <td>128 Flash Storage</td>\n",
       "      <td>Intel</td>\n",
       "      <td>MacOS</td>\n",
       "      <td>1.34</td>\n",
       "      <td>898.94</td>\n",
       "      <td>128</td>\n",
       "      <td>0</td>\n",
       "      <td>0</td>\n",
       "      <td>0</td>\n",
       "      <td>0</td>\n",
       "      <td>1</td>\n",
       "      <td>0</td>\n",
       "      <td>0</td>\n",
       "      <td>0</td>\n",
       "      <td>0</td>\n",
       "    </tr>\n",
       "    <tr>\n",
       "      <th>3</th>\n",
       "      <td>Apple</td>\n",
       "      <td>Intel Core I7</td>\n",
       "      <td>16</td>\n",
       "      <td>512 SSD</td>\n",
       "      <td>AMD</td>\n",
       "      <td>MacOS</td>\n",
       "      <td>1.83</td>\n",
       "      <td>2537.45</td>\n",
       "      <td>512</td>\n",
       "      <td>0</td>\n",
       "      <td>0</td>\n",
       "      <td>1</td>\n",
       "      <td>0</td>\n",
       "      <td>0</td>\n",
       "      <td>0</td>\n",
       "      <td>0</td>\n",
       "      <td>0</td>\n",
       "      <td>0</td>\n",
       "    </tr>\n",
       "    <tr>\n",
       "      <th>4</th>\n",
       "      <td>Apple</td>\n",
       "      <td>Intel Core I5</td>\n",
       "      <td>8</td>\n",
       "      <td>256 SSD</td>\n",
       "      <td>Intel</td>\n",
       "      <td>MacOS</td>\n",
       "      <td>1.37</td>\n",
       "      <td>1803.60</td>\n",
       "      <td>256</td>\n",
       "      <td>0</td>\n",
       "      <td>0</td>\n",
       "      <td>1</td>\n",
       "      <td>0</td>\n",
       "      <td>0</td>\n",
       "      <td>0</td>\n",
       "      <td>0</td>\n",
       "      <td>0</td>\n",
       "      <td>0</td>\n",
       "    </tr>\n",
       "    <tr>\n",
       "      <th>5</th>\n",
       "      <td>Acer</td>\n",
       "      <td>AMD</td>\n",
       "      <td>4</td>\n",
       "      <td>0 HDD</td>\n",
       "      <td>AMD</td>\n",
       "      <td>Windows</td>\n",
       "      <td>2.10</td>\n",
       "      <td>400.00</td>\n",
       "      <td>0</td>\n",
       "      <td>0</td>\n",
       "      <td>1</td>\n",
       "      <td>0</td>\n",
       "      <td>0</td>\n",
       "      <td>0</td>\n",
       "      <td>0</td>\n",
       "      <td>0</td>\n",
       "      <td>0</td>\n",
       "      <td>0</td>\n",
       "    </tr>\n",
       "    <tr>\n",
       "      <th>...</th>\n",
       "      <td>...</td>\n",
       "      <td>...</td>\n",
       "      <td>...</td>\n",
       "      <td>...</td>\n",
       "      <td>...</td>\n",
       "      <td>...</td>\n",
       "      <td>...</td>\n",
       "      <td>...</td>\n",
       "      <td>...</td>\n",
       "      <td>...</td>\n",
       "      <td>...</td>\n",
       "      <td>...</td>\n",
       "      <td>...</td>\n",
       "      <td>...</td>\n",
       "      <td>...</td>\n",
       "      <td>...</td>\n",
       "      <td>...</td>\n",
       "      <td>...</td>\n",
       "    </tr>\n",
       "    <tr>\n",
       "      <th>1298</th>\n",
       "      <td>Lenovo</td>\n",
       "      <td>Intel Core I7</td>\n",
       "      <td>4</td>\n",
       "      <td>128 SSD</td>\n",
       "      <td>Intel</td>\n",
       "      <td>Windows</td>\n",
       "      <td>1.80</td>\n",
       "      <td>638.00</td>\n",
       "      <td>128</td>\n",
       "      <td>0</td>\n",
       "      <td>0</td>\n",
       "      <td>1</td>\n",
       "      <td>0</td>\n",
       "      <td>0</td>\n",
       "      <td>0</td>\n",
       "      <td>0</td>\n",
       "      <td>0</td>\n",
       "      <td>0</td>\n",
       "    </tr>\n",
       "    <tr>\n",
       "      <th>1299</th>\n",
       "      <td>Lenovo</td>\n",
       "      <td>Intel Core I7</td>\n",
       "      <td>16</td>\n",
       "      <td>512 SSD</td>\n",
       "      <td>Intel</td>\n",
       "      <td>Windows</td>\n",
       "      <td>1.30</td>\n",
       "      <td>1499.00</td>\n",
       "      <td>512</td>\n",
       "      <td>0</td>\n",
       "      <td>0</td>\n",
       "      <td>1</td>\n",
       "      <td>0</td>\n",
       "      <td>0</td>\n",
       "      <td>0</td>\n",
       "      <td>0</td>\n",
       "      <td>0</td>\n",
       "      <td>0</td>\n",
       "    </tr>\n",
       "    <tr>\n",
       "      <th>1300</th>\n",
       "      <td>Lenovo</td>\n",
       "      <td>Other Intel Types</td>\n",
       "      <td>2</td>\n",
       "      <td>64 Flash Storage</td>\n",
       "      <td>Intel</td>\n",
       "      <td>Windows</td>\n",
       "      <td>1.50</td>\n",
       "      <td>229.00</td>\n",
       "      <td>64</td>\n",
       "      <td>0</td>\n",
       "      <td>0</td>\n",
       "      <td>0</td>\n",
       "      <td>0</td>\n",
       "      <td>1</td>\n",
       "      <td>0</td>\n",
       "      <td>0</td>\n",
       "      <td>0</td>\n",
       "      <td>0</td>\n",
       "    </tr>\n",
       "    <tr>\n",
       "      <th>1301</th>\n",
       "      <td>HP</td>\n",
       "      <td>Intel Core I7</td>\n",
       "      <td>6</td>\n",
       "      <td>1000 HDD</td>\n",
       "      <td>AMD</td>\n",
       "      <td>Windows</td>\n",
       "      <td>2.19</td>\n",
       "      <td>764.00</td>\n",
       "      <td>1000</td>\n",
       "      <td>0</td>\n",
       "      <td>1</td>\n",
       "      <td>0</td>\n",
       "      <td>0</td>\n",
       "      <td>0</td>\n",
       "      <td>0</td>\n",
       "      <td>0</td>\n",
       "      <td>0</td>\n",
       "      <td>0</td>\n",
       "    </tr>\n",
       "    <tr>\n",
       "      <th>1302</th>\n",
       "      <td>Asus</td>\n",
       "      <td>Other Intel Types</td>\n",
       "      <td>4</td>\n",
       "      <td>0 HDD</td>\n",
       "      <td>Intel</td>\n",
       "      <td>Windows</td>\n",
       "      <td>2.20</td>\n",
       "      <td>369.00</td>\n",
       "      <td>0</td>\n",
       "      <td>0</td>\n",
       "      <td>1</td>\n",
       "      <td>0</td>\n",
       "      <td>0</td>\n",
       "      <td>0</td>\n",
       "      <td>0</td>\n",
       "      <td>0</td>\n",
       "      <td>0</td>\n",
       "      <td>0</td>\n",
       "    </tr>\n",
       "  </tbody>\n",
       "</table>\n",
       "<p>1234 rows × 18 columns</p>\n",
       "</div>"
      ],
      "text/plain": [
       "     Company                Cpu  Ram             Memory    Gpu    OpSys  \\\n",
       "0      Apple      Intel Core I5    8            128 SSD  Intel    MacOS   \n",
       "1      Apple      Intel Core I5    8  128 Flash Storage  Intel    MacOS   \n",
       "3      Apple      Intel Core I7   16            512 SSD    AMD    MacOS   \n",
       "4      Apple      Intel Core I5    8            256 SSD  Intel    MacOS   \n",
       "5       Acer                AMD    4              0 HDD    AMD  Windows   \n",
       "...      ...                ...  ...                ...    ...      ...   \n",
       "1298  Lenovo      Intel Core I7    4            128 SSD  Intel  Windows   \n",
       "1299  Lenovo      Intel Core I7   16            512 SSD  Intel  Windows   \n",
       "1300  Lenovo  Other Intel Types    2   64 Flash Storage  Intel  Windows   \n",
       "1301      HP      Intel Core I7    6           1000 HDD    AMD  Windows   \n",
       "1302    Asus  Other Intel Types    4              0 HDD  Intel  Windows   \n",
       "\n",
       "      Weight  Price_euros first second  Layer1HDD  Layer1SSD  Layer1Hybrid  \\\n",
       "0       1.37      1339.69   128      0          0          1             0   \n",
       "1       1.34       898.94   128      0          0          0             0   \n",
       "3       1.83      2537.45   512      0          0          1             0   \n",
       "4       1.37      1803.60   256      0          0          1             0   \n",
       "5       2.10       400.00     0      0          1          0             0   \n",
       "...      ...          ...   ...    ...        ...        ...           ...   \n",
       "1298    1.80       638.00   128      0          0          1             0   \n",
       "1299    1.30      1499.00   512      0          0          1             0   \n",
       "1300    1.50       229.00    64      0          0          0             0   \n",
       "1301    2.19       764.00  1000      0          1          0             0   \n",
       "1302    2.20       369.00     0      0          1          0             0   \n",
       "\n",
       "      Layer1Flash_Storage  Layer2HDD  Layer2SSD  Layer2Hybrid  \\\n",
       "0                       0          0          0             0   \n",
       "1                       1          0          0             0   \n",
       "3                       0          0          0             0   \n",
       "4                       0          0          0             0   \n",
       "5                       0          0          0             0   \n",
       "...                   ...        ...        ...           ...   \n",
       "1298                    0          0          0             0   \n",
       "1299                    0          0          0             0   \n",
       "1300                    1          0          0             0   \n",
       "1301                    0          0          0             0   \n",
       "1302                    0          0          0             0   \n",
       "\n",
       "      Layer2Flash_Storage  \n",
       "0                       0  \n",
       "1                       0  \n",
       "3                       0  \n",
       "4                       0  \n",
       "5                       0  \n",
       "...                   ...  \n",
       "1298                    0  \n",
       "1299                    0  \n",
       "1300                    0  \n",
       "1301                    0  \n",
       "1302                    0  \n",
       "\n",
       "[1234 rows x 18 columns]"
      ]
     },
     "execution_count": 589,
     "metadata": {},
     "output_type": "execute_result"
    }
   ],
   "source": [
    "data_sub"
   ]
  },
  {
   "cell_type": "code",
   "execution_count": 590,
   "id": "75b1d9bb",
   "metadata": {
    "ExecuteTime": {
     "end_time": "2023-02-22T06:17:09.910310Z",
     "start_time": "2023-02-22T06:17:09.845312Z"
    }
   },
   "outputs": [],
   "source": [
    "#convert to numeric\n",
    "data_sub[\"first\"] = data_sub[\"first\"].astype(int)\n",
    "data_sub[\"second\"] = data_sub[\"second\"].astype(int)\n",
    "#finalize the columns by keeping value\n",
    "data_sub[\"HDD\"]=(data_sub[\"first\"]*data_sub[\"Layer1HDD\"]+data_sub[\"second\"]*data_sub[\"Layer2HDD\"])\n",
    "data_sub[\"SSD\"]=(data_sub[\"first\"]*data_sub[\"Layer1SSD\"]+data_sub[\"second\"]*data_sub[\"Layer2SSD\"])\n",
    "data_sub[\"Hybrid\"]=(data_sub[\"first\"]*data_sub[\"Layer1Hybrid\"]+data_sub[\"second\"]*data_sub[\"Layer2Hybrid\"])\n",
    "data_sub[\"Flash_Storage\"]=(data_sub[\"first\"]*data_sub[\"Layer1Flash_Storage\"]+data_sub[\"second\"]*data_sub[\"Layer2Flash_Storage\"])\n",
    "#Drop the un required columns\n",
    "data_sub.drop(columns=['first', 'second', 'Layer1HDD', 'Layer1SSD', 'Layer1Hybrid',\n",
    "       'Layer1Flash_Storage', 'Layer2HDD', 'Layer2SSD', 'Layer2Hybrid',\n",
    "       'Layer2Flash_Storage'],inplace=True)"
   ]
  },
  {
   "cell_type": "code",
   "execution_count": 591,
   "id": "c37818a9",
   "metadata": {
    "ExecuteTime": {
     "end_time": "2023-02-22T06:17:10.064309Z",
     "start_time": "2023-02-22T06:17:09.923307Z"
    }
   },
   "outputs": [
    {
     "data": {
      "text/html": [
       "<div>\n",
       "<style scoped>\n",
       "    .dataframe tbody tr th:only-of-type {\n",
       "        vertical-align: middle;\n",
       "    }\n",
       "\n",
       "    .dataframe tbody tr th {\n",
       "        vertical-align: top;\n",
       "    }\n",
       "\n",
       "    .dataframe thead th {\n",
       "        text-align: right;\n",
       "    }\n",
       "</style>\n",
       "<table border=\"1\" class=\"dataframe\">\n",
       "  <thead>\n",
       "    <tr style=\"text-align: right;\">\n",
       "      <th></th>\n",
       "      <th>Company</th>\n",
       "      <th>Cpu</th>\n",
       "      <th>Ram</th>\n",
       "      <th>Memory</th>\n",
       "      <th>Gpu</th>\n",
       "      <th>OpSys</th>\n",
       "      <th>Weight</th>\n",
       "      <th>Price_euros</th>\n",
       "      <th>HDD</th>\n",
       "      <th>SSD</th>\n",
       "      <th>Hybrid</th>\n",
       "      <th>Flash_Storage</th>\n",
       "    </tr>\n",
       "  </thead>\n",
       "  <tbody>\n",
       "    <tr>\n",
       "      <th>0</th>\n",
       "      <td>Apple</td>\n",
       "      <td>Intel Core I5</td>\n",
       "      <td>8</td>\n",
       "      <td>128 SSD</td>\n",
       "      <td>Intel</td>\n",
       "      <td>MacOS</td>\n",
       "      <td>1.37</td>\n",
       "      <td>1339.69</td>\n",
       "      <td>0</td>\n",
       "      <td>128</td>\n",
       "      <td>0</td>\n",
       "      <td>0</td>\n",
       "    </tr>\n",
       "    <tr>\n",
       "      <th>1</th>\n",
       "      <td>Apple</td>\n",
       "      <td>Intel Core I5</td>\n",
       "      <td>8</td>\n",
       "      <td>128 Flash Storage</td>\n",
       "      <td>Intel</td>\n",
       "      <td>MacOS</td>\n",
       "      <td>1.34</td>\n",
       "      <td>898.94</td>\n",
       "      <td>0</td>\n",
       "      <td>0</td>\n",
       "      <td>0</td>\n",
       "      <td>128</td>\n",
       "    </tr>\n",
       "    <tr>\n",
       "      <th>3</th>\n",
       "      <td>Apple</td>\n",
       "      <td>Intel Core I7</td>\n",
       "      <td>16</td>\n",
       "      <td>512 SSD</td>\n",
       "      <td>AMD</td>\n",
       "      <td>MacOS</td>\n",
       "      <td>1.83</td>\n",
       "      <td>2537.45</td>\n",
       "      <td>0</td>\n",
       "      <td>512</td>\n",
       "      <td>0</td>\n",
       "      <td>0</td>\n",
       "    </tr>\n",
       "    <tr>\n",
       "      <th>4</th>\n",
       "      <td>Apple</td>\n",
       "      <td>Intel Core I5</td>\n",
       "      <td>8</td>\n",
       "      <td>256 SSD</td>\n",
       "      <td>Intel</td>\n",
       "      <td>MacOS</td>\n",
       "      <td>1.37</td>\n",
       "      <td>1803.60</td>\n",
       "      <td>0</td>\n",
       "      <td>256</td>\n",
       "      <td>0</td>\n",
       "      <td>0</td>\n",
       "    </tr>\n",
       "    <tr>\n",
       "      <th>5</th>\n",
       "      <td>Acer</td>\n",
       "      <td>AMD</td>\n",
       "      <td>4</td>\n",
       "      <td>0 HDD</td>\n",
       "      <td>AMD</td>\n",
       "      <td>Windows</td>\n",
       "      <td>2.10</td>\n",
       "      <td>400.00</td>\n",
       "      <td>0</td>\n",
       "      <td>0</td>\n",
       "      <td>0</td>\n",
       "      <td>0</td>\n",
       "    </tr>\n",
       "    <tr>\n",
       "      <th>...</th>\n",
       "      <td>...</td>\n",
       "      <td>...</td>\n",
       "      <td>...</td>\n",
       "      <td>...</td>\n",
       "      <td>...</td>\n",
       "      <td>...</td>\n",
       "      <td>...</td>\n",
       "      <td>...</td>\n",
       "      <td>...</td>\n",
       "      <td>...</td>\n",
       "      <td>...</td>\n",
       "      <td>...</td>\n",
       "    </tr>\n",
       "    <tr>\n",
       "      <th>1298</th>\n",
       "      <td>Lenovo</td>\n",
       "      <td>Intel Core I7</td>\n",
       "      <td>4</td>\n",
       "      <td>128 SSD</td>\n",
       "      <td>Intel</td>\n",
       "      <td>Windows</td>\n",
       "      <td>1.80</td>\n",
       "      <td>638.00</td>\n",
       "      <td>0</td>\n",
       "      <td>128</td>\n",
       "      <td>0</td>\n",
       "      <td>0</td>\n",
       "    </tr>\n",
       "    <tr>\n",
       "      <th>1299</th>\n",
       "      <td>Lenovo</td>\n",
       "      <td>Intel Core I7</td>\n",
       "      <td>16</td>\n",
       "      <td>512 SSD</td>\n",
       "      <td>Intel</td>\n",
       "      <td>Windows</td>\n",
       "      <td>1.30</td>\n",
       "      <td>1499.00</td>\n",
       "      <td>0</td>\n",
       "      <td>512</td>\n",
       "      <td>0</td>\n",
       "      <td>0</td>\n",
       "    </tr>\n",
       "    <tr>\n",
       "      <th>1300</th>\n",
       "      <td>Lenovo</td>\n",
       "      <td>Other Intel Types</td>\n",
       "      <td>2</td>\n",
       "      <td>64 Flash Storage</td>\n",
       "      <td>Intel</td>\n",
       "      <td>Windows</td>\n",
       "      <td>1.50</td>\n",
       "      <td>229.00</td>\n",
       "      <td>0</td>\n",
       "      <td>0</td>\n",
       "      <td>0</td>\n",
       "      <td>64</td>\n",
       "    </tr>\n",
       "    <tr>\n",
       "      <th>1301</th>\n",
       "      <td>HP</td>\n",
       "      <td>Intel Core I7</td>\n",
       "      <td>6</td>\n",
       "      <td>1000 HDD</td>\n",
       "      <td>AMD</td>\n",
       "      <td>Windows</td>\n",
       "      <td>2.19</td>\n",
       "      <td>764.00</td>\n",
       "      <td>1000</td>\n",
       "      <td>0</td>\n",
       "      <td>0</td>\n",
       "      <td>0</td>\n",
       "    </tr>\n",
       "    <tr>\n",
       "      <th>1302</th>\n",
       "      <td>Asus</td>\n",
       "      <td>Other Intel Types</td>\n",
       "      <td>4</td>\n",
       "      <td>0 HDD</td>\n",
       "      <td>Intel</td>\n",
       "      <td>Windows</td>\n",
       "      <td>2.20</td>\n",
       "      <td>369.00</td>\n",
       "      <td>0</td>\n",
       "      <td>0</td>\n",
       "      <td>0</td>\n",
       "      <td>0</td>\n",
       "    </tr>\n",
       "  </tbody>\n",
       "</table>\n",
       "<p>1234 rows × 12 columns</p>\n",
       "</div>"
      ],
      "text/plain": [
       "     Company                Cpu  Ram             Memory    Gpu    OpSys  \\\n",
       "0      Apple      Intel Core I5    8            128 SSD  Intel    MacOS   \n",
       "1      Apple      Intel Core I5    8  128 Flash Storage  Intel    MacOS   \n",
       "3      Apple      Intel Core I7   16            512 SSD    AMD    MacOS   \n",
       "4      Apple      Intel Core I5    8            256 SSD  Intel    MacOS   \n",
       "5       Acer                AMD    4              0 HDD    AMD  Windows   \n",
       "...      ...                ...  ...                ...    ...      ...   \n",
       "1298  Lenovo      Intel Core I7    4            128 SSD  Intel  Windows   \n",
       "1299  Lenovo      Intel Core I7   16            512 SSD  Intel  Windows   \n",
       "1300  Lenovo  Other Intel Types    2   64 Flash Storage  Intel  Windows   \n",
       "1301      HP      Intel Core I7    6           1000 HDD    AMD  Windows   \n",
       "1302    Asus  Other Intel Types    4              0 HDD  Intel  Windows   \n",
       "\n",
       "      Weight  Price_euros   HDD  SSD  Hybrid  Flash_Storage  \n",
       "0       1.37      1339.69     0  128       0              0  \n",
       "1       1.34       898.94     0    0       0            128  \n",
       "3       1.83      2537.45     0  512       0              0  \n",
       "4       1.37      1803.60     0  256       0              0  \n",
       "5       2.10       400.00     0    0       0              0  \n",
       "...      ...          ...   ...  ...     ...            ...  \n",
       "1298    1.80       638.00     0  128       0              0  \n",
       "1299    1.30      1499.00     0  512       0              0  \n",
       "1300    1.50       229.00     0    0       0             64  \n",
       "1301    2.19       764.00  1000    0       0              0  \n",
       "1302    2.20       369.00     0    0       0              0  \n",
       "\n",
       "[1234 rows x 12 columns]"
      ]
     },
     "execution_count": 591,
     "metadata": {},
     "output_type": "execute_result"
    }
   ],
   "source": [
    "data_sub"
   ]
  },
  {
   "cell_type": "code",
   "execution_count": 592,
   "id": "94e84d66",
   "metadata": {
    "ExecuteTime": {
     "end_time": "2023-02-22T06:17:10.106323Z",
     "start_time": "2023-02-22T06:17:10.074309Z"
    }
   },
   "outputs": [],
   "source": [
    "data_sub.drop(columns=['Hybrid','Flash_Storage','Memory'],inplace=True)"
   ]
  },
  {
   "cell_type": "code",
   "execution_count": 593,
   "id": "cde019e8",
   "metadata": {
    "ExecuteTime": {
     "end_time": "2023-02-22T06:17:10.385307Z",
     "start_time": "2023-02-22T06:17:10.116311Z"
    }
   },
   "outputs": [
    {
     "data": {
      "text/html": [
       "<div>\n",
       "<style scoped>\n",
       "    .dataframe tbody tr th:only-of-type {\n",
       "        vertical-align: middle;\n",
       "    }\n",
       "\n",
       "    .dataframe tbody tr th {\n",
       "        vertical-align: top;\n",
       "    }\n",
       "\n",
       "    .dataframe thead th {\n",
       "        text-align: right;\n",
       "    }\n",
       "</style>\n",
       "<table border=\"1\" class=\"dataframe\">\n",
       "  <thead>\n",
       "    <tr style=\"text-align: right;\">\n",
       "      <th></th>\n",
       "      <th>Company</th>\n",
       "      <th>Cpu</th>\n",
       "      <th>Ram</th>\n",
       "      <th>Gpu</th>\n",
       "      <th>OpSys</th>\n",
       "      <th>Weight</th>\n",
       "      <th>Price_euros</th>\n",
       "      <th>HDD</th>\n",
       "      <th>SSD</th>\n",
       "    </tr>\n",
       "  </thead>\n",
       "  <tbody>\n",
       "    <tr>\n",
       "      <th>0</th>\n",
       "      <td>Apple</td>\n",
       "      <td>Intel Core I5</td>\n",
       "      <td>8</td>\n",
       "      <td>Intel</td>\n",
       "      <td>MacOS</td>\n",
       "      <td>1.37</td>\n",
       "      <td>1339.69</td>\n",
       "      <td>0</td>\n",
       "      <td>128</td>\n",
       "    </tr>\n",
       "    <tr>\n",
       "      <th>1</th>\n",
       "      <td>Apple</td>\n",
       "      <td>Intel Core I5</td>\n",
       "      <td>8</td>\n",
       "      <td>Intel</td>\n",
       "      <td>MacOS</td>\n",
       "      <td>1.34</td>\n",
       "      <td>898.94</td>\n",
       "      <td>0</td>\n",
       "      <td>0</td>\n",
       "    </tr>\n",
       "    <tr>\n",
       "      <th>3</th>\n",
       "      <td>Apple</td>\n",
       "      <td>Intel Core I7</td>\n",
       "      <td>16</td>\n",
       "      <td>AMD</td>\n",
       "      <td>MacOS</td>\n",
       "      <td>1.83</td>\n",
       "      <td>2537.45</td>\n",
       "      <td>0</td>\n",
       "      <td>512</td>\n",
       "    </tr>\n",
       "    <tr>\n",
       "      <th>4</th>\n",
       "      <td>Apple</td>\n",
       "      <td>Intel Core I5</td>\n",
       "      <td>8</td>\n",
       "      <td>Intel</td>\n",
       "      <td>MacOS</td>\n",
       "      <td>1.37</td>\n",
       "      <td>1803.60</td>\n",
       "      <td>0</td>\n",
       "      <td>256</td>\n",
       "    </tr>\n",
       "    <tr>\n",
       "      <th>5</th>\n",
       "      <td>Acer</td>\n",
       "      <td>AMD</td>\n",
       "      <td>4</td>\n",
       "      <td>AMD</td>\n",
       "      <td>Windows</td>\n",
       "      <td>2.10</td>\n",
       "      <td>400.00</td>\n",
       "      <td>0</td>\n",
       "      <td>0</td>\n",
       "    </tr>\n",
       "    <tr>\n",
       "      <th>...</th>\n",
       "      <td>...</td>\n",
       "      <td>...</td>\n",
       "      <td>...</td>\n",
       "      <td>...</td>\n",
       "      <td>...</td>\n",
       "      <td>...</td>\n",
       "      <td>...</td>\n",
       "      <td>...</td>\n",
       "      <td>...</td>\n",
       "    </tr>\n",
       "    <tr>\n",
       "      <th>1298</th>\n",
       "      <td>Lenovo</td>\n",
       "      <td>Intel Core I7</td>\n",
       "      <td>4</td>\n",
       "      <td>Intel</td>\n",
       "      <td>Windows</td>\n",
       "      <td>1.80</td>\n",
       "      <td>638.00</td>\n",
       "      <td>0</td>\n",
       "      <td>128</td>\n",
       "    </tr>\n",
       "    <tr>\n",
       "      <th>1299</th>\n",
       "      <td>Lenovo</td>\n",
       "      <td>Intel Core I7</td>\n",
       "      <td>16</td>\n",
       "      <td>Intel</td>\n",
       "      <td>Windows</td>\n",
       "      <td>1.30</td>\n",
       "      <td>1499.00</td>\n",
       "      <td>0</td>\n",
       "      <td>512</td>\n",
       "    </tr>\n",
       "    <tr>\n",
       "      <th>1300</th>\n",
       "      <td>Lenovo</td>\n",
       "      <td>Other Intel Types</td>\n",
       "      <td>2</td>\n",
       "      <td>Intel</td>\n",
       "      <td>Windows</td>\n",
       "      <td>1.50</td>\n",
       "      <td>229.00</td>\n",
       "      <td>0</td>\n",
       "      <td>0</td>\n",
       "    </tr>\n",
       "    <tr>\n",
       "      <th>1301</th>\n",
       "      <td>HP</td>\n",
       "      <td>Intel Core I7</td>\n",
       "      <td>6</td>\n",
       "      <td>AMD</td>\n",
       "      <td>Windows</td>\n",
       "      <td>2.19</td>\n",
       "      <td>764.00</td>\n",
       "      <td>1000</td>\n",
       "      <td>0</td>\n",
       "    </tr>\n",
       "    <tr>\n",
       "      <th>1302</th>\n",
       "      <td>Asus</td>\n",
       "      <td>Other Intel Types</td>\n",
       "      <td>4</td>\n",
       "      <td>Intel</td>\n",
       "      <td>Windows</td>\n",
       "      <td>2.20</td>\n",
       "      <td>369.00</td>\n",
       "      <td>0</td>\n",
       "      <td>0</td>\n",
       "    </tr>\n",
       "  </tbody>\n",
       "</table>\n",
       "<p>1234 rows × 9 columns</p>\n",
       "</div>"
      ],
      "text/plain": [
       "     Company                Cpu  Ram    Gpu    OpSys  Weight  Price_euros  \\\n",
       "0      Apple      Intel Core I5    8  Intel    MacOS    1.37      1339.69   \n",
       "1      Apple      Intel Core I5    8  Intel    MacOS    1.34       898.94   \n",
       "3      Apple      Intel Core I7   16    AMD    MacOS    1.83      2537.45   \n",
       "4      Apple      Intel Core I5    8  Intel    MacOS    1.37      1803.60   \n",
       "5       Acer                AMD    4    AMD  Windows    2.10       400.00   \n",
       "...      ...                ...  ...    ...      ...     ...          ...   \n",
       "1298  Lenovo      Intel Core I7    4  Intel  Windows    1.80       638.00   \n",
       "1299  Lenovo      Intel Core I7   16  Intel  Windows    1.30      1499.00   \n",
       "1300  Lenovo  Other Intel Types    2  Intel  Windows    1.50       229.00   \n",
       "1301      HP      Intel Core I7    6    AMD  Windows    2.19       764.00   \n",
       "1302    Asus  Other Intel Types    4  Intel  Windows    2.20       369.00   \n",
       "\n",
       "       HDD  SSD  \n",
       "0        0  128  \n",
       "1        0    0  \n",
       "3        0  512  \n",
       "4        0  256  \n",
       "5        0    0  \n",
       "...    ...  ...  \n",
       "1298     0  128  \n",
       "1299     0  512  \n",
       "1300     0    0  \n",
       "1301  1000    0  \n",
       "1302     0    0  \n",
       "\n",
       "[1234 rows x 9 columns]"
      ]
     },
     "execution_count": 593,
     "metadata": {},
     "output_type": "execute_result"
    }
   ],
   "source": [
    "data_sub"
   ]
  },
  {
   "cell_type": "code",
   "execution_count": 594,
   "id": "91cfeaf1",
   "metadata": {
    "ExecuteTime": {
     "end_time": "2023-02-22T06:17:10.487310Z",
     "start_time": "2023-02-22T06:17:10.400309Z"
    }
   },
   "outputs": [
    {
     "data": {
      "text/html": [
       "<div>\n",
       "<style scoped>\n",
       "    .dataframe tbody tr th:only-of-type {\n",
       "        vertical-align: middle;\n",
       "    }\n",
       "\n",
       "    .dataframe tbody tr th {\n",
       "        vertical-align: top;\n",
       "    }\n",
       "\n",
       "    .dataframe thead th {\n",
       "        text-align: right;\n",
       "    }\n",
       "</style>\n",
       "<table border=\"1\" class=\"dataframe\">\n",
       "  <thead>\n",
       "    <tr style=\"text-align: right;\">\n",
       "      <th></th>\n",
       "      <th>Company</th>\n",
       "      <th>Cpu</th>\n",
       "      <th>Ram</th>\n",
       "      <th>Gpu</th>\n",
       "      <th>OpSys</th>\n",
       "      <th>Weight</th>\n",
       "      <th>Price_euros</th>\n",
       "      <th>HDD</th>\n",
       "      <th>SSD</th>\n",
       "    </tr>\n",
       "  </thead>\n",
       "  <tbody>\n",
       "    <tr>\n",
       "      <th>0</th>\n",
       "      <td>Apple</td>\n",
       "      <td>Intel Core I5</td>\n",
       "      <td>8</td>\n",
       "      <td>Intel</td>\n",
       "      <td>MacOS</td>\n",
       "      <td>1.37</td>\n",
       "      <td>1339.69</td>\n",
       "      <td>0</td>\n",
       "      <td>128</td>\n",
       "    </tr>\n",
       "    <tr>\n",
       "      <th>1</th>\n",
       "      <td>Apple</td>\n",
       "      <td>Intel Core I5</td>\n",
       "      <td>8</td>\n",
       "      <td>Intel</td>\n",
       "      <td>MacOS</td>\n",
       "      <td>1.34</td>\n",
       "      <td>898.94</td>\n",
       "      <td>0</td>\n",
       "      <td>0</td>\n",
       "    </tr>\n",
       "    <tr>\n",
       "      <th>3</th>\n",
       "      <td>Apple</td>\n",
       "      <td>Intel Core I7</td>\n",
       "      <td>16</td>\n",
       "      <td>AMD</td>\n",
       "      <td>MacOS</td>\n",
       "      <td>1.83</td>\n",
       "      <td>2537.45</td>\n",
       "      <td>0</td>\n",
       "      <td>512</td>\n",
       "    </tr>\n",
       "    <tr>\n",
       "      <th>4</th>\n",
       "      <td>Apple</td>\n",
       "      <td>Intel Core I5</td>\n",
       "      <td>8</td>\n",
       "      <td>Intel</td>\n",
       "      <td>MacOS</td>\n",
       "      <td>1.37</td>\n",
       "      <td>1803.60</td>\n",
       "      <td>0</td>\n",
       "      <td>256</td>\n",
       "    </tr>\n",
       "    <tr>\n",
       "      <th>5</th>\n",
       "      <td>Acer</td>\n",
       "      <td>AMD</td>\n",
       "      <td>4</td>\n",
       "      <td>AMD</td>\n",
       "      <td>Windows</td>\n",
       "      <td>2.10</td>\n",
       "      <td>400.00</td>\n",
       "      <td>0</td>\n",
       "      <td>0</td>\n",
       "    </tr>\n",
       "    <tr>\n",
       "      <th>...</th>\n",
       "      <td>...</td>\n",
       "      <td>...</td>\n",
       "      <td>...</td>\n",
       "      <td>...</td>\n",
       "      <td>...</td>\n",
       "      <td>...</td>\n",
       "      <td>...</td>\n",
       "      <td>...</td>\n",
       "      <td>...</td>\n",
       "    </tr>\n",
       "    <tr>\n",
       "      <th>1298</th>\n",
       "      <td>Lenovo</td>\n",
       "      <td>Intel Core I7</td>\n",
       "      <td>4</td>\n",
       "      <td>Intel</td>\n",
       "      <td>Windows</td>\n",
       "      <td>1.80</td>\n",
       "      <td>638.00</td>\n",
       "      <td>0</td>\n",
       "      <td>128</td>\n",
       "    </tr>\n",
       "    <tr>\n",
       "      <th>1299</th>\n",
       "      <td>Lenovo</td>\n",
       "      <td>Intel Core I7</td>\n",
       "      <td>16</td>\n",
       "      <td>Intel</td>\n",
       "      <td>Windows</td>\n",
       "      <td>1.30</td>\n",
       "      <td>1499.00</td>\n",
       "      <td>0</td>\n",
       "      <td>512</td>\n",
       "    </tr>\n",
       "    <tr>\n",
       "      <th>1300</th>\n",
       "      <td>Lenovo</td>\n",
       "      <td>Other Intel Types</td>\n",
       "      <td>2</td>\n",
       "      <td>Intel</td>\n",
       "      <td>Windows</td>\n",
       "      <td>1.50</td>\n",
       "      <td>229.00</td>\n",
       "      <td>0</td>\n",
       "      <td>0</td>\n",
       "    </tr>\n",
       "    <tr>\n",
       "      <th>1301</th>\n",
       "      <td>HP</td>\n",
       "      <td>Intel Core I7</td>\n",
       "      <td>6</td>\n",
       "      <td>AMD</td>\n",
       "      <td>Windows</td>\n",
       "      <td>2.19</td>\n",
       "      <td>764.00</td>\n",
       "      <td>1000</td>\n",
       "      <td>0</td>\n",
       "    </tr>\n",
       "    <tr>\n",
       "      <th>1302</th>\n",
       "      <td>Asus</td>\n",
       "      <td>Other Intel Types</td>\n",
       "      <td>4</td>\n",
       "      <td>Intel</td>\n",
       "      <td>Windows</td>\n",
       "      <td>2.20</td>\n",
       "      <td>369.00</td>\n",
       "      <td>0</td>\n",
       "      <td>0</td>\n",
       "    </tr>\n",
       "  </tbody>\n",
       "</table>\n",
       "<p>1234 rows × 9 columns</p>\n",
       "</div>"
      ],
      "text/plain": [
       "     Company                Cpu  Ram    Gpu    OpSys  Weight  Price_euros  \\\n",
       "0      Apple      Intel Core I5    8  Intel    MacOS    1.37      1339.69   \n",
       "1      Apple      Intel Core I5    8  Intel    MacOS    1.34       898.94   \n",
       "3      Apple      Intel Core I7   16    AMD    MacOS    1.83      2537.45   \n",
       "4      Apple      Intel Core I5    8  Intel    MacOS    1.37      1803.60   \n",
       "5       Acer                AMD    4    AMD  Windows    2.10       400.00   \n",
       "...      ...                ...  ...    ...      ...     ...          ...   \n",
       "1298  Lenovo      Intel Core I7    4  Intel  Windows    1.80       638.00   \n",
       "1299  Lenovo      Intel Core I7   16  Intel  Windows    1.30      1499.00   \n",
       "1300  Lenovo  Other Intel Types    2  Intel  Windows    1.50       229.00   \n",
       "1301      HP      Intel Core I7    6    AMD  Windows    2.19       764.00   \n",
       "1302    Asus  Other Intel Types    4  Intel  Windows    2.20       369.00   \n",
       "\n",
       "       HDD  SSD  \n",
       "0        0  128  \n",
       "1        0    0  \n",
       "3        0  512  \n",
       "4        0  256  \n",
       "5        0    0  \n",
       "...    ...  ...  \n",
       "1298     0  128  \n",
       "1299     0  512  \n",
       "1300     0    0  \n",
       "1301  1000    0  \n",
       "1302     0    0  \n",
       "\n",
       "[1234 rows x 9 columns]"
      ]
     },
     "execution_count": 594,
     "metadata": {},
     "output_type": "execute_result"
    }
   ],
   "source": [
    "data_sub"
   ]
  },
  {
   "cell_type": "code",
   "execution_count": 595,
   "id": "e923979b",
   "metadata": {
    "ExecuteTime": {
     "end_time": "2023-02-22T06:17:10.658307Z",
     "start_time": "2023-02-22T06:17:10.501309Z"
    }
   },
   "outputs": [
    {
     "data": {
      "text/html": [
       "<div>\n",
       "<style scoped>\n",
       "    .dataframe tbody tr th:only-of-type {\n",
       "        vertical-align: middle;\n",
       "    }\n",
       "\n",
       "    .dataframe tbody tr th {\n",
       "        vertical-align: top;\n",
       "    }\n",
       "\n",
       "    .dataframe thead th {\n",
       "        text-align: right;\n",
       "    }\n",
       "</style>\n",
       "<table border=\"1\" class=\"dataframe\">\n",
       "  <thead>\n",
       "    <tr style=\"text-align: right;\">\n",
       "      <th></th>\n",
       "      <th>count</th>\n",
       "      <th>mean</th>\n",
       "      <th>std</th>\n",
       "      <th>min</th>\n",
       "      <th>25%</th>\n",
       "      <th>50%</th>\n",
       "      <th>75%</th>\n",
       "      <th>max</th>\n",
       "    </tr>\n",
       "  </thead>\n",
       "  <tbody>\n",
       "    <tr>\n",
       "      <th>Ram</th>\n",
       "      <td>1234.0</td>\n",
       "      <td>8.497569</td>\n",
       "      <td>5.157259</td>\n",
       "      <td>2.00</td>\n",
       "      <td>4.0000</td>\n",
       "      <td>8.00</td>\n",
       "      <td>8.0</td>\n",
       "      <td>64.0</td>\n",
       "    </tr>\n",
       "    <tr>\n",
       "      <th>Weight</th>\n",
       "      <td>1234.0</td>\n",
       "      <td>2.033695</td>\n",
       "      <td>0.674792</td>\n",
       "      <td>0.69</td>\n",
       "      <td>1.4900</td>\n",
       "      <td>2.04</td>\n",
       "      <td>2.3</td>\n",
       "      <td>4.7</td>\n",
       "    </tr>\n",
       "    <tr>\n",
       "      <th>Price_euros</th>\n",
       "      <td>1234.0</td>\n",
       "      <td>1153.833801</td>\n",
       "      <td>703.326365</td>\n",
       "      <td>174.00</td>\n",
       "      <td>638.8475</td>\n",
       "      <td>999.00</td>\n",
       "      <td>1499.0</td>\n",
       "      <td>6099.0</td>\n",
       "    </tr>\n",
       "    <tr>\n",
       "      <th>HDD</th>\n",
       "      <td>1234.0</td>\n",
       "      <td>352.641815</td>\n",
       "      <td>523.232975</td>\n",
       "      <td>0.00</td>\n",
       "      <td>0.0000</td>\n",
       "      <td>0.00</td>\n",
       "      <td>1000.0</td>\n",
       "      <td>2000.0</td>\n",
       "    </tr>\n",
       "    <tr>\n",
       "      <th>SSD</th>\n",
       "      <td>1234.0</td>\n",
       "      <td>188.524311</td>\n",
       "      <td>188.581932</td>\n",
       "      <td>0.00</td>\n",
       "      <td>0.0000</td>\n",
       "      <td>256.00</td>\n",
       "      <td>256.0</td>\n",
       "      <td>1024.0</td>\n",
       "    </tr>\n",
       "  </tbody>\n",
       "</table>\n",
       "</div>"
      ],
      "text/plain": [
       "              count         mean         std     min       25%     50%  \\\n",
       "Ram          1234.0     8.497569    5.157259    2.00    4.0000    8.00   \n",
       "Weight       1234.0     2.033695    0.674792    0.69    1.4900    2.04   \n",
       "Price_euros  1234.0  1153.833801  703.326365  174.00  638.8475  999.00   \n",
       "HDD          1234.0   352.641815  523.232975    0.00    0.0000    0.00   \n",
       "SSD          1234.0   188.524311  188.581932    0.00    0.0000  256.00   \n",
       "\n",
       "                75%     max  \n",
       "Ram             8.0    64.0  \n",
       "Weight          2.3     4.7  \n",
       "Price_euros  1499.0  6099.0  \n",
       "HDD          1000.0  2000.0  \n",
       "SSD           256.0  1024.0  "
      ]
     },
     "execution_count": 595,
     "metadata": {},
     "output_type": "execute_result"
    }
   ],
   "source": [
    "data_sub.describe().transpose()"
   ]
  },
  {
   "cell_type": "code",
   "execution_count": 599,
   "id": "7aa07d97",
   "metadata": {
    "ExecuteTime": {
     "end_time": "2023-02-22T06:17:38.711032Z",
     "start_time": "2023-02-22T06:17:37.743382Z"
    }
   },
   "outputs": [
    {
     "data": {
      "image/png": "[encoded data removed]",
      "text/plain": [
       "<Figure size 1500x1000 with 2 Axes>"
      ]
     },
     "metadata": {},
     "output_type": "display_data"
    }
   ],
   "source": [
    "fig, ax = plt.subplots(figsize=(15, 10))\n",
    "sns.heatmap(data_sub.corr(), annot=True,ax=ax) \n",
    "plt.show()"
   ]
  },
  {
   "cell_type": "code",
   "execution_count": 601,
   "id": "8769738b",
   "metadata": {
    "ExecuteTime": {
     "end_time": "2023-02-22T06:17:52.630449Z",
     "start_time": "2023-02-22T06:17:52.569429Z"
    }
   },
   "outputs": [
    {
     "data": {
      "text/html": [
       "<div>\n",
       "<style scoped>\n",
       "    .dataframe tbody tr th:only-of-type {\n",
       "        vertical-align: middle;\n",
       "    }\n",
       "\n",
       "    .dataframe tbody tr th {\n",
       "        vertical-align: top;\n",
       "    }\n",
       "\n",
       "    .dataframe thead th {\n",
       "        text-align: right;\n",
       "    }\n",
       "</style>\n",
       "<table border=\"1\" class=\"dataframe\">\n",
       "  <thead>\n",
       "    <tr style=\"text-align: right;\">\n",
       "      <th></th>\n",
       "      <th>Company</th>\n",
       "      <th>Cpu</th>\n",
       "      <th>Ram</th>\n",
       "      <th>Gpu</th>\n",
       "      <th>OpSys</th>\n",
       "      <th>Weight</th>\n",
       "      <th>Price_euros</th>\n",
       "      <th>HDD</th>\n",
       "      <th>SSD</th>\n",
       "    </tr>\n",
       "  </thead>\n",
       "  <tbody>\n",
       "    <tr>\n",
       "      <th>0</th>\n",
       "      <td>Apple</td>\n",
       "      <td>Intel Core I5</td>\n",
       "      <td>8</td>\n",
       "      <td>Intel</td>\n",
       "      <td>MacOS</td>\n",
       "      <td>1.37</td>\n",
       "      <td>1339.69</td>\n",
       "      <td>0</td>\n",
       "      <td>128</td>\n",
       "    </tr>\n",
       "    <tr>\n",
       "      <th>1</th>\n",
       "      <td>Apple</td>\n",
       "      <td>Intel Core I5</td>\n",
       "      <td>8</td>\n",
       "      <td>Intel</td>\n",
       "      <td>MacOS</td>\n",
       "      <td>1.34</td>\n",
       "      <td>898.94</td>\n",
       "      <td>0</td>\n",
       "      <td>0</td>\n",
       "    </tr>\n",
       "    <tr>\n",
       "      <th>3</th>\n",
       "      <td>Apple</td>\n",
       "      <td>Intel Core I7</td>\n",
       "      <td>16</td>\n",
       "      <td>AMD</td>\n",
       "      <td>MacOS</td>\n",
       "      <td>1.83</td>\n",
       "      <td>2537.45</td>\n",
       "      <td>0</td>\n",
       "      <td>512</td>\n",
       "    </tr>\n",
       "    <tr>\n",
       "      <th>4</th>\n",
       "      <td>Apple</td>\n",
       "      <td>Intel Core I5</td>\n",
       "      <td>8</td>\n",
       "      <td>Intel</td>\n",
       "      <td>MacOS</td>\n",
       "      <td>1.37</td>\n",
       "      <td>1803.60</td>\n",
       "      <td>0</td>\n",
       "      <td>256</td>\n",
       "    </tr>\n",
       "    <tr>\n",
       "      <th>5</th>\n",
       "      <td>Acer</td>\n",
       "      <td>AMD</td>\n",
       "      <td>4</td>\n",
       "      <td>AMD</td>\n",
       "      <td>Windows</td>\n",
       "      <td>2.10</td>\n",
       "      <td>400.00</td>\n",
       "      <td>0</td>\n",
       "      <td>0</td>\n",
       "    </tr>\n",
       "    <tr>\n",
       "      <th>...</th>\n",
       "      <td>...</td>\n",
       "      <td>...</td>\n",
       "      <td>...</td>\n",
       "      <td>...</td>\n",
       "      <td>...</td>\n",
       "      <td>...</td>\n",
       "      <td>...</td>\n",
       "      <td>...</td>\n",
       "      <td>...</td>\n",
       "    </tr>\n",
       "    <tr>\n",
       "      <th>1298</th>\n",
       "      <td>Lenovo</td>\n",
       "      <td>Intel Core I7</td>\n",
       "      <td>4</td>\n",
       "      <td>Intel</td>\n",
       "      <td>Windows</td>\n",
       "      <td>1.80</td>\n",
       "      <td>638.00</td>\n",
       "      <td>0</td>\n",
       "      <td>128</td>\n",
       "    </tr>\n",
       "    <tr>\n",
       "      <th>1299</th>\n",
       "      <td>Lenovo</td>\n",
       "      <td>Intel Core I7</td>\n",
       "      <td>16</td>\n",
       "      <td>Intel</td>\n",
       "      <td>Windows</td>\n",
       "      <td>1.30</td>\n",
       "      <td>1499.00</td>\n",
       "      <td>0</td>\n",
       "      <td>512</td>\n",
       "    </tr>\n",
       "    <tr>\n",
       "      <th>1300</th>\n",
       "      <td>Lenovo</td>\n",
       "      <td>Other Intel Types</td>\n",
       "      <td>2</td>\n",
       "      <td>Intel</td>\n",
       "      <td>Windows</td>\n",
       "      <td>1.50</td>\n",
       "      <td>229.00</td>\n",
       "      <td>0</td>\n",
       "      <td>0</td>\n",
       "    </tr>\n",
       "    <tr>\n",
       "      <th>1301</th>\n",
       "      <td>HP</td>\n",
       "      <td>Intel Core I7</td>\n",
       "      <td>6</td>\n",
       "      <td>AMD</td>\n",
       "      <td>Windows</td>\n",
       "      <td>2.19</td>\n",
       "      <td>764.00</td>\n",
       "      <td>1000</td>\n",
       "      <td>0</td>\n",
       "    </tr>\n",
       "    <tr>\n",
       "      <th>1302</th>\n",
       "      <td>Asus</td>\n",
       "      <td>Other Intel Types</td>\n",
       "      <td>4</td>\n",
       "      <td>Intel</td>\n",
       "      <td>Windows</td>\n",
       "      <td>2.20</td>\n",
       "      <td>369.00</td>\n",
       "      <td>0</td>\n",
       "      <td>0</td>\n",
       "    </tr>\n",
       "  </tbody>\n",
       "</table>\n",
       "<p>1234 rows × 9 columns</p>\n",
       "</div>"
      ],
      "text/plain": [
       "     Company                Cpu  Ram    Gpu    OpSys  Weight  Price_euros  \\\n",
       "0      Apple      Intel Core I5    8  Intel    MacOS    1.37      1339.69   \n",
       "1      Apple      Intel Core I5    8  Intel    MacOS    1.34       898.94   \n",
       "3      Apple      Intel Core I7   16    AMD    MacOS    1.83      2537.45   \n",
       "4      Apple      Intel Core I5    8  Intel    MacOS    1.37      1803.60   \n",
       "5       Acer                AMD    4    AMD  Windows    2.10       400.00   \n",
       "...      ...                ...  ...    ...      ...     ...          ...   \n",
       "1298  Lenovo      Intel Core I7    4  Intel  Windows    1.80       638.00   \n",
       "1299  Lenovo      Intel Core I7   16  Intel  Windows    1.30      1499.00   \n",
       "1300  Lenovo  Other Intel Types    2  Intel  Windows    1.50       229.00   \n",
       "1301      HP      Intel Core I7    6    AMD  Windows    2.19       764.00   \n",
       "1302    Asus  Other Intel Types    4  Intel  Windows    2.20       369.00   \n",
       "\n",
       "       HDD  SSD  \n",
       "0        0  128  \n",
       "1        0    0  \n",
       "3        0  512  \n",
       "4        0  256  \n",
       "5        0    0  \n",
       "...    ...  ...  \n",
       "1298     0  128  \n",
       "1299     0  512  \n",
       "1300     0    0  \n",
       "1301  1000    0  \n",
       "1302     0    0  \n",
       "\n",
       "[1234 rows x 9 columns]"
      ]
     },
     "execution_count": 601,
     "metadata": {},
     "output_type": "execute_result"
    }
   ],
   "source": [
    "data_sub"
   ]
  },
  {
   "cell_type": "code",
   "execution_count": 604,
   "id": "441a66b1",
   "metadata": {
    "ExecuteTime": {
     "end_time": "2023-02-22T06:19:36.021127Z",
     "start_time": "2023-02-22T06:19:35.214750Z"
    }
   },
   "outputs": [
    {
     "name": "stderr",
     "output_type": "stream",
     "text": [
      "C:\\Users\\LENOVO\\AppData\\Roaming\\Python\\Python37\\site-packages\\ipykernel_launcher.py:1: UserWarning:\n",
      "\n",
      "\n",
      "\n",
      "`distplot` is a deprecated function and will be removed in seaborn v0.14.0.\n",
      "\n",
      "Please adapt your code to use either `displot` (a figure-level function with\n",
      "similar flexibility) or `histplot` (an axes-level function for histograms).\n",
      "\n",
      "For a guide to updating your code to use the new functions, please see\n",
      "https://gist.github.com/mwaskom/de44147ed2974457ad6372750bbe5751\n",
      "\n",
      "\n"
     ]
    },
    {
     "data": {
      "image/png": "[encoded data removed]",
      "text/plain": [
       "<Figure size 640x480 with 1 Axes>"
      ]
     },
     "metadata": {},
     "output_type": "display_data"
    }
   ],
   "source": [
    "sns.distplot(data_sub.Price_euros)\n",
    "plt.show()"
   ]
  },
  {
   "cell_type": "code",
   "execution_count": 606,
   "id": "c39f1914",
   "metadata": {
    "ExecuteTime": {
     "end_time": "2023-02-22T06:19:50.996186Z",
     "start_time": "2023-02-22T06:19:50.361197Z"
    }
   },
   "outputs": [
    {
     "name": "stderr",
     "output_type": "stream",
     "text": [
      "C:\\Users\\LENOVO\\AppData\\Roaming\\Python\\Python37\\site-packages\\ipykernel_launcher.py:1: UserWarning:\n",
      "\n",
      "\n",
      "\n",
      "`distplot` is a deprecated function and will be removed in seaborn v0.14.0.\n",
      "\n",
      "Please adapt your code to use either `displot` (a figure-level function with\n",
      "similar flexibility) or `histplot` (an axes-level function for histograms).\n",
      "\n",
      "For a guide to updating your code to use the new functions, please see\n",
      "https://gist.github.com/mwaskom/de44147ed2974457ad6372750bbe5751\n",
      "\n",
      "\n"
     ]
    },
    {
     "data": {
      "image/png": "[encoded data removed]",
      "text/plain": [
       "<Figure size 640x480 with 1 Axes>"
      ]
     },
     "metadata": {},
     "output_type": "display_data"
    }
   ],
   "source": [
    "sns.distplot(numpy.log(data_sub.Price_euros))\n",
    "plt.show()"
   ]
  },
  {
   "cell_type": "code",
   "execution_count": 611,
   "id": "e88e1fd2",
   "metadata": {
    "ExecuteTime": {
     "end_time": "2023-02-22T06:32:22.149322Z",
     "start_time": "2023-02-22T06:32:19.606427Z"
    }
   },
   "outputs": [],
   "source": [
    "from sklearn.model_selection import train_test_split\n",
    "# Untuk split data\n",
    "from sklearn.compose import ColumnTransformer\n",
    "# Untuk menerapakan transformer ke setiap kolom\n",
    "from sklearn.pipeline import Pipeline \n",
    "# Untuk merangkai beberapa langkah yang bisa digunakan untuk cross-validasi sambil nyetting macem-macem parameter\n",
    "from sklearn.preprocessing import OneHotEncoder\n",
    "# Untuk mengubah fitur berkategori menjadi numeric\n",
    "from sklearn.metrics import r2_score, mean_absolute_error\n",
    "from sklearn.linear_model import LinearRegression,Ridge,Lasso\n",
    "from sklearn.neighbors import KNeighborsRegressor\n",
    "from sklearn.tree import DecisionTreeRegressor\n",
    "from sklearn.ensemble import RandomForestRegressor,GradientBoostingRegressor,AdaBoostRegressor,ExtraTreesRegressor\n",
    "from sklearn.svm import SVR\n",
    "from xgboost import XGBRegressor # Extreme Gradient Boosting"
   ]
  },
  {
   "cell_type": "code",
   "execution_count": 656,
   "id": "86471766",
   "metadata": {
    "ExecuteTime": {
     "end_time": "2023-02-22T06:56:58.506684Z",
     "start_time": "2023-02-22T06:56:58.491682Z"
    }
   },
   "outputs": [],
   "source": [
    "x = data_sub.drop(\"Price_euros\", axis=1)\n",
    "y = numpy.log(data_sub['Price_euros'])"
   ]
  },
  {
   "cell_type": "code",
   "execution_count": null,
   "id": "a60f3777",
   "metadata": {
    "ExecuteTime": {
     "end_time": "2023-02-22T06:56:58.873673Z",
     "start_time": "2023-02-22T06:56:58.873673Z"
    }
   },
   "outputs": [],
   "source": [
    "x_train, x_test, y_train, y_test = train_test_split(x,y,test_size=0.15, random_state=2)\n",
    "# random_state : Ngendaliin pengacakan yang diterapin ke data sebelum masuk ke split"
   ]
  },
  {
   "cell_type": "code",
   "execution_count": 657,
   "id": "542b065c",
   "metadata": {
    "ExecuteTime": {
     "end_time": "2023-02-22T06:56:59.136403Z",
     "start_time": "2023-02-22T06:56:59.125893Z"
    }
   },
   "outputs": [],
   "source": [
    "step_one = ColumnTransformer(transformers=[\n",
    "    ('col_tnf',OneHotEncoder(sparse=False,drop='first'),[0,1,3,4])\n",
    "    ],remainder='passthrough')"
   ]
  },
  {
   "cell_type": "code",
   "execution_count": 658,
   "id": "b7673aa9",
   "metadata": {
    "ExecuteTime": {
     "end_time": "2023-02-22T06:56:59.493930Z",
     "start_time": "2023-02-22T06:56:59.473924Z"
    }
   },
   "outputs": [
    {
     "data": {
      "text/plain": [
       "ColumnTransformer(remainder='passthrough',\n",
       "                  transformers=[('col_tnf',\n",
       "                                 OneHotEncoder(drop='first', sparse=False),\n",
       "                                 [0, 1, 3, 4])])"
      ]
     },
     "execution_count": 658,
     "metadata": {},
     "output_type": "execute_result"
    }
   ],
   "source": [
    "step_one"
   ]
  },
  {
   "cell_type": "code",
   "execution_count": 659,
   "id": "6411eadb",
   "metadata": {
    "ExecuteTime": {
     "end_time": "2023-02-22T06:56:59.947931Z",
     "start_time": "2023-02-22T06:56:59.936924Z"
    }
   },
   "outputs": [],
   "source": [
    "step_two = RandomForestRegressor(n_estimators=100,\n",
    "\n",
    "random_state=3,\n",
    "\n",
    "max_samples=0.5,\n",
    "\n",
    "max_features=0.75,\n",
    "\n",
    "max_depth=15)"
   ]
  },
  {
   "cell_type": "code",
   "execution_count": 660,
   "id": "df1335c4",
   "metadata": {
    "ExecuteTime": {
     "end_time": "2023-02-22T06:57:00.657426Z",
     "start_time": "2023-02-22T06:57:00.641419Z"
    }
   },
   "outputs": [
    {
     "data": {
      "text/plain": [
       "RandomForestRegressor(max_depth=15, max_features=0.75, max_samples=0.5,\n",
       "                      random_state=3)"
      ]
     },
     "execution_count": 660,
     "metadata": {},
     "output_type": "execute_result"
    }
   ],
   "source": [
    "step_two"
   ]
  },
  {
   "cell_type": "code",
   "execution_count": 661,
   "id": "3b42e12d",
   "metadata": {
    "ExecuteTime": {
     "end_time": "2023-02-22T06:57:01.251963Z",
     "start_time": "2023-02-22T06:57:01.241959Z"
    }
   },
   "outputs": [],
   "source": [
    "pipe = Pipeline([\n",
    "\n",
    "('step_one',step_one),\n",
    "\n",
    "('step_two',step_two)\n",
    "\n",
    "])"
   ]
  },
  {
   "cell_type": "code",
   "execution_count": 662,
   "id": "defd5827",
   "metadata": {
    "ExecuteTime": {
     "end_time": "2023-02-22T06:57:01.773495Z",
     "start_time": "2023-02-22T06:57:01.735489Z"
    }
   },
   "outputs": [
    {
     "data": {
      "text/plain": [
       "Pipeline(steps=[('step_one',\n",
       "                 ColumnTransformer(remainder='passthrough',\n",
       "                                   transformers=[('col_tnf',\n",
       "                                                  OneHotEncoder(drop='first',\n",
       "                                                                sparse=False),\n",
       "                                                  [0, 1, 3, 4])])),\n",
       "                ('step_two',\n",
       "                 RandomForestRegressor(max_depth=15, max_features=0.75,\n",
       "                                       max_samples=0.5, random_state=3))])"
      ]
     },
     "execution_count": 662,
     "metadata": {},
     "output_type": "execute_result"
    }
   ],
   "source": [
    "pipe"
   ]
  },
  {
   "cell_type": "code",
   "execution_count": 663,
   "id": "0fc2484d",
   "metadata": {
    "ExecuteTime": {
     "end_time": "2023-02-22T06:57:03.467819Z",
     "start_time": "2023-02-22T06:57:02.477710Z"
    }
   },
   "outputs": [
    {
     "data": {
      "text/plain": [
       "Pipeline(steps=[('step_one',\n",
       "                 ColumnTransformer(remainder='passthrough',\n",
       "                                   transformers=[('col_tnf',\n",
       "                                                  OneHotEncoder(drop='first',\n",
       "                                                                sparse=False),\n",
       "                                                  [0, 1, 3, 4])])),\n",
       "                ('step_two',\n",
       "                 RandomForestRegressor(max_depth=15, max_features=0.75,\n",
       "                                       max_samples=0.5, random_state=3))])"
      ]
     },
     "execution_count": 663,
     "metadata": {},
     "output_type": "execute_result"
    }
   ],
   "source": [
    "pipe.fit(x_train,y_train)"
   ]
  },
  {
   "cell_type": "code",
   "execution_count": 666,
   "id": "1dcb1b66",
   "metadata": {
    "ExecuteTime": {
     "end_time": "2023-02-22T06:57:58.699232Z",
     "start_time": "2023-02-22T06:57:58.634233Z"
    }
   },
   "outputs": [
    {
     "name": "stdout",
     "output_type": "stream",
     "text": [
      "R2 score 0.8308220044133521\n",
      "MAE 0.1699969169364844\n"
     ]
    }
   ],
   "source": [
    "y_pred = pipe.predict(x_test)\n",
    "print('R2 score',r2_score(y_test,y_pred))\n",
    "print('MAE',mean_absolute_error(y_test,y_pred))"
   ]
  },
  {
   "cell_type": "code",
   "execution_count": 667,
   "id": "2ed8d672",
   "metadata": {
    "ExecuteTime": {
     "end_time": "2023-02-22T06:58:10.618426Z",
     "start_time": "2023-02-22T06:58:10.563381Z"
    }
   },
   "outputs": [
    {
     "data": {
      "text/html": [
       "<div>\n",
       "<style scoped>\n",
       "    .dataframe tbody tr th:only-of-type {\n",
       "        vertical-align: middle;\n",
       "    }\n",
       "\n",
       "    .dataframe tbody tr th {\n",
       "        vertical-align: top;\n",
       "    }\n",
       "\n",
       "    .dataframe thead th {\n",
       "        text-align: right;\n",
       "    }\n",
       "</style>\n",
       "<table border=\"1\" class=\"dataframe\">\n",
       "  <thead>\n",
       "    <tr style=\"text-align: right;\">\n",
       "      <th></th>\n",
       "      <th>Company</th>\n",
       "      <th>Cpu</th>\n",
       "      <th>Ram</th>\n",
       "      <th>Gpu</th>\n",
       "      <th>OpSys</th>\n",
       "      <th>Weight</th>\n",
       "      <th>HDD</th>\n",
       "      <th>SSD</th>\n",
       "    </tr>\n",
       "  </thead>\n",
       "  <tbody>\n",
       "    <tr>\n",
       "      <th>432</th>\n",
       "      <td>Lenovo</td>\n",
       "      <td>Intel Core I3</td>\n",
       "      <td>4</td>\n",
       "      <td>Intel</td>\n",
       "      <td>Windows</td>\n",
       "      <td>1.70</td>\n",
       "      <td>0</td>\n",
       "      <td>128</td>\n",
       "    </tr>\n",
       "    <tr>\n",
       "      <th>1284</th>\n",
       "      <td>Lenovo</td>\n",
       "      <td>Intel Core I7</td>\n",
       "      <td>4</td>\n",
       "      <td>Intel</td>\n",
       "      <td>Windows</td>\n",
       "      <td>1.80</td>\n",
       "      <td>0</td>\n",
       "      <td>128</td>\n",
       "    </tr>\n",
       "    <tr>\n",
       "      <th>500</th>\n",
       "      <td>Asus</td>\n",
       "      <td>Other Intel Types</td>\n",
       "      <td>4</td>\n",
       "      <td>Intel</td>\n",
       "      <td>Windows</td>\n",
       "      <td>1.20</td>\n",
       "      <td>0</td>\n",
       "      <td>0</td>\n",
       "    </tr>\n",
       "    <tr>\n",
       "      <th>54</th>\n",
       "      <td>Acer</td>\n",
       "      <td>Intel Core I3</td>\n",
       "      <td>4</td>\n",
       "      <td>Intel</td>\n",
       "      <td>Windows</td>\n",
       "      <td>2.40</td>\n",
       "      <td>1000</td>\n",
       "      <td>0</td>\n",
       "    </tr>\n",
       "    <tr>\n",
       "      <th>140</th>\n",
       "      <td>Acer</td>\n",
       "      <td>Intel Core I3</td>\n",
       "      <td>4</td>\n",
       "      <td>Nvidia</td>\n",
       "      <td>Windows</td>\n",
       "      <td>3.00</td>\n",
       "      <td>1000</td>\n",
       "      <td>0</td>\n",
       "    </tr>\n",
       "    <tr>\n",
       "      <th>...</th>\n",
       "      <td>...</td>\n",
       "      <td>...</td>\n",
       "      <td>...</td>\n",
       "      <td>...</td>\n",
       "      <td>...</td>\n",
       "      <td>...</td>\n",
       "      <td>...</td>\n",
       "      <td>...</td>\n",
       "    </tr>\n",
       "    <tr>\n",
       "      <th>634</th>\n",
       "      <td>Asus</td>\n",
       "      <td>Other Intel Types</td>\n",
       "      <td>8</td>\n",
       "      <td>Intel</td>\n",
       "      <td>Windows</td>\n",
       "      <td>2.00</td>\n",
       "      <td>1000</td>\n",
       "      <td>0</td>\n",
       "    </tr>\n",
       "    <tr>\n",
       "      <th>143</th>\n",
       "      <td>Toshiba</td>\n",
       "      <td>Intel Core I5</td>\n",
       "      <td>4</td>\n",
       "      <td>Intel</td>\n",
       "      <td>Windows</td>\n",
       "      <td>2.10</td>\n",
       "      <td>0</td>\n",
       "      <td>0</td>\n",
       "    </tr>\n",
       "    <tr>\n",
       "      <th>173</th>\n",
       "      <td>Toshiba</td>\n",
       "      <td>Intel Core I3</td>\n",
       "      <td>4</td>\n",
       "      <td>Intel</td>\n",
       "      <td>Windows</td>\n",
       "      <td>2.00</td>\n",
       "      <td>0</td>\n",
       "      <td>0</td>\n",
       "    </tr>\n",
       "    <tr>\n",
       "      <th>787</th>\n",
       "      <td>Lenovo</td>\n",
       "      <td>Intel Core I7</td>\n",
       "      <td>4</td>\n",
       "      <td>Nvidia</td>\n",
       "      <td>Windows</td>\n",
       "      <td>2.40</td>\n",
       "      <td>1000</td>\n",
       "      <td>0</td>\n",
       "    </tr>\n",
       "    <tr>\n",
       "      <th>1084</th>\n",
       "      <td>Dell</td>\n",
       "      <td>Intel Core I5</td>\n",
       "      <td>8</td>\n",
       "      <td>Intel</td>\n",
       "      <td>Windows</td>\n",
       "      <td>2.18</td>\n",
       "      <td>0</td>\n",
       "      <td>256</td>\n",
       "    </tr>\n",
       "  </tbody>\n",
       "</table>\n",
       "<p>186 rows × 8 columns</p>\n",
       "</div>"
      ],
      "text/plain": [
       "      Company                Cpu  Ram     Gpu    OpSys  Weight   HDD  SSD\n",
       "432    Lenovo      Intel Core I3    4   Intel  Windows    1.70     0  128\n",
       "1284   Lenovo      Intel Core I7    4   Intel  Windows    1.80     0  128\n",
       "500      Asus  Other Intel Types    4   Intel  Windows    1.20     0    0\n",
       "54       Acer      Intel Core I3    4   Intel  Windows    2.40  1000    0\n",
       "140      Acer      Intel Core I3    4  Nvidia  Windows    3.00  1000    0\n",
       "...       ...                ...  ...     ...      ...     ...   ...  ...\n",
       "634      Asus  Other Intel Types    8   Intel  Windows    2.00  1000    0\n",
       "143   Toshiba      Intel Core I5    4   Intel  Windows    2.10     0    0\n",
       "173   Toshiba      Intel Core I3    4   Intel  Windows    2.00     0    0\n",
       "787    Lenovo      Intel Core I7    4  Nvidia  Windows    2.40  1000    0\n",
       "1084     Dell      Intel Core I5    8   Intel  Windows    2.18     0  256\n",
       "\n",
       "[186 rows x 8 columns]"
      ]
     },
     "execution_count": 667,
     "metadata": {},
     "output_type": "execute_result"
    }
   ],
   "source": [
    "x_test"
   ]
  },
  {
   "cell_type": "code",
   "execution_count": 687,
   "id": "1374c105",
   "metadata": {
    "ExecuteTime": {
     "end_time": "2023-02-22T07:25:26.845140Z",
     "start_time": "2023-02-22T07:25:26.831136Z"
    }
   },
   "outputs": [
    {
     "name": "stdout",
     "output_type": "stream",
     "text": [
      "(8,)\n",
      "(1, 8)\n"
     ]
    }
   ],
   "source": [
    "a = numpy.array(['Apple','Intel Core I5', '16','Intel','MacOS','1.70','0','128'])\n",
    "print(a.shape)\n",
    "a = a.reshape(1,8)\n",
    "print(a.shape)"
   ]
  },
  {
   "cell_type": "code",
   "execution_count": 688,
   "id": "b17839dc",
   "metadata": {
    "ExecuteTime": {
     "end_time": "2023-02-22T07:25:27.832988Z",
     "start_time": "2023-02-22T07:25:27.781999Z"
    }
   },
   "outputs": [
    {
     "name": "stderr",
     "output_type": "stream",
     "text": [
      "C:\\Users\\LENOVO\\.conda\\envs\\mlenv\\lib\\site-packages\\sklearn\\base.py:451: UserWarning:\n",
      "\n",
      "X does not have valid feature names, but OneHotEncoder was fitted with feature names\n",
      "\n"
     ]
    },
    {
     "data": {
      "text/plain": [
       "array([7.50583788])"
      ]
     },
     "execution_count": 688,
     "metadata": {},
     "output_type": "execute_result"
    }
   ],
   "source": [
    "pipe.predict(a)"
   ]
  },
  {
   "cell_type": "code",
   "execution_count": 703,
   "id": "2ea631fb",
   "metadata": {
    "ExecuteTime": {
     "end_time": "2023-02-22T07:37:17.591005Z",
     "start_time": "2023-02-22T07:37:17.546999Z"
    }
   },
   "outputs": [
    {
     "name": "stderr",
     "output_type": "stream",
     "text": [
      "C:\\Users\\LENOVO\\.conda\\envs\\mlenv\\lib\\site-packages\\sklearn\\base.py:451: UserWarning:\n",
      "\n",
      "X does not have valid feature names, but OneHotEncoder was fitted with feature names\n",
      "\n"
     ]
    }
   ],
   "source": [
    "harga      = int(np.exp(pipe.predict(a)[0]))\n",
    "harga      = harga*16204\n",
    "prediction = str(harga)"
   ]
  },
  {
   "cell_type": "code",
   "execution_count": 707,
   "id": "f06570bb",
   "metadata": {
    "ExecuteTime": {
     "end_time": "2023-02-22T07:38:02.504911Z",
     "start_time": "2023-02-22T07:38:02.495923Z"
    }
   },
   "outputs": [
    {
     "name": "stdout",
     "output_type": "stream",
     "text": [
      "Harga : Rp 29458872\n"
     ]
    }
   ],
   "source": [
    "print(\"Harga : Rp\",prediction)"
   ]
  },
  {
   "cell_type": "code",
   "execution_count": 708,
   "id": "a739cc07",
   "metadata": {
    "ExecuteTime": {
     "end_time": "2023-02-22T07:40:21.768600Z",
     "start_time": "2023-02-22T07:40:21.453596Z"
    }
   },
   "outputs": [],
   "source": [
    "import pickle\n",
    "data_sub.to_csv(\"data_sub.csv\", index=False)\n",
    "pickle.dump(pipe,open('pipe.pkl','wb'))"
   ]
  }
 ],
 "metadata": {
  "hide_input": false,
  "kernelspec": {
   "display_name": "Python 3 (ipykernel)",
   "language": "python",
   "name": "python3"
  },
  "language_info": {
   "codemirror_mode": {
    "name": "ipython",
    "version": 3
   },
   "file_extension": ".py",
   "mimetype": "text/x-python",
   "name": "python",
   "nbconvert_exporter": "python",
   "pygments_lexer": "ipython3",
   "version": "3.7.5"
  },
  "toc": {
   "base_numbering": 1,
   "nav_menu": {},
   "number_sections": true,
   "sideBar": true,
   "skip_h1_title": false,
   "title_cell": "Table of Contents",
   "title_sidebar": "Contents",
   "toc_cell": true,
   "toc_position": {},
   "toc_section_display": true,
   "toc_window_display": false
  },
  "varInspector": {
   "cols": {
    "lenName": 16,
    "lenType": 16,
    "lenVar": 40
   },
   "kernels_config": {
    "python": {
     "delete_cmd_postfix": "",
     "delete_cmd_prefix": "del ",
     "library": "var_list.py",
     "varRefreshCmd": "print(var_dic_list())"
    },
    "r": {
     "delete_cmd_postfix": ") ",
     "delete_cmd_prefix": "rm(",
     "library": "var_list.r",
     "varRefreshCmd": "cat(var_dic_list()) "
    }
   },
   "types_to_exclude": [
    "module",
    "function",
    "builtin_function_or_method",
    "instance",
    "_Feature"
   ],
   "window_display": false
  }
 },
 "nbformat": 4,
 "nbformat_minor": 5
}
